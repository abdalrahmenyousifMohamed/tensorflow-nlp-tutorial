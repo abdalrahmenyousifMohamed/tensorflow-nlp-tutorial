{
  "nbformat": 4,
  "nbformat_minor": 0,
  "metadata": {
    "accelerator": "GPU",
    "colab": {
      "name": "Named Entity Recognition using BiLSTM-CNN-CRF (2021-12-27).ipynb",
      "provenance": [],
      "machine_shape": "hm"
    },
    "kernelspec": {
      "display_name": "Python 3",
      "name": "python3"
    }
  },
  "cells": [
    {
      "cell_type": "markdown",
      "metadata": {
        "id": "7FrWBlgOqqWf"
      },
      "source": [
        "이 자료는 위키독스 딥 러닝을 이용한 자연어 처리 입문의 BiLSTM + CRF + 문자 임베딩의 튜토리얼 자료입니다."
      ]
    },
    {
      "cell_type": "markdown",
      "metadata": {
        "id": "E2QPT2-kqgWs"
      },
      "source": [
        "링크 : https://wikidocs.net/147219  \n",
        "링크 : https://wikidocs.net/147234  \n",
        "링크 : https://wikidocs.net/147299"
      ]
    },
    {
      "cell_type": "markdown",
      "source": [
        "이 자료는 2021년 12월 27일에 마지막으로 테스트되었습니다."
      ],
      "metadata": {
        "id": "-GpAkY7OQNE1"
      }
    },
    {
      "cell_type": "code",
      "metadata": {
        "colab": {
          "base_uri": "https://localhost:8080/",
          "height": 35
        },
        "id": "BLaXWXiV2ypI",
        "outputId": "eb3155e8-35c4-4705-df87-f8ff1af5294d"
      },
      "source": [
        "import tensorflow as tf\n",
        "tf.__version__"
      ],
      "execution_count": 1,
      "outputs": [
        {
          "output_type": "execute_result",
          "data": {
            "text/plain": [
              "'2.12.0'"
            ],
            "application/vnd.google.colaboratory.intrinsic+json": {
              "type": "string"
            }
          },
          "metadata": {},
          "execution_count": 1
        }
      ]
    },
    {
      "cell_type": "markdown",
      "metadata": {
        "id": "pPthmTBbODpC"
      },
      "source": [
        "# CRF layer 설치"
      ]
    },
    {
      "cell_type": "code",
      "metadata": {
        "colab": {
          "base_uri": "https://localhost:8080/"
        },
        "id": "H9S1I2HIlfAH",
        "outputId": "e3cb37ec-1cbd-42b8-f17c-ccb6d30dc3e1"
      },
      "source": [
        "!pip install keras-crf==0.3.0"
      ],
      "execution_count": 2,
      "outputs": [
        {
          "output_type": "stream",
          "name": "stdout",
          "text": [
            "Looking in indexes: https://pypi.org/simple, https://us-python.pkg.dev/colab-wheels/public/simple/\n",
            "Collecting keras-crf==0.3.0\n",
            "  Downloading keras_crf-0.3.0-py3-none-any.whl (8.3 kB)\n",
            "Requirement already satisfied: tensorflow in /usr/local/lib/python3.10/dist-packages (from keras-crf==0.3.0) (2.12.0)\n",
            "Collecting tensorflow-addons (from keras-crf==0.3.0)\n",
            "  Downloading tensorflow_addons-0.20.0-cp310-cp310-manylinux_2_17_x86_64.manylinux2014_x86_64.whl (591 kB)\n",
            "\u001b[2K     \u001b[90m━━━━━━━━━━━━━━━━━━━━━━━━━━━━━━━━━━━━━━\u001b[0m \u001b[32m591.0/591.0 kB\u001b[0m \u001b[31m11.8 MB/s\u001b[0m eta \u001b[36m0:00:00\u001b[0m\n",
            "\u001b[?25hRequirement already satisfied: absl-py>=1.0.0 in /usr/local/lib/python3.10/dist-packages (from tensorflow->keras-crf==0.3.0) (1.4.0)\n",
            "Requirement already satisfied: astunparse>=1.6.0 in /usr/local/lib/python3.10/dist-packages (from tensorflow->keras-crf==0.3.0) (1.6.3)\n",
            "Requirement already satisfied: flatbuffers>=2.0 in /usr/local/lib/python3.10/dist-packages (from tensorflow->keras-crf==0.3.0) (23.3.3)\n",
            "Requirement already satisfied: gast<=0.4.0,>=0.2.1 in /usr/local/lib/python3.10/dist-packages (from tensorflow->keras-crf==0.3.0) (0.4.0)\n",
            "Requirement already satisfied: google-pasta>=0.1.1 in /usr/local/lib/python3.10/dist-packages (from tensorflow->keras-crf==0.3.0) (0.2.0)\n",
            "Requirement already satisfied: grpcio<2.0,>=1.24.3 in /usr/local/lib/python3.10/dist-packages (from tensorflow->keras-crf==0.3.0) (1.54.0)\n",
            "Requirement already satisfied: h5py>=2.9.0 in /usr/local/lib/python3.10/dist-packages (from tensorflow->keras-crf==0.3.0) (3.8.0)\n",
            "Requirement already satisfied: jax>=0.3.15 in /usr/local/lib/python3.10/dist-packages (from tensorflow->keras-crf==0.3.0) (0.4.8)\n",
            "Requirement already satisfied: keras<2.13,>=2.12.0 in /usr/local/lib/python3.10/dist-packages (from tensorflow->keras-crf==0.3.0) (2.12.0)\n",
            "Requirement already satisfied: libclang>=13.0.0 in /usr/local/lib/python3.10/dist-packages (from tensorflow->keras-crf==0.3.0) (16.0.0)\n",
            "Requirement already satisfied: numpy<1.24,>=1.22 in /usr/local/lib/python3.10/dist-packages (from tensorflow->keras-crf==0.3.0) (1.22.4)\n",
            "Requirement already satisfied: opt-einsum>=2.3.2 in /usr/local/lib/python3.10/dist-packages (from tensorflow->keras-crf==0.3.0) (3.3.0)\n",
            "Requirement already satisfied: packaging in /usr/local/lib/python3.10/dist-packages (from tensorflow->keras-crf==0.3.0) (23.1)\n",
            "Requirement already satisfied: protobuf!=4.21.0,!=4.21.1,!=4.21.2,!=4.21.3,!=4.21.4,!=4.21.5,<5.0.0dev,>=3.20.3 in /usr/local/lib/python3.10/dist-packages (from tensorflow->keras-crf==0.3.0) (3.20.3)\n",
            "Requirement already satisfied: setuptools in /usr/local/lib/python3.10/dist-packages (from tensorflow->keras-crf==0.3.0) (67.7.2)\n",
            "Requirement already satisfied: six>=1.12.0 in /usr/local/lib/python3.10/dist-packages (from tensorflow->keras-crf==0.3.0) (1.16.0)\n",
            "Requirement already satisfied: tensorboard<2.13,>=2.12 in /usr/local/lib/python3.10/dist-packages (from tensorflow->keras-crf==0.3.0) (2.12.2)\n",
            "Requirement already satisfied: tensorflow-estimator<2.13,>=2.12.0 in /usr/local/lib/python3.10/dist-packages (from tensorflow->keras-crf==0.3.0) (2.12.0)\n",
            "Requirement already satisfied: termcolor>=1.1.0 in /usr/local/lib/python3.10/dist-packages (from tensorflow->keras-crf==0.3.0) (2.3.0)\n",
            "Requirement already satisfied: typing-extensions>=3.6.6 in /usr/local/lib/python3.10/dist-packages (from tensorflow->keras-crf==0.3.0) (4.5.0)\n",
            "Requirement already satisfied: wrapt<1.15,>=1.11.0 in /usr/local/lib/python3.10/dist-packages (from tensorflow->keras-crf==0.3.0) (1.14.1)\n",
            "Requirement already satisfied: tensorflow-io-gcs-filesystem>=0.23.1 in /usr/local/lib/python3.10/dist-packages (from tensorflow->keras-crf==0.3.0) (0.32.0)\n",
            "Collecting typeguard<3.0.0,>=2.7 (from tensorflow-addons->keras-crf==0.3.0)\n",
            "  Downloading typeguard-2.13.3-py3-none-any.whl (17 kB)\n",
            "Requirement already satisfied: wheel<1.0,>=0.23.0 in /usr/local/lib/python3.10/dist-packages (from astunparse>=1.6.0->tensorflow->keras-crf==0.3.0) (0.40.0)\n",
            "Requirement already satisfied: ml-dtypes>=0.0.3 in /usr/local/lib/python3.10/dist-packages (from jax>=0.3.15->tensorflow->keras-crf==0.3.0) (0.1.0)\n",
            "Requirement already satisfied: scipy>=1.7 in /usr/local/lib/python3.10/dist-packages (from jax>=0.3.15->tensorflow->keras-crf==0.3.0) (1.10.1)\n",
            "Requirement already satisfied: google-auth<3,>=1.6.3 in /usr/local/lib/python3.10/dist-packages (from tensorboard<2.13,>=2.12->tensorflow->keras-crf==0.3.0) (2.17.3)\n",
            "Requirement already satisfied: google-auth-oauthlib<1.1,>=0.5 in /usr/local/lib/python3.10/dist-packages (from tensorboard<2.13,>=2.12->tensorflow->keras-crf==0.3.0) (1.0.0)\n",
            "Requirement already satisfied: markdown>=2.6.8 in /usr/local/lib/python3.10/dist-packages (from tensorboard<2.13,>=2.12->tensorflow->keras-crf==0.3.0) (3.4.3)\n",
            "Requirement already satisfied: requests<3,>=2.21.0 in /usr/local/lib/python3.10/dist-packages (from tensorboard<2.13,>=2.12->tensorflow->keras-crf==0.3.0) (2.27.1)\n",
            "Requirement already satisfied: tensorboard-data-server<0.8.0,>=0.7.0 in /usr/local/lib/python3.10/dist-packages (from tensorboard<2.13,>=2.12->tensorflow->keras-crf==0.3.0) (0.7.0)\n",
            "Requirement already satisfied: tensorboard-plugin-wit>=1.6.0 in /usr/local/lib/python3.10/dist-packages (from tensorboard<2.13,>=2.12->tensorflow->keras-crf==0.3.0) (1.8.1)\n",
            "Requirement already satisfied: werkzeug>=1.0.1 in /usr/local/lib/python3.10/dist-packages (from tensorboard<2.13,>=2.12->tensorflow->keras-crf==0.3.0) (2.3.0)\n",
            "Requirement already satisfied: cachetools<6.0,>=2.0.0 in /usr/local/lib/python3.10/dist-packages (from google-auth<3,>=1.6.3->tensorboard<2.13,>=2.12->tensorflow->keras-crf==0.3.0) (5.3.0)\n",
            "Requirement already satisfied: pyasn1-modules>=0.2.1 in /usr/local/lib/python3.10/dist-packages (from google-auth<3,>=1.6.3->tensorboard<2.13,>=2.12->tensorflow->keras-crf==0.3.0) (0.3.0)\n",
            "Requirement already satisfied: rsa<5,>=3.1.4 in /usr/local/lib/python3.10/dist-packages (from google-auth<3,>=1.6.3->tensorboard<2.13,>=2.12->tensorflow->keras-crf==0.3.0) (4.9)\n",
            "Requirement already satisfied: requests-oauthlib>=0.7.0 in /usr/local/lib/python3.10/dist-packages (from google-auth-oauthlib<1.1,>=0.5->tensorboard<2.13,>=2.12->tensorflow->keras-crf==0.3.0) (1.3.1)\n",
            "Requirement already satisfied: urllib3<1.27,>=1.21.1 in /usr/local/lib/python3.10/dist-packages (from requests<3,>=2.21.0->tensorboard<2.13,>=2.12->tensorflow->keras-crf==0.3.0) (1.26.15)\n",
            "Requirement already satisfied: certifi>=2017.4.17 in /usr/local/lib/python3.10/dist-packages (from requests<3,>=2.21.0->tensorboard<2.13,>=2.12->tensorflow->keras-crf==0.3.0) (2022.12.7)\n",
            "Requirement already satisfied: charset-normalizer~=2.0.0 in /usr/local/lib/python3.10/dist-packages (from requests<3,>=2.21.0->tensorboard<2.13,>=2.12->tensorflow->keras-crf==0.3.0) (2.0.12)\n",
            "Requirement already satisfied: idna<4,>=2.5 in /usr/local/lib/python3.10/dist-packages (from requests<3,>=2.21.0->tensorboard<2.13,>=2.12->tensorflow->keras-crf==0.3.0) (3.4)\n",
            "Requirement already satisfied: MarkupSafe>=2.1.1 in /usr/local/lib/python3.10/dist-packages (from werkzeug>=1.0.1->tensorboard<2.13,>=2.12->tensorflow->keras-crf==0.3.0) (2.1.2)\n",
            "Requirement already satisfied: pyasn1<0.6.0,>=0.4.6 in /usr/local/lib/python3.10/dist-packages (from pyasn1-modules>=0.2.1->google-auth<3,>=1.6.3->tensorboard<2.13,>=2.12->tensorflow->keras-crf==0.3.0) (0.5.0)\n",
            "Requirement already satisfied: oauthlib>=3.0.0 in /usr/local/lib/python3.10/dist-packages (from requests-oauthlib>=0.7.0->google-auth-oauthlib<1.1,>=0.5->tensorboard<2.13,>=2.12->tensorflow->keras-crf==0.3.0) (3.2.2)\n",
            "Installing collected packages: typeguard, tensorflow-addons, keras-crf\n",
            "Successfully installed keras-crf-0.3.0 tensorflow-addons-0.20.0 typeguard-2.13.3\n"
          ]
        }
      ]
    },
    {
      "cell_type": "code",
      "metadata": {
        "colab": {
          "base_uri": "https://localhost:8080/"
        },
        "id": "329OHwxK-1if",
        "outputId": "16e0a70a-4617-43cc-d266-42bbd7daba3c"
      },
      "source": [
        "# 모델 평가\n",
        "!pip install seqeval"
      ],
      "execution_count": 3,
      "outputs": [
        {
          "output_type": "stream",
          "name": "stdout",
          "text": [
            "Looking in indexes: https://pypi.org/simple, https://us-python.pkg.dev/colab-wheels/public/simple/\n",
            "Collecting seqeval\n",
            "  Downloading seqeval-1.2.2.tar.gz (43 kB)\n",
            "\u001b[2K     \u001b[90m━━━━━━━━━━━━━━━━━━━━━━━━━━━━━━━━━━━━━━━━\u001b[0m \u001b[32m43.6/43.6 kB\u001b[0m \u001b[31m3.2 MB/s\u001b[0m eta \u001b[36m0:00:00\u001b[0m\n",
            "\u001b[?25h  Preparing metadata (setup.py) ... \u001b[?25l\u001b[?25hdone\n",
            "Requirement already satisfied: numpy>=1.14.0 in /usr/local/lib/python3.10/dist-packages (from seqeval) (1.22.4)\n",
            "Requirement already satisfied: scikit-learn>=0.21.3 in /usr/local/lib/python3.10/dist-packages (from seqeval) (1.2.2)\n",
            "Requirement already satisfied: scipy>=1.3.2 in /usr/local/lib/python3.10/dist-packages (from scikit-learn>=0.21.3->seqeval) (1.10.1)\n",
            "Requirement already satisfied: joblib>=1.1.1 in /usr/local/lib/python3.10/dist-packages (from scikit-learn>=0.21.3->seqeval) (1.2.0)\n",
            "Requirement already satisfied: threadpoolctl>=2.0.0 in /usr/local/lib/python3.10/dist-packages (from scikit-learn>=0.21.3->seqeval) (3.1.0)\n",
            "Building wheels for collected packages: seqeval\n",
            "  Building wheel for seqeval (setup.py) ... \u001b[?25l\u001b[?25hdone\n",
            "  Created wheel for seqeval: filename=seqeval-1.2.2-py3-none-any.whl size=16165 sha256=d61b6764c0a224fca473b0ad0e04d6fdfe89872340ade8a6715d20129718693c\n",
            "  Stored in directory: /root/.cache/pip/wheels/1a/67/4a/ad4082dd7dfc30f2abfe4d80a2ed5926a506eb8a972b4767fa\n",
            "Successfully built seqeval\n",
            "Installing collected packages: seqeval\n",
            "Successfully installed seqeval-1.2.2\n"
          ]
        }
      ]
    },
    {
      "cell_type": "code",
      "metadata": {
        "colab": {
          "base_uri": "https://localhost:8080/"
        },
        "id": "L9gruUeWo-tI",
        "outputId": "0e08df9f-a021-424b-8672-0a49de4002f0"
      },
      "source": [
        "!pip list | grep keras-crf"
      ],
      "execution_count": 4,
      "outputs": [
        {
          "output_type": "stream",
          "name": "stdout",
          "text": [
            "keras-crf                     0.3.0\n"
          ]
        }
      ]
    },
    {
      "cell_type": "markdown",
      "metadata": {
        "id": "NqD8wMcd7evE"
      },
      "source": [
        "ner_dataset.csv를 Colab에 업로드하세요."
      ]
    },
    {
      "cell_type": "markdown",
      "metadata": {
        "id": "p7yAfzbN7aXk"
      },
      "source": [
        "# 데이터 전처리"
      ]
    },
    {
      "cell_type": "code",
      "metadata": {
        "id": "BDfQP9b6yXPw"
      },
      "source": [
        "import pandas as pd\n",
        "import numpy as np\n",
        "import matplotlib.pyplot as plt\n",
        "from tensorflow.keras.preprocessing.text import Tokenizer\n",
        "from tensorflow.keras.preprocessing.sequence import pad_sequences\n",
        "from sklearn.model_selection import train_test_split\n",
        "from tensorflow.keras.utils import to_categorical"
      ],
      "execution_count": 5,
      "outputs": []
    },
    {
      "cell_type": "code",
      "metadata": {
        "id": "Qo5Q_PDwycAo",
        "outputId": "db889766-ad46-4091-9d0c-435655bed677",
        "colab": {
          "base_uri": "https://localhost:8080/"
        }
      },
      "source": [
        "import pandas as pd\n",
        "\n",
        "url = 'https://raw.githubusercontent.com/ukairia777/tensorflow-nlp-tutorial/main/12.%20RNN%20Sequence%20Labeling/dataset/ner_dataset.csv'\n",
        "data = pd.read_csv(url, encoding=\"latin1\")\n",
        "\n",
        "# Now you can work with the DataFrame\n",
        "print(data.head())\n"
      ],
      "execution_count": 9,
      "outputs": [
        {
          "output_type": "stream",
          "name": "stdout",
          "text": [
            "    Sentence #           Word  POS Tag\n",
            "0  Sentence: 1      Thousands  NNS   O\n",
            "1          NaN             of   IN   O\n",
            "2          NaN  demonstrators  NNS   O\n",
            "3          NaN           have  VBP   O\n",
            "4          NaN        marched  VBN   O\n"
          ]
        }
      ]
    },
    {
      "cell_type": "code",
      "metadata": {
        "colab": {
          "base_uri": "https://localhost:8080/",
          "height": 204
        },
        "id": "esAWxTIizDtS",
        "outputId": "5d8154ff-44cf-4fc3-f167-b8d56fe24d83"
      },
      "source": [
        "data[:5]"
      ],
      "execution_count": 10,
      "outputs": [
        {
          "output_type": "execute_result",
          "data": {
            "text/plain": [
              "    Sentence #           Word  POS Tag\n",
              "0  Sentence: 1      Thousands  NNS   O\n",
              "1          NaN             of   IN   O\n",
              "2          NaN  demonstrators  NNS   O\n",
              "3          NaN           have  VBP   O\n",
              "4          NaN        marched  VBN   O"
            ],
            "text/html": [
              "\n",
              "  <div id=\"df-6c28297f-2bb8-4ecd-9cfe-41a1c8940428\">\n",
              "    <div class=\"colab-df-container\">\n",
              "      <div>\n",
              "<style scoped>\n",
              "    .dataframe tbody tr th:only-of-type {\n",
              "        vertical-align: middle;\n",
              "    }\n",
              "\n",
              "    .dataframe tbody tr th {\n",
              "        vertical-align: top;\n",
              "    }\n",
              "\n",
              "    .dataframe thead th {\n",
              "        text-align: right;\n",
              "    }\n",
              "</style>\n",
              "<table border=\"1\" class=\"dataframe\">\n",
              "  <thead>\n",
              "    <tr style=\"text-align: right;\">\n",
              "      <th></th>\n",
              "      <th>Sentence #</th>\n",
              "      <th>Word</th>\n",
              "      <th>POS</th>\n",
              "      <th>Tag</th>\n",
              "    </tr>\n",
              "  </thead>\n",
              "  <tbody>\n",
              "    <tr>\n",
              "      <th>0</th>\n",
              "      <td>Sentence: 1</td>\n",
              "      <td>Thousands</td>\n",
              "      <td>NNS</td>\n",
              "      <td>O</td>\n",
              "    </tr>\n",
              "    <tr>\n",
              "      <th>1</th>\n",
              "      <td>NaN</td>\n",
              "      <td>of</td>\n",
              "      <td>IN</td>\n",
              "      <td>O</td>\n",
              "    </tr>\n",
              "    <tr>\n",
              "      <th>2</th>\n",
              "      <td>NaN</td>\n",
              "      <td>demonstrators</td>\n",
              "      <td>NNS</td>\n",
              "      <td>O</td>\n",
              "    </tr>\n",
              "    <tr>\n",
              "      <th>3</th>\n",
              "      <td>NaN</td>\n",
              "      <td>have</td>\n",
              "      <td>VBP</td>\n",
              "      <td>O</td>\n",
              "    </tr>\n",
              "    <tr>\n",
              "      <th>4</th>\n",
              "      <td>NaN</td>\n",
              "      <td>marched</td>\n",
              "      <td>VBN</td>\n",
              "      <td>O</td>\n",
              "    </tr>\n",
              "  </tbody>\n",
              "</table>\n",
              "</div>\n",
              "      <button class=\"colab-df-convert\" onclick=\"convertToInteractive('df-6c28297f-2bb8-4ecd-9cfe-41a1c8940428')\"\n",
              "              title=\"Convert this dataframe to an interactive table.\"\n",
              "              style=\"display:none;\">\n",
              "        \n",
              "  <svg xmlns=\"http://www.w3.org/2000/svg\" height=\"24px\"viewBox=\"0 0 24 24\"\n",
              "       width=\"24px\">\n",
              "    <path d=\"M0 0h24v24H0V0z\" fill=\"none\"/>\n",
              "    <path d=\"M18.56 5.44l.94 2.06.94-2.06 2.06-.94-2.06-.94-.94-2.06-.94 2.06-2.06.94zm-11 1L8.5 8.5l.94-2.06 2.06-.94-2.06-.94L8.5 2.5l-.94 2.06-2.06.94zm10 10l.94 2.06.94-2.06 2.06-.94-2.06-.94-.94-2.06-.94 2.06-2.06.94z\"/><path d=\"M17.41 7.96l-1.37-1.37c-.4-.4-.92-.59-1.43-.59-.52 0-1.04.2-1.43.59L10.3 9.45l-7.72 7.72c-.78.78-.78 2.05 0 2.83L4 21.41c.39.39.9.59 1.41.59.51 0 1.02-.2 1.41-.59l7.78-7.78 2.81-2.81c.8-.78.8-2.07 0-2.86zM5.41 20L4 18.59l7.72-7.72 1.47 1.35L5.41 20z\"/>\n",
              "  </svg>\n",
              "      </button>\n",
              "      \n",
              "  <style>\n",
              "    .colab-df-container {\n",
              "      display:flex;\n",
              "      flex-wrap:wrap;\n",
              "      gap: 12px;\n",
              "    }\n",
              "\n",
              "    .colab-df-convert {\n",
              "      background-color: #E8F0FE;\n",
              "      border: none;\n",
              "      border-radius: 50%;\n",
              "      cursor: pointer;\n",
              "      display: none;\n",
              "      fill: #1967D2;\n",
              "      height: 32px;\n",
              "      padding: 0 0 0 0;\n",
              "      width: 32px;\n",
              "    }\n",
              "\n",
              "    .colab-df-convert:hover {\n",
              "      background-color: #E2EBFA;\n",
              "      box-shadow: 0px 1px 2px rgba(60, 64, 67, 0.3), 0px 1px 3px 1px rgba(60, 64, 67, 0.15);\n",
              "      fill: #174EA6;\n",
              "    }\n",
              "\n",
              "    [theme=dark] .colab-df-convert {\n",
              "      background-color: #3B4455;\n",
              "      fill: #D2E3FC;\n",
              "    }\n",
              "\n",
              "    [theme=dark] .colab-df-convert:hover {\n",
              "      background-color: #434B5C;\n",
              "      box-shadow: 0px 1px 3px 1px rgba(0, 0, 0, 0.15);\n",
              "      filter: drop-shadow(0px 1px 2px rgba(0, 0, 0, 0.3));\n",
              "      fill: #FFFFFF;\n",
              "    }\n",
              "  </style>\n",
              "\n",
              "      <script>\n",
              "        const buttonEl =\n",
              "          document.querySelector('#df-6c28297f-2bb8-4ecd-9cfe-41a1c8940428 button.colab-df-convert');\n",
              "        buttonEl.style.display =\n",
              "          google.colab.kernel.accessAllowed ? 'block' : 'none';\n",
              "\n",
              "        async function convertToInteractive(key) {\n",
              "          const element = document.querySelector('#df-6c28297f-2bb8-4ecd-9cfe-41a1c8940428');\n",
              "          const dataTable =\n",
              "            await google.colab.kernel.invokeFunction('convertToInteractive',\n",
              "                                                     [key], {});\n",
              "          if (!dataTable) return;\n",
              "\n",
              "          const docLinkHtml = 'Like what you see? Visit the ' +\n",
              "            '<a target=\"_blank\" href=https://colab.research.google.com/notebooks/data_table.ipynb>data table notebook</a>'\n",
              "            + ' to learn more about interactive tables.';\n",
              "          element.innerHTML = '';\n",
              "          dataTable['output_type'] = 'display_data';\n",
              "          await google.colab.output.renderOutput(dataTable, element);\n",
              "          const docLink = document.createElement('div');\n",
              "          docLink.innerHTML = docLinkHtml;\n",
              "          element.appendChild(docLink);\n",
              "        }\n",
              "      </script>\n",
              "    </div>\n",
              "  </div>\n",
              "  "
            ]
          },
          "metadata": {},
          "execution_count": 10
        }
      ]
    },
    {
      "cell_type": "code",
      "metadata": {
        "colab": {
          "base_uri": "https://localhost:8080/"
        },
        "id": "31B1kMVYzFMd",
        "outputId": "93209a49-cd29-471a-c609-04b55761eb20"
      },
      "source": [
        "print('데이터프레임 행의 개수 : {}'.format(len(data)))"
      ],
      "execution_count": 11,
      "outputs": [
        {
          "output_type": "stream",
          "name": "stdout",
          "text": [
            "데이터프레임 행의 개수 : 1048575\n"
          ]
        }
      ]
    },
    {
      "cell_type": "code",
      "metadata": {
        "colab": {
          "base_uri": "https://localhost:8080/"
        },
        "id": "5qgElyBDzlXu",
        "outputId": "5aa3d366-8d27-4b50-a5cd-5b5bce2831c4"
      },
      "source": [
        "print('데이터에 Null 값이 있는지 유무 : ' + str(data.isnull().values.any()))"
      ],
      "execution_count": 12,
      "outputs": [
        {
          "output_type": "stream",
          "name": "stdout",
          "text": [
            "데이터에 Null 값이 있는지 유무 : True\n"
          ]
        }
      ]
    },
    {
      "cell_type": "code",
      "metadata": {
        "colab": {
          "base_uri": "https://localhost:8080/"
        },
        "id": "mUKvYcMg3HCH",
        "outputId": "3652929b-1c04-495b-9945-9f564bf2909b"
      },
      "source": [
        "print('어떤 열에 Null값이 있는지 출력')\n",
        "print('==============================')\n",
        "data.isnull().sum()"
      ],
      "execution_count": 13,
      "outputs": [
        {
          "output_type": "stream",
          "name": "stdout",
          "text": [
            "어떤 열에 Null값이 있는지 출력\n",
            "==============================\n"
          ]
        },
        {
          "output_type": "execute_result",
          "data": {
            "text/plain": [
              "Sentence #    1000616\n",
              "Word                0\n",
              "POS                 0\n",
              "Tag                 0\n",
              "dtype: int64"
            ]
          },
          "metadata": {},
          "execution_count": 13
        }
      ]
    },
    {
      "cell_type": "code",
      "metadata": {
        "colab": {
          "base_uri": "https://localhost:8080/"
        },
        "id": "D6V0rIuF3Jiv",
        "outputId": "7c16f3f0-c317-45bf-be4b-469f212291d9"
      },
      "source": [
        "print('sentence # 열의 중복을 제거한 값의 개수 : {}'.format(data['Sentence #'].nunique()))\n",
        "print('Word 열의 중복을 제거한 값의 개수 : {}'.format(data.Word.nunique()))\n",
        "print('Tag 열의 중복을 제거한 값의 개수 : {}'.format(data.Tag.nunique()))"
      ],
      "execution_count": 14,
      "outputs": [
        {
          "output_type": "stream",
          "name": "stdout",
          "text": [
            "sentence # 열의 중복을 제거한 값의 개수 : 47959\n",
            "Word 열의 중복을 제거한 값의 개수 : 35178\n",
            "Tag 열의 중복을 제거한 값의 개수 : 17\n"
          ]
        }
      ]
    },
    {
      "cell_type": "code",
      "metadata": {
        "colab": {
          "base_uri": "https://localhost:8080/"
        },
        "id": "5pb88O9o3LRo",
        "outputId": "3d719a12-ca23-4cb8-e64f-7057d7beec74"
      },
      "source": [
        "print('Tag 열의 각각의 값의 개수 카운트')\n",
        "print('================================')\n",
        "print(data.groupby('Tag').size().reset_index(name='count'))"
      ],
      "execution_count": 15,
      "outputs": [
        {
          "output_type": "stream",
          "name": "stdout",
          "text": [
            "Tag 열의 각각의 값의 개수 카운트\n",
            "================================\n",
            "      Tag   count\n",
            "0   B-art     402\n",
            "1   B-eve     308\n",
            "2   B-geo   37644\n",
            "3   B-gpe   15870\n",
            "4   B-nat     201\n",
            "5   B-org   20143\n",
            "6   B-per   16990\n",
            "7   B-tim   20333\n",
            "8   I-art     297\n",
            "9   I-eve     253\n",
            "10  I-geo    7414\n",
            "11  I-gpe     198\n",
            "12  I-nat      51\n",
            "13  I-org   16784\n",
            "14  I-per   17251\n",
            "15  I-tim    6528\n",
            "16      O  887908\n"
          ]
        }
      ]
    },
    {
      "cell_type": "code",
      "metadata": {
        "id": "kobBX39g3Mfc"
      },
      "source": [
        "data = data.fillna(method=\"ffill\")"
      ],
      "execution_count": 16,
      "outputs": []
    },
    {
      "cell_type": "code",
      "metadata": {
        "colab": {
          "base_uri": "https://localhost:8080/"
        },
        "id": "95-AHZjn3Nso",
        "outputId": "416d2e88-9ab8-41ac-8226-a2d94b6dd837"
      },
      "source": [
        "print(data.tail())"
      ],
      "execution_count": 17,
      "outputs": [
        {
          "output_type": "stream",
          "name": "stdout",
          "text": [
            "              Sentence #       Word  POS Tag\n",
            "1048570  Sentence: 47959       they  PRP   O\n",
            "1048571  Sentence: 47959  responded  VBD   O\n",
            "1048572  Sentence: 47959         to   TO   O\n",
            "1048573  Sentence: 47959        the   DT   O\n",
            "1048574  Sentence: 47959     attack   NN   O\n"
          ]
        }
      ]
    },
    {
      "cell_type": "code",
      "metadata": {
        "colab": {
          "base_uri": "https://localhost:8080/"
        },
        "id": "EOdOzFb43QzV",
        "outputId": "43df0bdc-c53c-418e-c204-d9c30ebdbbdc"
      },
      "source": [
        "print('데이터에 Null 값이 있는지 유무 : ' + str(data.isnull().values.any()))"
      ],
      "execution_count": 18,
      "outputs": [
        {
          "output_type": "stream",
          "name": "stdout",
          "text": [
            "데이터에 Null 값이 있는지 유무 : False\n"
          ]
        }
      ]
    },
    {
      "cell_type": "code",
      "metadata": {
        "colab": {
          "base_uri": "https://localhost:8080/"
        },
        "id": "9ez83REt3TNT",
        "outputId": "c98068a1-f325-4281-97e6-337ad7e3a3aa"
      },
      "source": [
        "data['Word'] = data['Word'].str.lower()\n",
        "print('Word 열의 중복을 제거한 값의 개수 : {}'.format(data.Word.nunique()))"
      ],
      "execution_count": 19,
      "outputs": [
        {
          "output_type": "stream",
          "name": "stdout",
          "text": [
            "Word 열의 중복을 제거한 값의 개수 : 31817\n"
          ]
        }
      ]
    },
    {
      "cell_type": "code",
      "metadata": {
        "colab": {
          "base_uri": "https://localhost:8080/"
        },
        "id": "n1VSrB3z3UeP",
        "outputId": "e2c77032-dbe4-41c0-d50e-3a096b032493"
      },
      "source": [
        "print(data[:5])"
      ],
      "execution_count": 20,
      "outputs": [
        {
          "output_type": "stream",
          "name": "stdout",
          "text": [
            "    Sentence #           Word  POS Tag\n",
            "0  Sentence: 1      thousands  NNS   O\n",
            "1  Sentence: 1             of   IN   O\n",
            "2  Sentence: 1  demonstrators  NNS   O\n",
            "3  Sentence: 1           have  VBP   O\n",
            "4  Sentence: 1        marched  VBN   O\n"
          ]
        }
      ]
    },
    {
      "cell_type": "code",
      "metadata": {
        "colab": {
          "base_uri": "https://localhost:8080/"
        },
        "id": "5v7gEF8u3Vyw",
        "outputId": "1342c787-ec03-4e3e-9f92-aace98cce4d4"
      },
      "source": [
        "func = lambda temp: [(w, t) for w, t in zip(temp[\"Word\"].values.tolist(), temp[\"Tag\"].values.tolist())]\n",
        "tagged_sentences=[t for t in data.groupby(\"Sentence #\").apply(func)]\n",
        "print(\"전체 샘플 개수: {}\".format(len(tagged_sentences)))"
      ],
      "execution_count": 21,
      "outputs": [
        {
          "output_type": "stream",
          "name": "stdout",
          "text": [
            "전체 샘플 개수: 47959\n"
          ]
        }
      ]
    },
    {
      "cell_type": "code",
      "metadata": {
        "colab": {
          "base_uri": "https://localhost:8080/"
        },
        "id": "BP3eD9h53W_D",
        "outputId": "bc9bf2b2-4ca7-450d-de5d-f5ed2437d240"
      },
      "source": [
        "print(tagged_sentences[0]) # 첫번째 샘플 출력"
      ],
      "execution_count": 22,
      "outputs": [
        {
          "output_type": "stream",
          "name": "stdout",
          "text": [
            "[('thousands', 'O'), ('of', 'O'), ('demonstrators', 'O'), ('have', 'O'), ('marched', 'O'), ('through', 'O'), ('london', 'B-geo'), ('to', 'O'), ('protest', 'O'), ('the', 'O'), ('war', 'O'), ('in', 'O'), ('iraq', 'B-geo'), ('and', 'O'), ('demand', 'O'), ('the', 'O'), ('withdrawal', 'O'), ('of', 'O'), ('british', 'B-gpe'), ('troops', 'O'), ('from', 'O'), ('that', 'O'), ('country', 'O'), ('.', 'O')]\n"
          ]
        }
      ]
    },
    {
      "cell_type": "code",
      "metadata": {
        "id": "BDIr2WoF3YKu"
      },
      "source": [
        "sentences, ner_tags = [], [] \n",
        "for tagged_sentence in tagged_sentences: # 47,959개의 문장 샘플을 1개씩 불러온다.\n",
        "    sentence, tag_info = zip(*tagged_sentence) # 각 샘플에서 단어들은 sentence에 개체명 태깅 정보들은 tag_info에 저장.\n",
        "    sentences.append(list(sentence)) # 각 샘플에서 단어 정보만 저장한다.\n",
        "    ner_tags.append(list(tag_info)) # 각 샘플에서 개체명 태깅 정보만 저장한다."
      ],
      "execution_count": 23,
      "outputs": []
    },
    {
      "cell_type": "code",
      "metadata": {
        "colab": {
          "base_uri": "https://localhost:8080/"
        },
        "id": "L0Qcw-VN3aZp",
        "outputId": "d30fe340-c5f8-400e-d1fd-e4677ac6e85f"
      },
      "source": [
        "print(sentences[0])\n",
        "print(ner_tags[0])"
      ],
      "execution_count": 24,
      "outputs": [
        {
          "output_type": "stream",
          "name": "stdout",
          "text": [
            "['thousands', 'of', 'demonstrators', 'have', 'marched', 'through', 'london', 'to', 'protest', 'the', 'war', 'in', 'iraq', 'and', 'demand', 'the', 'withdrawal', 'of', 'british', 'troops', 'from', 'that', 'country', '.']\n",
            "['O', 'O', 'O', 'O', 'O', 'O', 'B-geo', 'O', 'O', 'O', 'O', 'O', 'B-geo', 'O', 'O', 'O', 'O', 'O', 'B-gpe', 'O', 'O', 'O', 'O', 'O']\n"
          ]
        }
      ]
    },
    {
      "cell_type": "code",
      "metadata": {
        "colab": {
          "base_uri": "https://localhost:8080/"
        },
        "id": "zLglFWkC3blL",
        "outputId": "c0fed434-c4a2-4ce8-a04f-f97a658d92b9"
      },
      "source": [
        "print(sentences[98])\n",
        "print(ner_tags[98])"
      ],
      "execution_count": 25,
      "outputs": [
        {
          "output_type": "stream",
          "name": "stdout",
          "text": [
            "['she', 'had', 'once', 'received', 'a', 'kidney', 'transplant', '.']\n",
            "['O', 'O', 'O', 'O', 'O', 'O', 'O', 'O']\n"
          ]
        }
      ]
    },
    {
      "cell_type": "code",
      "metadata": {
        "colab": {
          "base_uri": "https://localhost:8080/",
          "height": 483
        },
        "id": "tVvW72m63c0L",
        "outputId": "ea850545-ea05-4989-fba0-5081fb8de729"
      },
      "source": [
        "print('샘플의 최대 길이 : %d' % max(len(l) for l in sentences))\n",
        "print('샘플의 평균 길이 : %f' % (sum(map(len, sentences))/len(sentences)))\n",
        "plt.hist([len(s) for s in sentences], bins=50)\n",
        "plt.xlabel('length of samples')\n",
        "plt.ylabel('number of samples')\n",
        "plt.show()"
      ],
      "execution_count": 26,
      "outputs": [
        {
          "output_type": "stream",
          "name": "stdout",
          "text": [
            "샘플의 최대 길이 : 104\n",
            "샘플의 평균 길이 : 21.863988\n"
          ]
        },
        {
          "output_type": "display_data",
          "data": {
            "text/plain": [
              "<Figure size 640x480 with 1 Axes>"
            ],
            "image/png": "[encoded data removed]"
          },
          "metadata": {}
        }
      ]
    },
    {
      "cell_type": "code",
      "metadata": {
        "id": "Y1Vj7idf3d6X"
      },
      "source": [
        "src_tokenizer = Tokenizer(oov_token='OOV') # 모든 단어를 사용하지만 인덱스 1에는 단어 'OOV'를 할당한다.\n",
        "src_tokenizer.fit_on_texts(sentences)\n",
        "tar_tokenizer = Tokenizer(lower=False) # 태깅 정보들은 내부적으로 대문자를 유지한채로 저장\n",
        "tar_tokenizer.fit_on_texts(ner_tags)"
      ],
      "execution_count": 27,
      "outputs": []
    },
    {
      "cell_type": "code",
      "metadata": {
        "colab": {
          "base_uri": "https://localhost:8080/"
        },
        "id": "-KrEtQ3j3fTk",
        "outputId": "5bc48355-652e-42cc-cd72-c27617493d19"
      },
      "source": [
        "vocab_size = len(src_tokenizer.word_index) + 1\n",
        "tag_size = len(tar_tokenizer.word_index) + 1\n",
        "print('단어 집합의 크기 : {}'.format(vocab_size))\n",
        "print('개체명 태깅 정보 집합의 크기 : {}'.format(tag_size))"
      ],
      "execution_count": 28,
      "outputs": [
        {
          "output_type": "stream",
          "name": "stdout",
          "text": [
            "단어 집합의 크기 : 31819\n",
            "개체명 태깅 정보 집합의 크기 : 18\n"
          ]
        }
      ]
    },
    {
      "cell_type": "code",
      "metadata": {
        "colab": {
          "base_uri": "https://localhost:8080/"
        },
        "id": "9Uir00Gn3nv4",
        "outputId": "06eafde7-171e-42d3-a77e-223af1f56902"
      },
      "source": [
        "print('단어 OOV의 인덱스 : {}'.format(src_tokenizer.word_index['take']))"
      ],
      "execution_count": 35,
      "outputs": [
        {
          "output_type": "stream",
          "name": "stdout",
          "text": [
            "단어 OOV의 인덱스 : 300\n"
          ]
        }
      ]
    },
    {
      "cell_type": "code",
      "metadata": {
        "id": "CbThZwgm3pIy"
      },
      "source": [
        "X_data = src_tokenizer.texts_to_sequences(sentences)\n",
        "y_data = tar_tokenizer.texts_to_sequences(ner_tags)"
      ],
      "execution_count": 30,
      "outputs": []
    },
    {
      "cell_type": "code",
      "metadata": {
        "colab": {
          "base_uri": "https://localhost:8080/"
        },
        "id": "8KW1_b7v3qW-",
        "outputId": "579fc697-02d8-4d2a-d7d2-c794c96e76ff"
      },
      "source": [
        "print(X_data[0])\n",
        "print(y_data[0])"
      ],
      "execution_count": 31,
      "outputs": [
        {
          "output_type": "stream",
          "name": "stdout",
          "text": [
            "[254, 6, 967, 16, 1795, 238, 468, 7, 523, 2, 129, 5, 61, 9, 571, 2, 833, 6, 186, 90, 22, 15, 56, 3]\n",
            "[1, 1, 1, 1, 1, 1, 2, 1, 1, 1, 1, 1, 2, 1, 1, 1, 1, 1, 8, 1, 1, 1, 1, 1]\n"
          ]
        }
      ]
    },
    {
      "cell_type": "code",
      "source": [
        "src_tokenizer.index_word[1]"
      ],
      "metadata": {
        "id": "lZUB_2gXcHNs",
        "outputId": "cadaac11-634b-4811-a704-1ebf24671f56",
        "colab": {
          "base_uri": "https://localhost:8080/",
          "height": 35
        }
      },
      "execution_count": 39,
      "outputs": [
        {
          "output_type": "execute_result",
          "data": {
            "text/plain": [
              "'OOV'"
            ],
            "application/vnd.google.colaboratory.intrinsic+json": {
              "type": "string"
            }
          },
          "metadata": {},
          "execution_count": 39
        }
      ]
    },
    {
      "cell_type": "code",
      "metadata": {
        "id": "FsKckwN-3rh3"
      },
      "source": [
        "word_to_index = src_tokenizer.word_index\n",
        "index_to_word = src_tokenizer.index_word\n",
        "ner_to_index = tar_tokenizer.word_index\n",
        "index_to_ner = tar_tokenizer.index_word\n",
        "index_to_ner[0] = 'PAD'"
      ],
      "execution_count": 32,
      "outputs": []
    },
    {
      "cell_type": "code",
      "metadata": {
        "colab": {
          "base_uri": "https://localhost:8080/"
        },
        "id": "IFmQxwzW3uMO",
        "outputId": "eb464e6c-d370-4db6-ae8a-a261a532a7ed"
      },
      "source": [
        "print(index_to_ner)"
      ],
      "execution_count": 33,
      "outputs": [
        {
          "output_type": "stream",
          "name": "stdout",
          "text": [
            "{1: 'O', 2: 'B-geo', 3: 'B-tim', 4: 'B-org', 5: 'I-per', 6: 'B-per', 7: 'I-org', 8: 'B-gpe', 9: 'I-geo', 10: 'I-tim', 11: 'B-art', 12: 'B-eve', 13: 'I-art', 14: 'I-eve', 15: 'B-nat', 16: 'I-gpe', 17: 'I-nat', 0: 'PAD'}\n"
          ]
        }
      ]
    },
    {
      "cell_type": "code",
      "metadata": {
        "colab": {
          "base_uri": "https://localhost:8080/"
        },
        "id": "n4ySMUSt3vY5",
        "outputId": "93f2a721-b032-4859-fb0c-c2767ace9398"
      },
      "source": [
        "decoded = []\n",
        "for index in X_data[0] : # 첫번째 샘플 안의 인덱스들에 대해서\n",
        "    decoded.append(index_to_word[index]) # 다시 단어로 변환\n",
        "\n",
        "print('기존의 문장 : {}'.format(sentences[0]))\n",
        "print('디코딩 문장 : {}'.format(decoded))"
      ],
      "execution_count": 40,
      "outputs": [
        {
          "output_type": "stream",
          "name": "stdout",
          "text": [
            "기존의 문장 : ['thousands', 'of', 'demonstrators', 'have', 'marched', 'through', 'london', 'to', 'protest', 'the', 'war', 'in', 'iraq', 'and', 'demand', 'the', 'withdrawal', 'of', 'british', 'troops', 'from', 'that', 'country', '.']\n",
            "디코딩 문장 : ['thousands', 'of', 'demonstrators', 'have', 'marched', 'through', 'london', 'to', 'protest', 'the', 'war', 'in', 'iraq', 'and', 'demand', 'the', 'withdrawal', 'of', 'british', 'troops', 'from', 'that', 'country', '.']\n"
          ]
        }
      ]
    },
    {
      "cell_type": "code",
      "metadata": {
        "id": "9mZDlPqo3wlX"
      },
      "source": [
        "max_len = 70\n",
        "X_data = pad_sequences(X_data, padding='post', maxlen=max_len)\n",
        "y_data = pad_sequences(y_data, padding='post', maxlen=max_len)"
      ],
      "execution_count": 41,
      "outputs": []
    },
    {
      "cell_type": "code",
      "metadata": {
        "colab": {
          "base_uri": "https://localhost:8080/"
        },
        "id": "SyB_WRor7S0Q",
        "outputId": "3b9d6d0e-e92e-4eab-efca-8148eaaadfae"
      },
      "source": [
        "print(X_data.shape)\n",
        "print(y_data.shape)"
      ],
      "execution_count": 42,
      "outputs": [
        {
          "output_type": "stream",
          "name": "stdout",
          "text": [
            "(47959, 70)\n",
            "(47959, 70)\n"
          ]
        }
      ]
    },
    {
      "cell_type": "code",
      "metadata": {
        "id": "gJtU5Oz03zNW"
      },
      "source": [
        "X_train, X_test, y_train_int, y_test_int = train_test_split(X_data, y_data, test_size=.2, random_state=777)"
      ],
      "execution_count": 43,
      "outputs": []
    },
    {
      "cell_type": "code",
      "source": [
        "np.unique(y_train_int)"
      ],
      "metadata": {
        "id": "7vEFJzyydE64",
        "outputId": "9de13a31-ab2e-49b6-bb0a-0cf4a7e4cf71",
        "colab": {
          "base_uri": "https://localhost:8080/"
        }
      },
      "execution_count": 50,
      "outputs": [
        {
          "output_type": "execute_result",
          "data": {
            "text/plain": [
              "array([ 0,  1,  2,  3,  4,  5,  6,  7,  8,  9, 10, 11, 12, 13, 14, 15, 16,\n",
              "       17], dtype=int32)"
            ]
          },
          "metadata": {},
          "execution_count": 50
        }
      ]
    },
    {
      "cell_type": "code",
      "metadata": {
        "id": "9FfY0d5f30Qv"
      },
      "source": [
        "y_train = to_categorical(y_train_int, num_classes=tag_size)\n",
        "y_test = to_categorical(y_test_int, num_classes=tag_size)"
      ],
      "execution_count": 44,
      "outputs": []
    },
    {
      "cell_type": "code",
      "source": [
        "print('훈련 샘플 문장의 크기 : {}'.format(X_train.shape))\n",
        "print('훈련 샘플 레이블(정수 인코딩)의 크기 : {}'.format(y_train_int.shape))\n",
        "print('훈련 샘플 레이블(원-핫 인코딩)의 크기 : {}'.format(y_train.shape))\n",
        "print('테스트 샘플 문장의 크기 : {}'.format(X_test.shape))\n",
        "print('테스트 샘플 레이블(정수 인코딩)의 크기 : {}'.format(y_test_int.shape))\n",
        "print('테스트 샘플 레이블(원-핫 인코딩)의 크기 : {}'.format(y_test.shape))"
      ],
      "metadata": {
        "colab": {
          "base_uri": "https://localhost:8080/"
        },
        "id": "Npq4bXUA7V8k",
        "outputId": "44126a3d-0ddd-46ae-f11e-5a025415ac2b"
      },
      "execution_count": 45,
      "outputs": [
        {
          "output_type": "stream",
          "name": "stdout",
          "text": [
            "훈련 샘플 문장의 크기 : (38367, 70)\n",
            "훈련 샘플 레이블(정수 인코딩)의 크기 : (38367, 70)\n",
            "훈련 샘플 레이블(원-핫 인코딩)의 크기 : (38367, 70, 18)\n",
            "테스트 샘플 문장의 크기 : (9592, 70)\n",
            "테스트 샘플 레이블(정수 인코딩)의 크기 : (9592, 70)\n",
            "테스트 샘플 레이블(원-핫 인코딩)의 크기 : (9592, 70, 18)\n"
          ]
        }
      ]
    },
    {
      "cell_type": "code",
      "source": [
        "y_train[0][0]"
      ],
      "metadata": {
        "id": "wAC3Ph0bdmRo",
        "outputId": "ad3a0364-644b-4da5-9f85-4e661b429e97",
        "colab": {
          "base_uri": "https://localhost:8080/"
        }
      },
      "execution_count": 52,
      "outputs": [
        {
          "output_type": "execute_result",
          "data": {
            "text/plain": [
              "array([0., 1., 0., 0., 0., 0., 0., 0., 0., 0., 0., 0., 0., 0., 0., 0., 0.,\n",
              "       0.], dtype=float32)"
            ]
          },
          "metadata": {},
          "execution_count": 52
        }
      ]
    },
    {
      "cell_type": "markdown",
      "metadata": {
        "id": "c9maF6Hg7ngI"
      },
      "source": [
        "# char 정보를 사용하기 위한 추가 전처리"
      ]
    },
    {
      "cell_type": "code",
      "metadata": {
        "colab": {
          "base_uri": "https://localhost:8080/"
        },
        "id": "UAmtu5LG4m-2",
        "outputId": "72abb9ea-605d-4c3a-e1ff-80013aff4249"
      },
      "source": [
        "# char_vocab 만들기\n",
        "words = list(set(data[\"Word\"].values))\n",
        "chars = set([w_i for w in words for w_i in w])\n",
        "chars = sorted(list(chars))\n",
        "print(chars)"
      ],
      "execution_count": 46,
      "outputs": [
        {
          "output_type": "stream",
          "name": "stdout",
          "text": [
            "['!', '\"', '#', '$', '%', '&', \"'\", '(', ')', '+', ',', '-', '.', '/', '0', '1', '2', '3', '4', '5', '6', '7', '8', '9', ':', ';', '?', '@', '[', ']', '_', '`', 'a', 'b', 'c', 'd', 'e', 'f', 'g', 'h', 'i', 'j', 'k', 'l', 'm', 'n', 'o', 'p', 'q', 'r', 's', 't', 'u', 'v', 'w', 'x', 'y', 'z', '~', '\\x85', '\\x91', '\\x92', '\\x93', '\\x94', '\\x96', '\\x97', '\\xa0', '°', 'é', 'ë', 'ö', 'ü']\n"
          ]
        }
      ]
    },
    {
      "cell_type": "code",
      "source": [
        "list(set(data[\"Word\"].values))"
      ],
      "metadata": {
        "id": "jyu14jQkcil-",
        "outputId": "fd560375-0956-4270-e3c9-4fde88f235a6",
        "colab": {
          "base_uri": "https://localhost:8080/"
        }
      },
      "execution_count": 54,
      "outputs": [
        {
          "output_type": "execute_result",
          "data": {
            "text/plain": [
              "['hounds',\n",
              " 'switching',\n",
              " '82-year-old',\n",
              " '1498',\n",
              " 'toufik',\n",
              " 'hague-based',\n",
              " 'hierarchy',\n",
              " 'predominately',\n",
              " 'showcase',\n",
              " 'integrationist',\n",
              " 'larger-than-normal',\n",
              " 'turin',\n",
              " 'cone',\n",
              " 'yes',\n",
              " 'ali',\n",
              " 'salvage',\n",
              " 'jump',\n",
              " 'degradation',\n",
              " \"'d\",\n",
              " 'hazelnuts',\n",
              " 'reported',\n",
              " 'shooter',\n",
              " 'code',\n",
              " 'publishing',\n",
              " 'tusks',\n",
              " 'bombay',\n",
              " 'diet',\n",
              " 'paraded',\n",
              " 'malfunctioned',\n",
              " 'islamic',\n",
              " 'auditing',\n",
              " 'collects',\n",
              " 'egyptian-owned',\n",
              " '57',\n",
              " 'propped',\n",
              " 'friendship',\n",
              " 'citroen',\n",
              " 'paris-based',\n",
              " 'management',\n",
              " 'misrule',\n",
              " 'mimics',\n",
              " 'affairs',\n",
              " 'demonstrating',\n",
              " 'disillusioned',\n",
              " '392',\n",
              " 'nampo',\n",
              " 'one-ninth',\n",
              " 'loopholes',\n",
              " 'industrious',\n",
              " 'pacers',\n",
              " 'cent',\n",
              " 'skyline',\n",
              " 'alligators',\n",
              " 'deepened',\n",
              " 'bengalis',\n",
              " 'conquest',\n",
              " 'promoting',\n",
              " 'mansour',\n",
              " 'vorotan',\n",
              " 'deregulation',\n",
              " 'prison',\n",
              " 'warheads',\n",
              " 'timex',\n",
              " 'postage',\n",
              " 'hold',\n",
              " 'man-made',\n",
              " 'spotted',\n",
              " 'fascinate',\n",
              " 'anti-american',\n",
              " 'son-in-law',\n",
              " 'unpredictable',\n",
              " 'dissatisfied',\n",
              " 'u.n.-supervised',\n",
              " 'anticorruption',\n",
              " 'regulation',\n",
              " 'ambassador-at-large',\n",
              " '1,31,000',\n",
              " 'pattle',\n",
              " 'obstruct',\n",
              " 'mars',\n",
              " 'u.s.-brokered',\n",
              " 'pashtun',\n",
              " 'séances',\n",
              " 'harmful',\n",
              " 'english',\n",
              " 'andaman',\n",
              " 'victimize',\n",
              " 'menoufia',\n",
              " 'osce',\n",
              " 'beirut',\n",
              " 'intelligent',\n",
              " 'suburb',\n",
              " 'port',\n",
              " 'korean-flagged',\n",
              " 'charcoal-burner',\n",
              " 'waterworks',\n",
              " 'sebastian',\n",
              " 'eilat',\n",
              " '64.97',\n",
              " 'gateway',\n",
              " 'pierce',\n",
              " 'minorities',\n",
              " 'subsistence-based',\n",
              " 'faced',\n",
              " 'wajama',\n",
              " 'co-sponsored',\n",
              " 'icelanders',\n",
              " 'complains',\n",
              " 'conscious',\n",
              " 'bashir',\n",
              " 'murphy',\n",
              " '1995',\n",
              " 'warmup',\n",
              " 'squeegee',\n",
              " 'samuels',\n",
              " 'recreation',\n",
              " 'epidemic',\n",
              " 'military',\n",
              " 'delivering',\n",
              " 'schops',\n",
              " 'relax',\n",
              " 'barron',\n",
              " 'paramilitaries',\n",
              " 'group-b',\n",
              " 'characterized',\n",
              " 'chairs',\n",
              " 'eels',\n",
              " '630',\n",
              " 'corporations',\n",
              " '489',\n",
              " 'torchbearer',\n",
              " 'ruble',\n",
              " 'unhurt',\n",
              " '8956-kilometer',\n",
              " 'monfils',\n",
              " 'kadirgamar',\n",
              " 'taino',\n",
              " 'equipped',\n",
              " 'detached',\n",
              " 'scientists',\n",
              " 'coastline',\n",
              " 'leading',\n",
              " 'mich.-based',\n",
              " 'regulating',\n",
              " 'brokerage',\n",
              " 'sooner',\n",
              " 'laissez-faire',\n",
              " 'peruvian',\n",
              " 'durbin',\n",
              " 'mid-2008',\n",
              " 'rails',\n",
              " '64.35',\n",
              " 'understandable',\n",
              " 'contaminate',\n",
              " 'technology-intensive',\n",
              " 'breach',\n",
              " 'resonated',\n",
              " 'moinuddin',\n",
              " 'sunnis',\n",
              " 'reign',\n",
              " '105',\n",
              " 'taliban-led',\n",
              " 'developing',\n",
              " 'eisenman',\n",
              " 'mortal',\n",
              " 'stockhlom',\n",
              " 'assassin',\n",
              " 'undetected',\n",
              " 'roseneft',\n",
              " 'jama',\n",
              " 'sasa',\n",
              " 'evolved',\n",
              " 'qabail',\n",
              " 'destinations',\n",
              " 'cottage',\n",
              " 'ground',\n",
              " 'turf',\n",
              " 'space.com',\n",
              " 'nigerien',\n",
              " '79.43',\n",
              " 'ordina',\n",
              " 'device',\n",
              " 'whichever',\n",
              " '104.1',\n",
              " 'crimea',\n",
              " 'denials',\n",
              " 'plotter',\n",
              " 'exploitation',\n",
              " 'betancourt',\n",
              " 'plant-eating',\n",
              " 'citizens',\n",
              " 'teams',\n",
              " 'farah',\n",
              " 'majmaah',\n",
              " '1,500',\n",
              " 'safin',\n",
              " 'azima',\n",
              " 'complaints',\n",
              " 'swimmers',\n",
              " 'larrazabal',\n",
              " 'munificent',\n",
              " 'politkovskaya',\n",
              " 'mercosur',\n",
              " 'clumsy',\n",
              " 'on-scene',\n",
              " 'inconceivable',\n",
              " 'sera',\n",
              " 'pekanbara',\n",
              " 'saturn',\n",
              " 'ducked',\n",
              " 'embarked',\n",
              " 'junk',\n",
              " 'sixteen',\n",
              " 'extract',\n",
              " 'resigning',\n",
              " 'multi-cultural',\n",
              " 'beach',\n",
              " 'omaha',\n",
              " 'hammers',\n",
              " 'fayyad',\n",
              " 'indoors',\n",
              " 'archer',\n",
              " 'dahal',\n",
              " 'benisede',\n",
              " 'firefighting',\n",
              " 'incomplete',\n",
              " 'shargh',\n",
              " 'jalal',\n",
              " 'miltzow',\n",
              " 'cords',\n",
              " 'haswa',\n",
              " 'imported',\n",
              " 'illustrates',\n",
              " 'askari',\n",
              " 'ezzedine',\n",
              " 'sunda',\n",
              " 'ghazi',\n",
              " 'print',\n",
              " 'two-wheeled',\n",
              " 'entebbe',\n",
              " 'rosoboronexport',\n",
              " 'alpha',\n",
              " 'philipp',\n",
              " 'darfuri',\n",
              " 'within',\n",
              " 'three-and-one-half',\n",
              " 'windhoek',\n",
              " 'bmg',\n",
              " 'signed',\n",
              " 'caymans',\n",
              " 'nicaraguans',\n",
              " 'compounded',\n",
              " 'envy',\n",
              " 'greek',\n",
              " 'withheld',\n",
              " 'dividend',\n",
              " 'sift',\n",
              " 'disarming',\n",
              " 'damn',\n",
              " 'navigate',\n",
              " 'anti-apartheid',\n",
              " 'conakry',\n",
              " 'stroked',\n",
              " 'court',\n",
              " 'garcia',\n",
              " 'kyaw',\n",
              " 'magyarization',\n",
              " 'cbo',\n",
              " 'soheil',\n",
              " 'fitted',\n",
              " 'invoked',\n",
              " 'ex-partner',\n",
              " 'insurgency-hit',\n",
              " '1987',\n",
              " 'occupying',\n",
              " 'majlis',\n",
              " 're-arrested',\n",
              " 'dihok',\n",
              " 'cruelty',\n",
              " 'orchids',\n",
              " 'nebojsa',\n",
              " 'talangama',\n",
              " 'releasing',\n",
              " 'cormac',\n",
              " 'madhavan',\n",
              " 'sat',\n",
              " '1.85',\n",
              " 'mitterndorf',\n",
              " 'avi',\n",
              " 'news-washington',\n",
              " 'asia-pacific',\n",
              " 'wanderings',\n",
              " 'barbuda',\n",
              " '146',\n",
              " 'dissipating',\n",
              " 'osman',\n",
              " 'flock',\n",
              " 'hates',\n",
              " 'lords',\n",
              " 'pre-world',\n",
              " 'lectures',\n",
              " 'fahim',\n",
              " 'haze',\n",
              " 'peacefully',\n",
              " 'microphone',\n",
              " 'insulza',\n",
              " 'chancellor',\n",
              " 'dancing',\n",
              " 'subsidized',\n",
              " 'discount',\n",
              " 'unsavory',\n",
              " 'sordid',\n",
              " 'jvp',\n",
              " 'darom',\n",
              " 'chidambaram',\n",
              " 'twenty-eight-year-old',\n",
              " 'haddad',\n",
              " 'marathoner',\n",
              " 'commonwealth',\n",
              " 'tests',\n",
              " 'formations',\n",
              " 'mechanical',\n",
              " 'wagner',\n",
              " 'no-confidence',\n",
              " 'ensuring',\n",
              " 'garment',\n",
              " 'tanith',\n",
              " 'uige',\n",
              " 'exploring',\n",
              " 'pre-war',\n",
              " 'foreclosure',\n",
              " 'deterioration',\n",
              " 'winterized',\n",
              " 'tribute',\n",
              " 'u.s.-proposed',\n",
              " 'coca-cola',\n",
              " 'translated',\n",
              " 'gardening',\n",
              " 'wins',\n",
              " 'reshuffling',\n",
              " 'building',\n",
              " 'abdali',\n",
              " 'family',\n",
              " 'conscience',\n",
              " 'croatia',\n",
              " 'documentaries',\n",
              " 'afford',\n",
              " 'harare',\n",
              " 'manny',\n",
              " 'charleston',\n",
              " 'frailty',\n",
              " 'squalid',\n",
              " '190',\n",
              " 'lowlands',\n",
              " 'shakiso',\n",
              " 'fourth-quarter',\n",
              " 'yvon',\n",
              " 'devouring',\n",
              " 'risky',\n",
              " 'ladders',\n",
              " 'mainstays',\n",
              " 'screening',\n",
              " 'verde',\n",
              " 'intimidated',\n",
              " '44th',\n",
              " 'aubenas',\n",
              " 'provocation',\n",
              " 'cracked',\n",
              " 'products',\n",
              " 'lingered',\n",
              " 'sota',\n",
              " 'eastbourne',\n",
              " 'message',\n",
              " 'he',\n",
              " 'peacekeepers',\n",
              " 'aysegul',\n",
              " 'verifiable',\n",
              " 'retaken',\n",
              " 'sunday',\n",
              " 'battling',\n",
              " 'kick-off',\n",
              " 'unverifiable',\n",
              " 'whispered',\n",
              " '1984',\n",
              " 'stapler',\n",
              " 'distortions',\n",
              " 'garcia-lopez',\n",
              " 'un-negotiated',\n",
              " 'indiscriminate',\n",
              " 'collisions',\n",
              " 'quake-hit',\n",
              " 'virgin',\n",
              " 'glasnost',\n",
              " '1,900',\n",
              " 'cubic',\n",
              " 'exceptions',\n",
              " 'maresca',\n",
              " 'recaptured',\n",
              " 'clark',\n",
              " 'characteristics',\n",
              " 'al-adha',\n",
              " 'mefloquine',\n",
              " 'kandill',\n",
              " 'taliban-style',\n",
              " 'edel',\n",
              " 'lightly-populated',\n",
              " '1951',\n",
              " 'post-communist',\n",
              " 'combative',\n",
              " 'chadians',\n",
              " 'wide',\n",
              " 'convicts',\n",
              " 'involvement',\n",
              " 'export-driven',\n",
              " '34th',\n",
              " 'streamlined',\n",
              " 'stroll',\n",
              " 'acuteness',\n",
              " 'preoccupied',\n",
              " 'stood',\n",
              " 'pinerolo',\n",
              " 'salik',\n",
              " '18-wheeler',\n",
              " 'crocodile',\n",
              " 'beruit',\n",
              " 'miran',\n",
              " 'yuganskneftgaz',\n",
              " 'wasserhoevel',\n",
              " '38-year',\n",
              " '179-run',\n",
              " 'braces',\n",
              " 'accord',\n",
              " 'mathematics',\n",
              " 'unhitches',\n",
              " 'monthly',\n",
              " 'younis',\n",
              " 'squandered',\n",
              " 'cotton',\n",
              " '1.27',\n",
              " 'distribution',\n",
              " 'lukashenko',\n",
              " 'incursion',\n",
              " '26-31',\n",
              " 'blige',\n",
              " 'contacting',\n",
              " 'clues',\n",
              " 'fulfill',\n",
              " 'dominating',\n",
              " 'navy',\n",
              " 'mardin',\n",
              " 'broadway',\n",
              " 'wreck',\n",
              " 'wrestling',\n",
              " 'sexuality',\n",
              " 'insecurity',\n",
              " 'min-soon',\n",
              " 'reopened',\n",
              " 'force-fed',\n",
              " 'questioning',\n",
              " 'vh1',\n",
              " 'chancellor-designate',\n",
              " 'hamma',\n",
              " 'hearty',\n",
              " 'matteo',\n",
              " 'questions',\n",
              " 'spiked',\n",
              " 'timbuktu',\n",
              " 'ottawa',\n",
              " 'spear',\n",
              " 'butcher',\n",
              " '19,000',\n",
              " 'make-shift',\n",
              " 'disinfected',\n",
              " 'reverted',\n",
              " 'g-eight',\n",
              " 'baylesa',\n",
              " 'sama',\n",
              " 'scrolls',\n",
              " 'fitzgerald',\n",
              " 'suppose',\n",
              " 'olusegan',\n",
              " 'outfield',\n",
              " 'tupolev',\n",
              " 'make-believe',\n",
              " 'cards',\n",
              " 'shamil',\n",
              " 'heihe',\n",
              " 'distress',\n",
              " 'fading',\n",
              " 'disappointing',\n",
              " 'discusses',\n",
              " 'conjured',\n",
              " 'volcanologist',\n",
              " 'uneasy',\n",
              " 'dismiss',\n",
              " 'syrian-born',\n",
              " 'productivity',\n",
              " 'abyei',\n",
              " 'filled',\n",
              " 'hardship',\n",
              " 'victor',\n",
              " 'sleeve',\n",
              " 'frans',\n",
              " 'sulaiman',\n",
              " 'kajo',\n",
              " 'loney',\n",
              " 'resuming',\n",
              " 'stabilize',\n",
              " 'ui',\n",
              " 'degraded',\n",
              " 'adopted',\n",
              " 'topple',\n",
              " '10-percent',\n",
              " 'swastika',\n",
              " 'geese',\n",
              " 'reunions',\n",
              " 'kitchen',\n",
              " '29th',\n",
              " 'gras',\n",
              " 'unhelpful',\n",
              " 'minster',\n",
              " 'karolina',\n",
              " 'clarkson',\n",
              " 'unicef',\n",
              " 'restless',\n",
              " 'hide',\n",
              " 'johanns',\n",
              " 'encountered',\n",
              " 'voyage',\n",
              " 'anatoliy',\n",
              " 'exchange-rate',\n",
              " 'nikolas',\n",
              " 'jaca',\n",
              " 'bosch',\n",
              " 'kazakhs',\n",
              " 'bears',\n",
              " 'townships',\n",
              " 'buried',\n",
              " 'al-aqsa',\n",
              " 'detonators',\n",
              " 'year-ago',\n",
              " 'jinping',\n",
              " 'congressional',\n",
              " 'carly',\n",
              " '1886',\n",
              " 'pursuer',\n",
              " 'speedway',\n",
              " 'expenditure',\n",
              " 'thwart',\n",
              " 'export-oriented',\n",
              " 'blast',\n",
              " 'tutsi',\n",
              " 'depicted',\n",
              " 'operating',\n",
              " 'singing',\n",
              " 'informer',\n",
              " 'seacoast',\n",
              " 'pointing',\n",
              " 'mocked',\n",
              " 'jaques',\n",
              " 'rallying',\n",
              " 'contrary',\n",
              " 'diameter',\n",
              " 'disappeared',\n",
              " 'british-dutch',\n",
              " 'moussaieff',\n",
              " 'dhaka',\n",
              " 'myself',\n",
              " 'attache',\n",
              " 'nickel',\n",
              " 'misuse',\n",
              " 'powerlines',\n",
              " 'resold',\n",
              " 'singling',\n",
              " 'karoubi',\n",
              " 'defeat',\n",
              " '4.3',\n",
              " 'unloaded',\n",
              " 'carnegie',\n",
              " 'jr',\n",
              " 'age',\n",
              " '7th',\n",
              " 'nippon',\n",
              " 'poverty-stricken',\n",
              " 'mon',\n",
              " 'docks',\n",
              " 'suitable',\n",
              " 'chissano',\n",
              " 'al-haidari',\n",
              " 'guy',\n",
              " 'eid',\n",
              " 'sodano',\n",
              " 'secrecy',\n",
              " 'krzyzewski',\n",
              " 'ounion',\n",
              " 'catu',\n",
              " 'acted',\n",
              " 'three-meter',\n",
              " 'abdouramane',\n",
              " 'outlining',\n",
              " 'aiyar',\n",
              " 'agriculture',\n",
              " 'morgenstern',\n",
              " 'stomp',\n",
              " 'bernard',\n",
              " 'radios',\n",
              " '7,864',\n",
              " 'kyrgyzstan',\n",
              " 'pre-famine',\n",
              " 'lago',\n",
              " 'biakand',\n",
              " 'writings',\n",
              " 'akre-bijeel',\n",
              " 'charities',\n",
              " 'unaffected',\n",
              " 'bounds',\n",
              " 'marsh',\n",
              " 'firmly',\n",
              " 'agoa',\n",
              " 'editions',\n",
              " 'randazzo',\n",
              " 'dominicans',\n",
              " 'crj-200',\n",
              " 'accomplices',\n",
              " 'climbed',\n",
              " 'accelerating',\n",
              " 'foxes',\n",
              " 'outdated',\n",
              " 'wheel',\n",
              " '--',\n",
              " 'matabeleland',\n",
              " 'reduces',\n",
              " 'zibo',\n",
              " 'erratic',\n",
              " 'blades',\n",
              " 'allies',\n",
              " 'recluse',\n",
              " 'aimed',\n",
              " 'borrower',\n",
              " 'eight-day',\n",
              " 'chiang',\n",
              " '7,000-member',\n",
              " 'froce',\n",
              " 'pacific',\n",
              " 'handsome',\n",
              " 'behnam',\n",
              " 'collins',\n",
              " 'successors',\n",
              " 'metro-goldwyn-mayer',\n",
              " 'despondent',\n",
              " 'peak',\n",
              " 'prove',\n",
              " '493',\n",
              " 'shuttered',\n",
              " 'adamkus',\n",
              " 'answered',\n",
              " 'fourth-busiest',\n",
              " 'massouda',\n",
              " 'bala',\n",
              " 'f.b.i',\n",
              " 'nourollah',\n",
              " 'luck',\n",
              " 'quarrel',\n",
              " 'drenched',\n",
              " 'symbolizing',\n",
              " 'efrat',\n",
              " 'partisan',\n",
              " '23,000',\n",
              " 'reliable',\n",
              " 'proteins',\n",
              " 'mahinda',\n",
              " 'authorize',\n",
              " 'flowed',\n",
              " 'depth',\n",
              " '80-page',\n",
              " 'bogra',\n",
              " 'scenes',\n",
              " 'courtroom',\n",
              " 'perceptions',\n",
              " 'mystery',\n",
              " 'exiting',\n",
              " 'gdp',\n",
              " 'comfortable',\n",
              " 'roared',\n",
              " 'redeemed',\n",
              " 'al-ilayan',\n",
              " 'hid',\n",
              " 'plow',\n",
              " 'suspicious',\n",
              " 'wetchachiwa',\n",
              " 'shrinking',\n",
              " 'gem-quality',\n",
              " 'narrowly',\n",
              " 'buchan',\n",
              " 'maoist-inspired',\n",
              " 'field',\n",
              " 'acting',\n",
              " 'upscale',\n",
              " 'shariat',\n",
              " 'cham',\n",
              " 'designing',\n",
              " '20-month',\n",
              " 'violates',\n",
              " 'bass',\n",
              " 'start',\n",
              " '1923',\n",
              " 'fatas',\n",
              " 'laotian',\n",
              " 'newell',\n",
              " 'hartford',\n",
              " 'bourgas',\n",
              " 'evangelicals',\n",
              " 'void',\n",
              " 'unnamed',\n",
              " 'decision',\n",
              " 'grimmette',\n",
              " 'otoniel',\n",
              " 'mirror',\n",
              " 'transformed',\n",
              " 'tet',\n",
              " 'bodyguard',\n",
              " 'gullible',\n",
              " 'ex-communist',\n",
              " 'asia',\n",
              " 'proceeding',\n",
              " 'nguesso',\n",
              " 'colchis',\n",
              " 'cnn-turk',\n",
              " 'arabs',\n",
              " 'wessels',\n",
              " 'abkhaz',\n",
              " 'stand-up',\n",
              " 'grandfather',\n",
              " 'abusing',\n",
              " 'concession',\n",
              " 'mascots',\n",
              " 'al-fasher',\n",
              " 'sarkisian',\n",
              " 'kagame',\n",
              " 'guay',\n",
              " 'produces',\n",
              " 'muttering',\n",
              " 'thank',\n",
              " 'rating',\n",
              " 'annually',\n",
              " 'mauro',\n",
              " 'georgians',\n",
              " 'khan',\n",
              " 'roughed',\n",
              " 'regarded',\n",
              " 'rehn',\n",
              " 'agassi',\n",
              " '1970',\n",
              " 'relating',\n",
              " 'enterprising',\n",
              " 'padilla',\n",
              " '1993',\n",
              " 'browne',\n",
              " 'priscilla',\n",
              " 'niaraki',\n",
              " 'unaccounted',\n",
              " 'bales',\n",
              " 'expansion',\n",
              " 'werner',\n",
              " 'songhua',\n",
              " 'gazette',\n",
              " 'hib',\n",
              " 'worst-hit',\n",
              " 'unidentifiied',\n",
              " 'dictate',\n",
              " 'berkin',\n",
              " 'manipulation',\n",
              " 'dostum',\n",
              " 'lancaster',\n",
              " 'utor',\n",
              " 'tolerance',\n",
              " 'almost',\n",
              " 'grabbed',\n",
              " 'cd',\n",
              " 'crises',\n",
              " 'dolev',\n",
              " 'pamphlets',\n",
              " 'piracy',\n",
              " 'finishes',\n",
              " 'coping',\n",
              " 'major-general',\n",
              " 'galam',\n",
              " 'zadar',\n",
              " 'nwr',\n",
              " 'moiseyev',\n",
              " 'jungle',\n",
              " 'entertainment',\n",
              " 'cubanization',\n",
              " 'attention',\n",
              " 'caledonia',\n",
              " '0.01',\n",
              " 'turbines',\n",
              " 'amy',\n",
              " '6.3',\n",
              " 'findings',\n",
              " 'herceptin',\n",
              " '29-year-old',\n",
              " 'acid',\n",
              " '30.54',\n",
              " 'khurram',\n",
              " 'expressed',\n",
              " 'sept.',\n",
              " 'tax-relief',\n",
              " '25.03.05',\n",
              " 'kidnappings',\n",
              " 'mobster',\n",
              " 'cong.',\n",
              " 'book-signing',\n",
              " 'capsize',\n",
              " 'casmir',\n",
              " 'stoning',\n",
              " '150-member',\n",
              " '87-store',\n",
              " 'kruif',\n",
              " 'sari',\n",
              " 'presses',\n",
              " 'lovers',\n",
              " 'commercially-available',\n",
              " 'gyanendra',\n",
              " 're-sales',\n",
              " 'defines',\n",
              " 'azov',\n",
              " 'whites',\n",
              " 'popular',\n",
              " 'pay',\n",
              " 'bountiful',\n",
              " 'china-north',\n",
              " '275-members',\n",
              " 'mhz',\n",
              " 'melnichenko',\n",
              " 'less-developed',\n",
              " 'fortress',\n",
              " 'redeployed',\n",
              " 'haitian-american',\n",
              " 'rekindle',\n",
              " 'subsidize',\n",
              " 'tianjin',\n",
              " 'senses',\n",
              " 'eddie',\n",
              " 'juan',\n",
              " 'al-ghoul',\n",
              " 'legitimate',\n",
              " 'depart',\n",
              " 'shuai',\n",
              " 'near-monoply',\n",
              " 'danny',\n",
              " 'servant',\n",
              " 'puente',\n",
              " 'comparison',\n",
              " '377',\n",
              " 'equitable',\n",
              " 'teachers',\n",
              " 'desperate',\n",
              " 'zurich',\n",
              " 'glorious',\n",
              " 'francois-henri',\n",
              " 'alam',\n",
              " 'means',\n",
              " 'radical',\n",
              " 'quarters',\n",
              " 'threats',\n",
              " 'material',\n",
              " 'mexicans',\n",
              " 'loves',\n",
              " 'ivana',\n",
              " 'bother',\n",
              " 'saiki',\n",
              " 'neck',\n",
              " 'cricketers',\n",
              " 'shepel',\n",
              " 'well-documented',\n",
              " 'mulino',\n",
              " 'overreliance',\n",
              " 'logjams',\n",
              " 'abramoff',\n",
              " 'austria',\n",
              " 'congolese',\n",
              " 'expelling',\n",
              " 'pines',\n",
              " 'keraterm',\n",
              " 'sprain',\n",
              " 'ghettos',\n",
              " 'fertilizer',\n",
              " 'duarte',\n",
              " '33.5',\n",
              " 'kunduz',\n",
              " 'reverend',\n",
              " 'vavuniya',\n",
              " 'sony',\n",
              " 'sportscar',\n",
              " 'salang',\n",
              " 'timing',\n",
              " 'colonization',\n",
              " '4,000',\n",
              " 'ox',\n",
              " 'dera',\n",
              " 'veligonda',\n",
              " 'constrain',\n",
              " 'forgotten',\n",
              " 'importation',\n",
              " 'napoleonic',\n",
              " 'provinces',\n",
              " 'rodham',\n",
              " '32,000',\n",
              " '32',\n",
              " 'sub-prime',\n",
              " 'presidents',\n",
              " 'mwakalyelye',\n",
              " 'delanoe',\n",
              " 'railroad',\n",
              " 'plants',\n",
              " 'advertising',\n",
              " 'madison',\n",
              " '360',\n",
              " 'bancoro',\n",
              " 'merely',\n",
              " '10,000-square-kilometer',\n",
              " 'last-minute',\n",
              " 'pianist',\n",
              " 'rod',\n",
              " 'enroute',\n",
              " 'bologna',\n",
              " 'criticize',\n",
              " 'behaviour',\n",
              " 'uniformed',\n",
              " 'mounts',\n",
              " 'sardinian',\n",
              " 'stratfor',\n",
              " 'constantinople',\n",
              " 'thai',\n",
              " 'oncologist',\n",
              " 'merk',\n",
              " 'earthenware',\n",
              " 'respondents',\n",
              " 'crimean',\n",
              " 'mental',\n",
              " 'legislative',\n",
              " 'butchers',\n",
              " 'sector',\n",
              " 'select',\n",
              " 'ohn',\n",
              " '464',\n",
              " 'snakes',\n",
              " 'beef',\n",
              " 'adjourns',\n",
              " 'wealthiest',\n",
              " 'mike',\n",
              " 'd',\n",
              " 'betty',\n",
              " 'vote-buying',\n",
              " 'mulongoti',\n",
              " 'frigid',\n",
              " 'missouri',\n",
              " 'foca',\n",
              " 'quench',\n",
              " 'pokhara',\n",
              " 'seng',\n",
              " 'horn',\n",
              " 'azzedine',\n",
              " 'muscles',\n",
              " 'retain',\n",
              " 'taxis',\n",
              " 'conferred',\n",
              " 'interaction',\n",
              " 'harriet',\n",
              " 'menezes',\n",
              " 'thermo',\n",
              " 'zolfaghari',\n",
              " 'iraqi-born',\n",
              " 'anti-maoist',\n",
              " 'impeachment',\n",
              " 'doled',\n",
              " 'directed',\n",
              " 'query',\n",
              " 'sunni-dominant',\n",
              " 'central',\n",
              " 'plantation',\n",
              " 'dehydration',\n",
              " 'shahidi',\n",
              " 'boosters',\n",
              " 'anchorage',\n",
              " 'baikal',\n",
              " 'mummified',\n",
              " 'kissed',\n",
              " 'abbreviations',\n",
              " 'dissipated',\n",
              " 'smugglers',\n",
              " 'beyond',\n",
              " 'jihadist',\n",
              " 'third-seeded',\n",
              " 'recipients',\n",
              " 'lacks',\n",
              " 'ex-diplomat',\n",
              " 'rush',\n",
              " 'anti-abortion',\n",
              " ...]"
            ]
          },
          "metadata": {},
          "execution_count": 54
        }
      ]
    },
    {
      "cell_type": "code",
      "metadata": {
        "id": "tjahDonE5Zyn"
      },
      "source": [
        "char_to_index = {c: i + 2 for i, c in enumerate(chars)}\n",
        "char_to_index[\"OOV\"] = 1\n",
        "char_to_index[\"PAD\"] = 0"
      ],
      "execution_count": 47,
      "outputs": []
    },
    {
      "cell_type": "code",
      "source": [
        "char_to_index"
      ],
      "metadata": {
        "id": "qu_no2FSfHYh",
        "outputId": "f15686f5-0972-42db-98cf-19877cb34b27",
        "colab": {
          "base_uri": "https://localhost:8080/"
        }
      },
      "execution_count": 55,
      "outputs": [
        {
          "output_type": "execute_result",
          "data": {
            "text/plain": [
              "{'!': 2,\n",
              " '\"': 3,\n",
              " '#': 4,\n",
              " '$': 5,\n",
              " '%': 6,\n",
              " '&': 7,\n",
              " \"'\": 8,\n",
              " '(': 9,\n",
              " ')': 10,\n",
              " '+': 11,\n",
              " ',': 12,\n",
              " '-': 13,\n",
              " '.': 14,\n",
              " '/': 15,\n",
              " '0': 16,\n",
              " '1': 17,\n",
              " '2': 18,\n",
              " '3': 19,\n",
              " '4': 20,\n",
              " '5': 21,\n",
              " '6': 22,\n",
              " '7': 23,\n",
              " '8': 24,\n",
              " '9': 25,\n",
              " ':': 26,\n",
              " ';': 27,\n",
              " '?': 28,\n",
              " '@': 29,\n",
              " '[': 30,\n",
              " ']': 31,\n",
              " '_': 32,\n",
              " '`': 33,\n",
              " 'a': 34,\n",
              " 'b': 35,\n",
              " 'c': 36,\n",
              " 'd': 37,\n",
              " 'e': 38,\n",
              " 'f': 39,\n",
              " 'g': 40,\n",
              " 'h': 41,\n",
              " 'i': 42,\n",
              " 'j': 43,\n",
              " 'k': 44,\n",
              " 'l': 45,\n",
              " 'm': 46,\n",
              " 'n': 47,\n",
              " 'o': 48,\n",
              " 'p': 49,\n",
              " 'q': 50,\n",
              " 'r': 51,\n",
              " 's': 52,\n",
              " 't': 53,\n",
              " 'u': 54,\n",
              " 'v': 55,\n",
              " 'w': 56,\n",
              " 'x': 57,\n",
              " 'y': 58,\n",
              " 'z': 59,\n",
              " '~': 60,\n",
              " '\\x85': 61,\n",
              " '\\x91': 62,\n",
              " '\\x92': 63,\n",
              " '\\x93': 64,\n",
              " '\\x94': 65,\n",
              " '\\x96': 66,\n",
              " '\\x97': 67,\n",
              " '\\xa0': 68,\n",
              " '°': 69,\n",
              " 'é': 70,\n",
              " 'ë': 71,\n",
              " 'ö': 72,\n",
              " 'ü': 73,\n",
              " 'OOV': 1,\n",
              " 'PAD': 0}"
            ]
          },
          "metadata": {},
          "execution_count": 55
        }
      ]
    },
    {
      "cell_type": "code",
      "metadata": {
        "id": "L3_Mf9HlB_p4"
      },
      "source": [
        "index_to_char = {}\n",
        "for key, value in char_to_index.items():\n",
        "    index_to_char[value] = key"
      ],
      "execution_count": 56,
      "outputs": []
    },
    {
      "cell_type": "code",
      "metadata": {
        "colab": {
          "base_uri": "https://localhost:8080/"
        },
        "id": "UbQYSZAl-uWQ",
        "outputId": "891a36af-d431-4c4e-8646-063f7b3e26fe"
      },
      "source": [
        "print(sentences[0])"
      ],
      "execution_count": 57,
      "outputs": [
        {
          "output_type": "stream",
          "name": "stdout",
          "text": [
            "['thousands', 'of', 'demonstrators', 'have', 'marched', 'through', 'london', 'to', 'protest', 'the', 'war', 'in', 'iraq', 'and', 'demand', 'the', 'withdrawal', 'of', 'british', 'troops', 'from', 'that', 'country', '.']\n"
          ]
        }
      ]
    },
    {
      "cell_type": "code",
      "metadata": {
        "id": "rNZZqDN99_lU"
      },
      "source": [
        "max_len_char = 15\n",
        "\n",
        "def padding_char_indice(char_indice, max_len_char):\n",
        "  return pad_sequences(\n",
        "        char_indice, maxlen=max_len_char, padding='post', value = 0)\n",
        "\n",
        "def integer_coding(sentences):\n",
        "  char_data = []\n",
        "  for ts in sentences:\n",
        "    word_indice = [word_to_index[t] for t in ts]\n",
        "    char_indice = [[char_to_index[char] for char in t]  \n",
        "                                          for t in ts]\n",
        "    print(char_indice)\n",
        "    print(track)                        \n",
        "    char_indice = padding_char_indice(char_indice, max_len_char)\n",
        "\n",
        "    for chars_of_token in char_indice:\n",
        "      if len(chars_of_token) > max_len_char:\n",
        "        continue\n",
        "    char_data.append(char_indice)\n",
        "  return char_data"
      ],
      "execution_count": 71,
      "outputs": []
    },
    {
      "cell_type": "code",
      "source": [
        "integer_coding(sentences)[0]"
      ],
      "metadata": {
        "id": "7o8wphUCgqiP",
        "outputId": "00f6cc13-985d-4bed-ecc9-bb8b1ddf69e5",
        "colab": {
          "base_uri": "https://localhost:8080/",
          "height": 320
        }
      },
      "execution_count": 72,
      "outputs": [
        {
          "output_type": "stream",
          "name": "stdout",
          "text": [
            "[[53, 41, 48, 54, 52, 34, 47, 37, 52], [48, 39], [37, 38, 46, 48, 47, 52, 53, 51, 34, 53, 48, 51, 52], [41, 34, 55, 38], [46, 34, 51, 36, 41, 38, 37], [53, 41, 51, 48, 54, 40, 41], [45, 48, 47, 37, 48, 47], [53, 48], [49, 51, 48, 53, 38, 52, 53], [53, 41, 38], [56, 34, 51], [42, 47], [42, 51, 34, 50], [34, 47, 37], [37, 38, 46, 34, 47, 37], [53, 41, 38], [56, 42, 53, 41, 37, 51, 34, 56, 34, 45], [48, 39], [35, 51, 42, 53, 42, 52, 41], [53, 51, 48, 48, 49, 52], [39, 51, 48, 46], [53, 41, 34, 53], [36, 48, 54, 47, 53, 51, 58], [14]]\n"
          ]
        },
        {
          "output_type": "error",
          "ename": "NameError",
          "evalue": "ignored",
          "traceback": [
            "\u001b[0;31m---------------------------------------------------------------------------\u001b[0m",
            "\u001b[0;31mNameError\u001b[0m                                 Traceback (most recent call last)",
            "\u001b[0;32m<ipython-input-72-bb19b593264b>\u001b[0m in \u001b[0;36m<cell line: 1>\u001b[0;34m()\u001b[0m\n\u001b[0;32m----> 1\u001b[0;31m \u001b[0minteger_coding\u001b[0m\u001b[0;34m(\u001b[0m\u001b[0msentences\u001b[0m\u001b[0;34m)\u001b[0m\u001b[0;34m[\u001b[0m\u001b[0;36m0\u001b[0m\u001b[0;34m]\u001b[0m\u001b[0;34m\u001b[0m\u001b[0;34m\u001b[0m\u001b[0m\n\u001b[0m",
            "\u001b[0;32m<ipython-input-71-c995e1d3bfe3>\u001b[0m in \u001b[0;36minteger_coding\u001b[0;34m(sentences)\u001b[0m\n\u001b[1;32m     12\u001b[0m                                           for t in ts]\n\u001b[1;32m     13\u001b[0m     \u001b[0mprint\u001b[0m\u001b[0;34m(\u001b[0m\u001b[0mchar_indice\u001b[0m\u001b[0;34m)\u001b[0m\u001b[0;34m\u001b[0m\u001b[0;34m\u001b[0m\u001b[0m\n\u001b[0;32m---> 14\u001b[0;31m     \u001b[0mprint\u001b[0m\u001b[0;34m(\u001b[0m\u001b[0mtrack\u001b[0m\u001b[0;34m)\u001b[0m\u001b[0;34m\u001b[0m\u001b[0;34m\u001b[0m\u001b[0m\n\u001b[0m\u001b[1;32m     15\u001b[0m     \u001b[0mchar_indice\u001b[0m \u001b[0;34m=\u001b[0m \u001b[0mpadding_char_indice\u001b[0m\u001b[0;34m(\u001b[0m\u001b[0mchar_indice\u001b[0m\u001b[0;34m,\u001b[0m \u001b[0mmax_len_char\u001b[0m\u001b[0;34m)\u001b[0m\u001b[0;34m\u001b[0m\u001b[0;34m\u001b[0m\u001b[0m\n\u001b[1;32m     16\u001b[0m \u001b[0;34m\u001b[0m\u001b[0m\n",
            "\u001b[0;31mNameError\u001b[0m: name 'track' is not defined"
          ]
        }
      ]
    },
    {
      "cell_type": "code",
      "metadata": {
        "id": "KE7aX8UFC7MT"
      },
      "source": [
        "X_char_data = integer_coding(sentences)"
      ],
      "execution_count": 66,
      "outputs": []
    },
    {
      "cell_type": "code",
      "source": [
        "# 정수 인코딩 이전의 기존 문장\n",
        "print(sentences[0])"
      ],
      "metadata": {
        "colab": {
          "base_uri": "https://localhost:8080/"
        },
        "id": "fvbZZ4pV7jkl",
        "outputId": "ccc9556e-e94a-46f4-9531-7f041c0d1216"
      },
      "execution_count": 67,
      "outputs": [
        {
          "output_type": "stream",
          "name": "stdout",
          "text": [
            "['thousands', 'of', 'demonstrators', 'have', 'marched', 'through', 'london', 'to', 'protest', 'the', 'war', 'in', 'iraq', 'and', 'demand', 'the', 'withdrawal', 'of', 'british', 'troops', 'from', 'that', 'country', '.']\n"
          ]
        }
      ]
    },
    {
      "cell_type": "code",
      "metadata": {
        "colab": {
          "base_uri": "https://localhost:8080/"
        },
        "id": "424UcyumBi2Y",
        "outputId": "050f53c5-e5f4-459a-c7b1-79cb39e2cf28"
      },
      "source": [
        "len(X_data[0])"
      ],
      "execution_count": 70,
      "outputs": [
        {
          "output_type": "execute_result",
          "data": {
            "text/plain": [
              "70"
            ]
          },
          "metadata": {},
          "execution_count": 70
        }
      ]
    },
    {
      "cell_type": "code",
      "metadata": {
        "colab": {
          "base_uri": "https://localhost:8080/"
        },
        "id": "HuSVDOHhD8Ec",
        "outputId": "0ddc192e-fcb7-4840-8aa6-f45824c2dce1"
      },
      "source": [
        "print(X_char_data[0])"
      ],
      "execution_count": 69,
      "outputs": [
        {
          "output_type": "stream",
          "name": "stdout",
          "text": [
            "[[53 41 48 54 52 34 47 37 52  0  0  0  0  0  0]\n",
            " [48 39  0  0  0  0  0  0  0  0  0  0  0  0  0]\n",
            " [37 38 46 48 47 52 53 51 34 53 48 51 52  0  0]\n",
            " [41 34 55 38  0  0  0  0  0  0  0  0  0  0  0]\n",
            " [46 34 51 36 41 38 37  0  0  0  0  0  0  0  0]\n",
            " [53 41 51 48 54 40 41  0  0  0  0  0  0  0  0]\n",
            " [45 48 47 37 48 47  0  0  0  0  0  0  0  0  0]\n",
            " [53 48  0  0  0  0  0  0  0  0  0  0  0  0  0]\n",
            " [49 51 48 53 38 52 53  0  0  0  0  0  0  0  0]\n",
            " [53 41 38  0  0  0  0  0  0  0  0  0  0  0  0]\n",
            " [56 34 51  0  0  0  0  0  0  0  0  0  0  0  0]\n",
            " [42 47  0  0  0  0  0  0  0  0  0  0  0  0  0]\n",
            " [42 51 34 50  0  0  0  0  0  0  0  0  0  0  0]\n",
            " [34 47 37  0  0  0  0  0  0  0  0  0  0  0  0]\n",
            " [37 38 46 34 47 37  0  0  0  0  0  0  0  0  0]\n",
            " [53 41 38  0  0  0  0  0  0  0  0  0  0  0  0]\n",
            " [56 42 53 41 37 51 34 56 34 45  0  0  0  0  0]\n",
            " [48 39  0  0  0  0  0  0  0  0  0  0  0  0  0]\n",
            " [35 51 42 53 42 52 41  0  0  0  0  0  0  0  0]\n",
            " [53 51 48 48 49 52  0  0  0  0  0  0  0  0  0]\n",
            " [39 51 48 46  0  0  0  0  0  0  0  0  0  0  0]\n",
            " [53 41 34 53  0  0  0  0  0  0  0  0  0  0  0]\n",
            " [36 48 54 47 53 51 58  0  0  0  0  0  0  0  0]\n",
            " [14  0  0  0  0  0  0  0  0  0  0  0  0  0  0]]\n"
          ]
        }
      ]
    },
    {
      "cell_type": "code",
      "metadata": {
        "id": "ZUuaNklnEHzN"
      },
      "source": [
        "X_char_data = pad_sequences(X_char_data, maxlen=max_len, padding='post', value = 0)"
      ],
      "execution_count": 73,
      "outputs": []
    },
    {
      "cell_type": "code",
      "metadata": {
        "id": "dC9agARj6uCa"
      },
      "source": [
        "X_char_train, X_char_test, _, _ = train_test_split(X_char_data, y_data, test_size=.2, random_state=777)"
      ],
      "execution_count": 74,
      "outputs": []
    },
    {
      "cell_type": "code",
      "source": [
        "X_char_train.dtype"
      ],
      "metadata": {
        "id": "bcjtfv7Nj7T8",
        "outputId": "d953cd3c-0f66-4478-d1a6-1bce085de0d3",
        "colab": {
          "base_uri": "https://localhost:8080/"
        }
      },
      "execution_count": 78,
      "outputs": [
        {
          "output_type": "execute_result",
          "data": {
            "text/plain": [
              "dtype('int32')"
            ]
          },
          "metadata": {},
          "execution_count": 78
        }
      ]
    },
    {
      "cell_type": "code",
      "metadata": {
        "id": "_ukEbj2tBc5r"
      },
      "source": [
        "X_char_train = np.array(X_char_train)\n",
        "X_char_test = np.array(X_char_test)"
      ],
      "execution_count": 77,
      "outputs": []
    },
    {
      "cell_type": "code",
      "metadata": {
        "colab": {
          "base_uri": "https://localhost:8080/"
        },
        "id": "Odl26mVdEfPm",
        "outputId": "3f45417d-d37f-4b66-9575-55879252ef4a"
      },
      "source": [
        "print(X_train[0])"
      ],
      "execution_count": 80,
      "outputs": [
        {
          "output_type": "stream",
          "name": "stdout",
          "text": [
            "[ 150  928  361   17 2624    9 4131 3567    9    8 2893 1250  880  107\n",
            "    3    0    0    0    0    0    0    0    0    0    0    0    0    0\n",
            "    0    0    0    0    0    0    0    0    0    0    0    0    0    0\n",
            "    0    0    0    0    0    0    0    0    0    0    0    0    0    0\n",
            "    0    0    0    0    0    0    0    0    0    0    0    0    0    0]\n"
          ]
        }
      ]
    },
    {
      "cell_type": "code",
      "source": [
        "print(index_to_word[150])"
      ],
      "metadata": {
        "colab": {
          "base_uri": "https://localhost:8080/"
        },
        "id": "_5zCFvf58Q1b",
        "outputId": "edfd0180-c531-42a3-d388-2f65c2e68293"
      },
      "execution_count": 81,
      "outputs": [
        {
          "output_type": "stream",
          "name": "stdout",
          "text": [
            "soldiers\n"
          ]
        }
      ]
    },
    {
      "cell_type": "code",
      "metadata": {
        "colab": {
          "base_uri": "https://localhost:8080/"
        },
        "id": "NIGaJI-_RCA7",
        "outputId": "94bdc0c7-2a5d-4d49-c2b7-87c51fe5be19"
      },
      "source": [
        "print(X_char_train[0])"
      ],
      "execution_count": 82,
      "outputs": [
        {
          "output_type": "stream",
          "name": "stdout",
          "text": [
            "[[52 48 45 ...  0  0  0]\n",
            " [51 38 53 ...  0  0  0]\n",
            " [39 42 51 ...  0  0  0]\n",
            " ...\n",
            " [ 0  0  0 ...  0  0  0]\n",
            " [ 0  0  0 ...  0  0  0]\n",
            " [ 0  0  0 ...  0  0  0]]\n"
          ]
        }
      ]
    },
    {
      "cell_type": "code",
      "metadata": {
        "id": "EdeauTKoRIqT",
        "colab": {
          "base_uri": "https://localhost:8080/"
        },
        "outputId": "3c093ca8-ded4-4a00-c2da-4cceb0b9d52c"
      },
      "source": [
        "print(X_char_train[0][0])"
      ],
      "execution_count": 83,
      "outputs": [
        {
          "output_type": "stream",
          "name": "stdout",
          "text": [
            "[52 48 45 37 42 38 51 52  0  0  0  0  0  0  0]\n"
          ]
        }
      ]
    },
    {
      "cell_type": "code",
      "metadata": {
        "colab": {
          "base_uri": "https://localhost:8080/"
        },
        "id": "2nvdylKuE0_Z",
        "outputId": "f9b6f7b4-a2c6-4883-9455-8b82f0a2400b"
      },
      "source": [
        "print(' '.join([index_to_char[index] for index in X_char_train[0][0]]))"
      ],
      "execution_count": 84,
      "outputs": [
        {
          "output_type": "stream",
          "name": "stdout",
          "text": [
            "s o l d i e r s PAD PAD PAD PAD PAD PAD PAD\n"
          ]
        }
      ]
    },
    {
      "cell_type": "code",
      "metadata": {
        "colab": {
          "base_uri": "https://localhost:8080/"
        },
        "id": "QgBR0y8mFWmn",
        "outputId": "43e1edac-d060-4d5b-b3dc-aea5827b7b6c"
      },
      "source": [
        "print('훈련 샘플 문장의 크기 : {}'.format(X_train.shape))\n",
        "print('훈련 샘플 레이블의 크기 : {}'.format(y_train.shape))\n",
        "print('훈련 샘플 char 데이터의 크기 : {}'.format(X_char_train.shape))\n",
        "print('테스트 샘플 문장의 크기 : {}'.format(X_test.shape))\n",
        "print('테스트 샘플 레이블의 크기 : {}'.format(y_test.shape))"
      ],
      "execution_count": 85,
      "outputs": [
        {
          "output_type": "stream",
          "name": "stdout",
          "text": [
            "훈련 샘플 문장의 크기 : (38367, 70)\n",
            "훈련 샘플 레이블의 크기 : (38367, 70, 18)\n",
            "훈련 샘플 char 데이터의 크기 : (38367, 70, 15)\n",
            "테스트 샘플 문장의 크기 : (9592, 70)\n",
            "테스트 샘플 레이블의 크기 : (9592, 70, 18)\n"
          ]
        }
      ]
    },
    {
      "cell_type": "markdown",
      "metadata": {
        "id": "M5HlLxZEV7kn"
      },
      "source": [
        "# BiLSTM을 이용한 개체명 인식"
      ]
    },
    {
      "cell_type": "markdown",
      "metadata": {
        "id": "8P0QOs4KOayO"
      },
      "source": [
        "## 모델링"
      ]
    },
    {
      "cell_type": "code",
      "metadata": {
        "id": "cwvOg6XiWDCO"
      },
      "source": [
        "from tensorflow.keras.models import Sequential\n",
        "from tensorflow.keras.layers import Dense, LSTM, InputLayer, Bidirectional, TimeDistributed, Embedding\n",
        "from tensorflow.keras.optimizers import Adam"
      ],
      "execution_count": 86,
      "outputs": []
    },
    {
      "cell_type": "code",
      "metadata": {
        "id": "pKE60YszWD-e"
      },
      "source": [
        "embedding_dim = 128\n",
        "hidden_units = 256\n",
        "\n",
        "model = Sequential()\n",
        "model.add(Embedding(vocab_size, embedding_dim, mask_zero=True))\n",
        "model.add(Bidirectional(LSTM(hidden_units, return_sequences=True)))\n",
        "model.add(TimeDistributed(Dense(tag_size, activation=('softmax'))))\n",
        "model.compile(loss='categorical_crossentropy', optimizer=Adam(0.001), metrics=['accuracy'])"
      ],
      "execution_count": 87,
      "outputs": []
    },
    {
      "cell_type": "code",
      "metadata": {
        "colab": {
          "base_uri": "https://localhost:8080/"
        },
        "id": "tQJb-y9ab0pg",
        "outputId": "d99d2462-204f-47c6-87d5-f7405b62edf6"
      },
      "source": [
        "model.summary()"
      ],
      "execution_count": 88,
      "outputs": [
        {
          "output_type": "stream",
          "name": "stdout",
          "text": [
            "Model: \"sequential\"\n",
            "_________________________________________________________________\n",
            " Layer (type)                Output Shape              Param #   \n",
            "=================================================================\n",
            " embedding (Embedding)       (None, None, 128)         4072832   \n",
            "                                                                 \n",
            " bidirectional (Bidirectiona  (None, None, 512)        788480    \n",
            " l)                                                              \n",
            "                                                                 \n",
            " time_distributed (TimeDistr  (None, None, 18)         9234      \n",
            " ibuted)                                                         \n",
            "                                                                 \n",
            "=================================================================\n",
            "Total params: 4,870,546\n",
            "Trainable params: 4,870,546\n",
            "Non-trainable params: 0\n",
            "_________________________________________________________________\n"
          ]
        }
      ]
    },
    {
      "cell_type": "code",
      "metadata": {
        "colab": {
          "base_uri": "https://localhost:8080/"
        },
        "id": "WRAKp9mSWF5J",
        "outputId": "b51039d3-a8f0-46ec-e637-3381cf14b8fb"
      },
      "source": [
        "history = model.fit(X_train, y_train, batch_size=128, epochs=6, validation_split=0.1)"
      ],
      "execution_count": 89,
      "outputs": [
        {
          "output_type": "stream",
          "name": "stdout",
          "text": [
            "Epoch 1/6\n",
            "270/270 [==============================] - 51s 136ms/step - loss: 0.5588 - accuracy: 0.8747 - val_loss: 0.2527 - val_accuracy: 0.9309\n",
            "Epoch 2/6\n",
            "270/270 [==============================] - 13s 49ms/step - loss: 0.1756 - accuracy: 0.9496 - val_loss: 0.1592 - val_accuracy: 0.9529\n",
            "Epoch 3/6\n",
            "270/270 [==============================] - 8s 31ms/step - loss: 0.1186 - accuracy: 0.9646 - val_loss: 0.1431 - val_accuracy: 0.9572\n",
            "Epoch 4/6\n",
            "270/270 [==============================] - 7s 24ms/step - loss: 0.0964 - accuracy: 0.9704 - val_loss: 0.1395 - val_accuracy: 0.9573\n",
            "Epoch 5/6\n",
            "270/270 [==============================] - 8s 31ms/step - loss: 0.0830 - accuracy: 0.9739 - val_loss: 0.1442 - val_accuracy: 0.9580\n",
            "Epoch 6/6\n",
            "270/270 [==============================] - 7s 27ms/step - loss: 0.0733 - accuracy: 0.9766 - val_loss: 0.1458 - val_accuracy: 0.9578\n"
          ]
        }
      ]
    },
    {
      "cell_type": "code",
      "metadata": {
        "id": "5qE4zaXuWI_M"
      },
      "source": [
        "model.save('bilstm.h5')"
      ],
      "execution_count": 90,
      "outputs": []
    },
    {
      "cell_type": "code",
      "source": [
        "y_predicted"
      ],
      "metadata": {
        "id": "olyiBbFol61x",
        "outputId": "717e2820-2cae-4092-bd30-4dfbea92bdeb",
        "colab": {
          "base_uri": "https://localhost:8080/"
        }
      },
      "execution_count": 93,
      "outputs": [
        {
          "output_type": "execute_result",
          "data": {
            "text/plain": [
              "array([[1, 1, 1, 1, 4, 7, 6, 5, 1, 1, 1, 1, 1, 1, 1, 3, 1, 1, 1, 1, 1, 1,\n",
              "        1, 1, 1, 1, 1, 1, 1, 1, 1, 1, 1, 1, 1, 1, 1, 1, 1, 1, 1, 1, 1, 1,\n",
              "        1, 1, 1, 1, 1, 1, 1, 1, 1, 1, 1, 1, 1, 1, 1, 1, 1, 1, 1, 1, 1, 1,\n",
              "        1, 1, 1, 1]])"
            ]
          },
          "metadata": {},
          "execution_count": 93
        }
      ]
    },
    {
      "cell_type": "code",
      "metadata": {
        "colab": {
          "base_uri": "https://localhost:8080/"
        },
        "id": "lEyHvNZ4WXE9",
        "outputId": "4fc5c859-dbe0-4f2b-ca13-ae5e563578ae"
      },
      "source": [
        "i = 13 # 확인하고 싶은 테스트용 샘플의 인덱스.\n",
        "y_predicted = model.predict(np.array([X_test[i]])) # 입력한 테스트용 샘플에 대해서 예측 y를 리턴\n",
        "\n",
        "y_predicted = np.argmax(y_predicted, axis=-1) # 확률 벡터를 정수 인코딩으로 변경함.\n",
        "print((y_predicted))\n",
        "true = np.argmax(y_test[i], -1) # 원-핫 인코딩을 다시 정수 인코딩으로 변경함.\n",
        "print(true)\n",
        "print(\"{:15}|{:5}|{}\".format(\"단어\", \"실제값\", \"예측값\"))\n",
        "print(35 * \"-\")\n",
        "\n",
        "for word, tag, pred in zip(X_test[i], true, y_predicted[0]):\n",
        "    if word != 0: # PAD값은 제외함.\n",
        "        print(\"{:17}: {:7} {}\".format(index_to_word[word], index_to_ner[tag], index_to_ner[pred]))"
      ],
      "execution_count": 99,
      "outputs": [
        {
          "output_type": "stream",
          "name": "stdout",
          "text": [
            "1/1 [==============================] - 0s 22ms/step\n",
            "[[1 1 1 1 4 7 6 5 1 1 1 1 1 1 1 3 1 1 1 1 1 1 1 1 1 1 1 1 1 1 1 1 1 1 1 1\n",
            "  1 1 1 1 1 1 1 1 1 1 1 1 1 1 1 1 1 1 1 1 1 1 1 1 1 1 1 1 1 1 1 1 1 1]]\n",
            "[1 1 1 1 4 7 6 5 1 1 1 1 2 1 1 3 1 1 1 0 0 0 0 0 0 0 0 0 0 0 0 0 0 0 0 0 0\n",
            " 0 0 0 0 0 0 0 0 0 0 0 0 0 0 0 0 0 0 0 0 0 0 0 0 0 0 0 0 0 0 0 0 0]\n",
            "단어             |실제값  |예측값\n",
            "-----------------------------------\n",
            "the              : O       O\n",
            "statement        : O       O\n",
            "came             : O       O\n",
            "as               : O       O\n",
            "u.n.             : B-org   B-org\n",
            "secretary-general: I-org   I-org\n",
            "kofi             : B-per   B-per\n",
            "annan            : I-per   I-per\n",
            "met              : O       O\n",
            "with             : O       O\n",
            "officials        : O       O\n",
            "in               : O       O\n",
            "amman            : B-geo   O\n",
            "to               : O       O\n",
            "discuss          : O       O\n",
            "wednesday        : B-tim   B-tim\n",
            "'s               : O       O\n",
            "attacks          : O       O\n",
            ".                : O       O\n"
          ]
        }
      ]
    },
    {
      "cell_type": "code",
      "metadata": {
        "colab": {
          "base_uri": "https://localhost:8080/",
          "height": 472
        },
        "id": "ubLZsdeAWcM5",
        "outputId": "89eaabae-fe93-468f-968f-869607ec17c6"
      },
      "source": [
        "epochs = range(1, len(history.history['val_loss']) + 1)\n",
        "plt.plot(epochs, history.history['loss'])\n",
        "plt.plot(epochs, history.history['val_loss'])\n",
        "plt.title('model loss')\n",
        "plt.ylabel('loss')\n",
        "plt.xlabel('epoch')\n",
        "plt.legend(['train', 'val'], loc='upper left')\n",
        "plt.show()"
      ],
      "execution_count": 100,
      "outputs": [
        {
          "output_type": "display_data",
          "data": {
            "text/plain": [
              "<Figure size 640x480 with 1 Axes>"
            ],
            "image/png": "[encoded data removed]"
          },
          "metadata": {}
        }
      ]
    },
    {
      "cell_type": "code",
      "source": [
        "from seqeval.metrics import f1_score, classification_report"
      ],
      "metadata": {
        "id": "sTq2LfgZ9RAt"
      },
      "execution_count": 101,
      "outputs": []
    },
    {
      "cell_type": "code",
      "metadata": {
        "id": "4cpU0SDGWerH"
      },
      "source": [
        "def sequences_to_tag(sequences): # A function that turns predictions into tagging information using index_to_ner.\n",
        "    result = []\n",
        "    for sequence in sequences: # take out a sequence one by one from the whole sequence.\n",
        "        temp = []\n",
        "        for pred in sequence: # Get the predictions from the sequence one by one.\n",
        "            pred_index = np.argmax(pred) # For example, [0, 0, 1, 0, 0] returns 2, the index of 1.\n",
        "            temp.append(index_to_ner[pred_index].replace(\"PAD\", \"O\")) # Replace 'PAD' with 'O'\n",
        "        result. append(temp)\n",
        "    return result"
      ],
      "execution_count": 103,
      "outputs": []
    },
    {
      "cell_type": "code",
      "metadata": {
        "id": "JHhSt-loWhc-",
        "outputId": "23ef2467-c89a-456d-9dd0-90def3c2371b",
        "colab": {
          "base_uri": "https://localhost:8080/"
        }
      },
      "source": [
        "y_predicted = model.predict(X_test)\n",
        "pred_tags = sequences_to_tag(y_predicted)\n",
        "test_tags = sequences_to_tag(y_test)"
      ],
      "execution_count": 111,
      "outputs": [
        {
          "output_type": "stream",
          "name": "stdout",
          "text": [
            "300/300 [==============================] - 2s 8ms/step\n"
          ]
        }
      ]
    },
    {
      "cell_type": "code",
      "source": [
        "test_tags[0], pred_tags[0]"
      ],
      "metadata": {
        "id": "7kCkkE6Xo59x",
        "outputId": "b149f361-8b86-42cd-82b0-33675e391ce3",
        "colab": {
          "base_uri": "https://localhost:8080/"
        }
      },
      "execution_count": 114,
      "outputs": [
        {
          "output_type": "execute_result",
          "data": {
            "text/plain": [
              "(['O',\n",
              "  'B-tim',\n",
              "  'I-tim',\n",
              "  'O',\n",
              "  'B-org',\n",
              "  'O',\n",
              "  'O',\n",
              "  'O',\n",
              "  'O',\n",
              "  'O',\n",
              "  'O',\n",
              "  'O',\n",
              "  'O',\n",
              "  'O',\n",
              "  'O',\n",
              "  'O',\n",
              "  'O',\n",
              "  'O',\n",
              "  'O',\n",
              "  'O',\n",
              "  'O',\n",
              "  'O',\n",
              "  'O',\n",
              "  'O',\n",
              "  'O',\n",
              "  'O',\n",
              "  'O',\n",
              "  'O',\n",
              "  'O',\n",
              "  'O',\n",
              "  'O',\n",
              "  'O',\n",
              "  'O',\n",
              "  'O',\n",
              "  'O',\n",
              "  'O',\n",
              "  'O',\n",
              "  'O',\n",
              "  'O',\n",
              "  'O',\n",
              "  'O',\n",
              "  'O',\n",
              "  'O',\n",
              "  'O',\n",
              "  'O',\n",
              "  'O',\n",
              "  'O',\n",
              "  'O',\n",
              "  'O',\n",
              "  'O',\n",
              "  'O',\n",
              "  'O',\n",
              "  'O',\n",
              "  'O',\n",
              "  'O',\n",
              "  'O',\n",
              "  'O',\n",
              "  'O',\n",
              "  'O',\n",
              "  'O',\n",
              "  'O',\n",
              "  'O',\n",
              "  'O',\n",
              "  'O',\n",
              "  'O',\n",
              "  'O',\n",
              "  'O',\n",
              "  'O',\n",
              "  'O',\n",
              "  'O'],\n",
              " ['O',\n",
              "  'B-tim',\n",
              "  'I-tim',\n",
              "  'O',\n",
              "  'B-gpe',\n",
              "  'O',\n",
              "  'O',\n",
              "  'O',\n",
              "  'O',\n",
              "  'O',\n",
              "  'O',\n",
              "  'O',\n",
              "  'O',\n",
              "  'O',\n",
              "  'O',\n",
              "  'O',\n",
              "  'O',\n",
              "  'O',\n",
              "  'O',\n",
              "  'O',\n",
              "  'O',\n",
              "  'O',\n",
              "  'O',\n",
              "  'O',\n",
              "  'O',\n",
              "  'O',\n",
              "  'O',\n",
              "  'O',\n",
              "  'O',\n",
              "  'O',\n",
              "  'O',\n",
              "  'O',\n",
              "  'O',\n",
              "  'O',\n",
              "  'O',\n",
              "  'O',\n",
              "  'O',\n",
              "  'O',\n",
              "  'O',\n",
              "  'O',\n",
              "  'O',\n",
              "  'O',\n",
              "  'O',\n",
              "  'O',\n",
              "  'O',\n",
              "  'O',\n",
              "  'O',\n",
              "  'O',\n",
              "  'O',\n",
              "  'O',\n",
              "  'O',\n",
              "  'O',\n",
              "  'O',\n",
              "  'O',\n",
              "  'O',\n",
              "  'O',\n",
              "  'O',\n",
              "  'O',\n",
              "  'O',\n",
              "  'O',\n",
              "  'O',\n",
              "  'O',\n",
              "  'O',\n",
              "  'O',\n",
              "  'O',\n",
              "  'O',\n",
              "  'O',\n",
              "  'O',\n",
              "  'O',\n",
              "  'O'])"
            ]
          },
          "metadata": {},
          "execution_count": 114
        }
      ]
    },
    {
      "cell_type": "code",
      "metadata": {
        "colab": {
          "base_uri": "https://localhost:8080/"
        },
        "id": "1djczWAQWlSH",
        "outputId": "adc163aa-223f-4f9d-f3bb-05115bc111de"
      },
      "source": [
        "print(classification_report(test_tags, pred_tags))"
      ],
      "execution_count": 112,
      "outputs": [
        {
          "output_type": "stream",
          "name": "stdout",
          "text": [
            "              precision    recall  f1-score   support\n",
            "\n",
            "         art       0.25      0.03      0.06        63\n",
            "         eve       0.60      0.29      0.39        52\n",
            "         geo       0.84      0.83      0.83      7620\n",
            "         gpe       0.94      0.95      0.94      3145\n",
            "         nat       0.53      0.24      0.33        37\n",
            "         org       0.55      0.58      0.57      4033\n",
            "         per       0.73      0.71      0.72      3545\n",
            "         tim       0.86      0.84      0.85      4067\n",
            "\n",
            "   micro avg       0.78      0.78      0.78     22562\n",
            "   macro avg       0.66      0.56      0.59     22562\n",
            "weighted avg       0.79      0.78      0.78     22562\n",
            "\n"
          ]
        }
      ]
    },
    {
      "cell_type": "markdown",
      "metadata": {
        "id": "FbQE34bSOdhP"
      },
      "source": [
        "## 성능"
      ]
    },
    {
      "cell_type": "code",
      "metadata": {
        "colab": {
          "base_uri": "https://localhost:8080/"
        },
        "id": "M00m3njrWoNd",
        "outputId": "0b632f4b-dcaa-44e2-e953-1835b369a96d"
      },
      "source": [
        "print(\"F1-score: {:.1%}\".format(f1_score(test_tags, pred_tags)))"
      ],
      "execution_count": 113,
      "outputs": [
        {
          "output_type": "stream",
          "name": "stdout",
          "text": [
            "F1-score: 78.1%\n"
          ]
        }
      ]
    },
    {
      "cell_type": "markdown",
      "metadata": {
        "id": "MJIMCtl9Acxp"
      },
      "source": [
        "# BiLSTM-CRF를 이용한 개체명인식"
      ]
    },
    {
      "cell_type": "markdown",
      "metadata": {
        "id": "o9Xi26XHOhbv"
      },
      "source": [
        "## 모델링"
      ]
    },
    {
      "cell_type": "code",
      "source": [
        "import tensorflow as tf\n",
        "from tensorflow.keras import Model\n",
        "from tensorflow.keras.layers import Dense, LSTM, Input, Bidirectional, TimeDistributed, Embedding, Dropout\n",
        "from tensorflow.keras.callbacks import EarlyStopping, ModelCheckpoint\n",
        "from keras_crf import CRFModel\n",
        "from seqeval.metrics import f1_score, classification_report"
      ],
      "metadata": {
        "id": "ccSUZlLYGga1",
        "outputId": "1098f552-e206-448a-a47e-1fb65da5ee82",
        "colab": {
          "base_uri": "https://localhost:8080/"
        }
      },
      "execution_count": 115,
      "outputs": [
        {
          "output_type": "stream",
          "name": "stderr",
          "text": [
            "/usr/local/lib/python3.10/dist-packages/tensorflow_addons/utils/tfa_eol_msg.py:23: UserWarning: \n",
            "\n",
            "TensorFlow Addons (TFA) has ended development and introduction of new features.\n",
            "TFA has entered a minimal maintenance and release mode until a planned end of life in May 2024.\n",
            "Please modify downstream libraries to take dependencies from other repositories in our TensorFlow community (e.g. Keras, Keras-CV, and Keras-NLP). \n",
            "\n",
            "For more information see: https://github.com/tensorflow/addons/issues/2807 \n",
            "\n",
            "  warnings.warn(\n"
          ]
        }
      ]
    },
    {
      "cell_type": "code",
      "source": [
        "vocab_size"
      ],
      "metadata": {
        "id": "Du5Sw1rcpjxj",
        "outputId": "b2cd00c1-87f5-48d9-bee0-320b49af165d",
        "colab": {
          "base_uri": "https://localhost:8080/"
        }
      },
      "execution_count": 117,
      "outputs": [
        {
          "output_type": "execute_result",
          "data": {
            "text/plain": [
              "31819"
            ]
          },
          "metadata": {},
          "execution_count": 117
        }
      ]
    },
    {
      "cell_type": "code",
      "metadata": {
        "colab": {
          "base_uri": "https://localhost:8080/"
        },
        "id": "CVvgFVt3llwU",
        "outputId": "80e34b9e-492d-4dfa-9f0d-4e6e61c1cca6"
      },
      "source": [
        "embedding_dim = 128\n",
        "hidden_units = 64\n",
        "dropout_ratio = 0.3\n",
        "\n",
        "sequence_input = Input(shape=(max_len,),dtype=tf.int32, name='sequence_input')\n",
        "\n",
        "model_embedding = Embedding(input_dim=vocab_size,\n",
        "                            output_dim=embedding_dim,\n",
        "                            input_length=max_len)(sequence_input)\n",
        "\n",
        "model_bilstm = Bidirectional(LSTM(units=hidden_units, return_sequences=True))(model_embedding)\n",
        "\n",
        "model_dropout = TimeDistributed(Dropout(dropout_ratio))(model_bilstm)\n",
        "\n",
        "model_dense = TimeDistributed(Dense(tag_size, activation='relu'))(model_dropout)\n",
        "\n",
        "base = Model(inputs=sequence_input, outputs=model_dense)\n",
        "model = CRFModel(base, tag_size)\n",
        "model.compile(optimizer=tf.keras.optimizers.Adam(0.001), metrics='accuracy')\n",
        "model.summary()"
      ],
      "execution_count": 116,
      "outputs": [
        {
          "output_type": "stream",
          "name": "stdout",
          "text": [
            "Model: \"crf_model\"\n",
            "__________________________________________________________________________________________________\n",
            " Layer (type)                   Output Shape         Param #     Connected to                     \n",
            "==================================================================================================\n",
            " sequence_input (InputLayer)    [(None, 70)]         0           []                               \n",
            "                                                                                                  \n",
            " embedding_1 (Embedding)        (None, 70, 128)      4072832     ['sequence_input[0][0]']         \n",
            "                                                                                                  \n",
            " bidirectional_1 (Bidirectional  (None, 70, 128)     98816       ['embedding_1[0][0]']            \n",
            " )                                                                                                \n",
            "                                                                                                  \n",
            " time_distributed_1 (TimeDistri  (None, 70, 128)     0           ['bidirectional_1[0][0]']        \n",
            " buted)                                                                                           \n",
            "                                                                                                  \n",
            " time_distributed_2 (TimeDistri  (None, 70, 18)      2322        ['time_distributed_1[0][0]']     \n",
            " buted)                                                                                           \n",
            "                                                                                                  \n",
            " crf (CRF)                      [(None, 70),         702         ['time_distributed_2[0][0]']     \n",
            "                                 (None, 70, 18),                                                  \n",
            "                                 (None,),                                                         \n",
            "                                 (18, 18)]                                                        \n",
            "                                                                                                  \n",
            " decode_sequence (Lambda)       (None, 70)           0           ['crf[0][0]']                    \n",
            "                                                                                                  \n",
            " potentials (Lambda)            (None, 70, 18)       0           ['crf[0][1]']                    \n",
            "                                                                                                  \n",
            " sequence_length (Lambda)       (None,)              0           ['crf[0][2]']                    \n",
            "                                                                                                  \n",
            " kernel (Lambda)                (18, 18)             0           ['crf[0][3]']                    \n",
            "                                                                                                  \n",
            "==================================================================================================\n",
            "Total params: 4,174,672\n",
            "Trainable params: 4,174,672\n",
            "Non-trainable params: 0\n",
            "__________________________________________________________________________________________________\n"
          ]
        }
      ]
    },
    {
      "cell_type": "code",
      "metadata": {
        "id": "jv3m451klwxt"
      },
      "source": [
        "es = EarlyStopping(monitor='val_loss', mode='min', verbose=1, patience=4)\n",
        "mc = ModelCheckpoint('bilstm_crf/cp.ckpt', monitor='val_decode_sequence_accuracy', mode='max', verbose=1, save_best_only=True, save_weights_only=True)"
      ],
      "execution_count": 118,
      "outputs": []
    },
    {
      "cell_type": "code",
      "metadata": {
        "colab": {
          "base_uri": "https://localhost:8080/"
        },
        "id": "NYUs5NYDl4_x",
        "outputId": "04ff7aa9-3685-466f-f53e-3ac14c96e3f4"
      },
      "source": [
        "history = model.fit(X_train, y_train_int, batch_size=128, epochs=15, validation_split=0.1, callbacks=[mc, es])"
      ],
      "execution_count": 119,
      "outputs": [
        {
          "output_type": "stream",
          "name": "stdout",
          "text": [
            "Epoch 1/15\n",
            "270/270 [==============================] - ETA: 0s - decode_sequence_accuracy: 0.9171 - loss: 27.1705\n",
            "Epoch 1: val_decode_sequence_accuracy improved from -inf to 0.95844, saving model to bilstm_crf/cp.ckpt\n",
            "270/270 [==============================] - 76s 248ms/step - decode_sequence_accuracy: 0.9171 - loss: 27.1054 - val_decode_sequence_accuracy: 0.9584 - val_loss: 9.9670\n",
            "Epoch 2/15\n",
            "270/270 [==============================] - ETA: 0s - decode_sequence_accuracy: 0.9711 - loss: 6.7725\n",
            "Epoch 2: val_decode_sequence_accuracy improved from 0.95844 to 0.97853, saving model to bilstm_crf/cp.ckpt\n",
            "270/270 [==============================] - 53s 197ms/step - decode_sequence_accuracy: 0.9711 - loss: 6.7672 - val_decode_sequence_accuracy: 0.9785 - val_loss: 5.3499\n",
            "Epoch 3/15\n",
            "270/270 [==============================] - ETA: 0s - decode_sequence_accuracy: 0.9811 - loss: 4.0460\n",
            "Epoch 3: val_decode_sequence_accuracy improved from 0.97853 to 0.98197, saving model to bilstm_crf/cp.ckpt\n",
            "270/270 [==============================] - 48s 178ms/step - decode_sequence_accuracy: 0.9811 - loss: 4.0411 - val_decode_sequence_accuracy: 0.9820 - val_loss: 4.0212\n",
            "Epoch 4/15\n",
            "270/270 [==============================] - ETA: 0s - decode_sequence_accuracy: 0.9848 - loss: 2.8913\n",
            "Epoch 4: val_decode_sequence_accuracy improved from 0.98197 to 0.98367, saving model to bilstm_crf/cp.ckpt\n",
            "270/270 [==============================] - 46s 170ms/step - decode_sequence_accuracy: 0.9848 - loss: 2.8893 - val_decode_sequence_accuracy: 0.9837 - val_loss: 3.3711\n",
            "Epoch 5/15\n",
            "270/270 [==============================] - ETA: 0s - decode_sequence_accuracy: 0.9868 - loss: 2.2883\n",
            "Epoch 5: val_decode_sequence_accuracy improved from 0.98367 to 0.98449, saving model to bilstm_crf/cp.ckpt\n",
            "270/270 [==============================] - 48s 177ms/step - decode_sequence_accuracy: 0.9868 - loss: 2.2883 - val_decode_sequence_accuracy: 0.9845 - val_loss: 3.1443\n",
            "Epoch 6/15\n",
            "270/270 [==============================] - ETA: 0s - decode_sequence_accuracy: 0.9881 - loss: 1.9135\n",
            "Epoch 6: val_decode_sequence_accuracy did not improve from 0.98449\n",
            "270/270 [==============================] - 46s 171ms/step - decode_sequence_accuracy: 0.9881 - loss: 1.9123 - val_decode_sequence_accuracy: 0.9844 - val_loss: 3.1141\n",
            "Epoch 7/15\n",
            "270/270 [==============================] - ETA: 0s - decode_sequence_accuracy: 0.9890 - loss: 1.6573\n",
            "Epoch 7: val_decode_sequence_accuracy did not improve from 0.98449\n",
            "270/270 [==============================] - 46s 169ms/step - decode_sequence_accuracy: 0.9890 - loss: 1.6576 - val_decode_sequence_accuracy: 0.9843 - val_loss: 3.1234\n",
            "Epoch 8/15\n",
            "270/270 [==============================] - ETA: 0s - decode_sequence_accuracy: 0.9898 - loss: 1.4571\n",
            "Epoch 8: val_decode_sequence_accuracy improved from 0.98449 to 0.98453, saving model to bilstm_crf/cp.ckpt\n",
            "270/270 [==============================] - 47s 173ms/step - decode_sequence_accuracy: 0.9898 - loss: 1.4583 - val_decode_sequence_accuracy: 0.9845 - val_loss: 3.2730\n",
            "Epoch 9/15\n",
            "270/270 [==============================] - ETA: 0s - decode_sequence_accuracy: 0.9904 - loss: 1.2986\n",
            "Epoch 9: val_decode_sequence_accuracy did not improve from 0.98453\n",
            "270/270 [==============================] - 46s 171ms/step - decode_sequence_accuracy: 0.9904 - loss: 1.2995 - val_decode_sequence_accuracy: 0.9842 - val_loss: 3.2373\n",
            "Epoch 10/15\n",
            "270/270 [==============================] - ETA: 0s - decode_sequence_accuracy: 0.9911 - loss: 1.1590\n",
            "Epoch 10: val_decode_sequence_accuracy did not improve from 0.98453\n",
            "270/270 [==============================] - 44s 165ms/step - decode_sequence_accuracy: 0.9911 - loss: 1.1577 - val_decode_sequence_accuracy: 0.9842 - val_loss: 3.4647\n",
            "Epoch 10: early stopping\n"
          ]
        }
      ]
    },
    {
      "cell_type": "code",
      "metadata": {
        "colab": {
          "base_uri": "https://localhost:8080/"
        },
        "id": "p5UqeRqwre2t",
        "outputId": "24311ff6-46a2-4ba9-e1b8-04710d464192"
      },
      "source": [
        "model.load_weights('bilstm_crf/cp.ckpt')"
      ],
      "execution_count": 120,
      "outputs": [
        {
          "output_type": "execute_result",
          "data": {
            "text/plain": [
              "<tensorflow.python.checkpoint.checkpoint.CheckpointLoadStatus at 0x7f5a88d6a620>"
            ]
          },
          "metadata": {},
          "execution_count": 120
        }
      ]
    },
    {
      "cell_type": "code",
      "source": [
        "i = 13 # 확인하고 싶은 테스트용 샘플의 인덱스.\n",
        "y_predicted = model.predict(np.array([X_test[i]]))[0] # 입력한 테스트용 샘플에 대해서 예측 y를 리턴\n",
        "true = np.argmax(y_test[i], -1) # 원-핫 인코딩을 다시 정수 인코딩으로 변경함.\n",
        "\n",
        "print(\"{:15}|{:5}|{}\".format(\"단어\", \"실제값\", \"예측값\"))\n",
        "print(35 * \"-\")\n",
        "\n",
        "for word, tag, pred in zip(X_test[i], true, y_predicted[0]):\n",
        "    if word != 0: # PAD값은 제외함.\n",
        "        print(\"{:17}: {:7} {}\".format(index_to_word[word], index_to_ner[tag], index_to_ner[pred]))"
      ],
      "metadata": {
        "colab": {
          "base_uri": "https://localhost:8080/"
        },
        "id": "y2ojsYdHH4vA",
        "outputId": "56766fa7-7045-4c83-d520-caf3193f73da"
      },
      "execution_count": 121,
      "outputs": [
        {
          "output_type": "stream",
          "name": "stdout",
          "text": [
            "1/1 [==============================] - 1s 952ms/step\n",
            "단어             |실제값  |예측값\n",
            "-----------------------------------\n",
            "the              : O       O\n",
            "statement        : O       O\n",
            "came             : O       O\n",
            "as               : O       O\n",
            "u.n.             : B-org   B-org\n",
            "secretary-general: I-org   I-org\n",
            "kofi             : B-per   B-per\n",
            "annan            : I-per   I-per\n",
            "met              : O       O\n",
            "with             : O       O\n",
            "officials        : O       O\n",
            "in               : O       O\n",
            "amman            : B-geo   B-geo\n",
            "to               : O       O\n",
            "discuss          : O       O\n",
            "wednesday        : B-tim   B-tim\n",
            "'s               : O       O\n",
            "attacks          : O       O\n",
            ".                : O       O\n"
          ]
        }
      ]
    },
    {
      "cell_type": "code",
      "metadata": {
        "id": "QyrXGm8sm9Xl",
        "outputId": "80ffe8ad-952e-4341-f67f-d84be22e29a5",
        "colab": {
          "base_uri": "https://localhost:8080/"
        }
      },
      "source": [
        "y_predicted = model.predict(X_test)[0]"
      ],
      "execution_count": 122,
      "outputs": [
        {
          "output_type": "stream",
          "name": "stdout",
          "text": [
            "300/300 [==============================] - 24s 81ms/step\n"
          ]
        }
      ]
    },
    {
      "cell_type": "code",
      "metadata": {
        "id": "fz3ataXrnFNj"
      },
      "source": [
        "def sequences_to_tag(sequences): # A function that turns predictions into tagging information using index_to_ner.\n",
        "    result = []\n",
        "    for sequence in sequences: # take out a sequence one by one from the whole sequence.\n",
        "        temp = []\n",
        "        for pred in sequence: # Get the predictions from the sequence one by one.\n",
        "            pred_index = np.argmax(pred) # For example, [0, 0, 1, 0, 0] returns 2, the index of 1.\n",
        "            temp.append(index_to_ner[pred_index].replace(\"PAD\", \"O\")) # Replace 'PAD' with 'O'\n",
        "        result. append(temp)\n",
        "    return result"
      ],
      "execution_count": 125,
      "outputs": []
    },
    {
      "cell_type": "code",
      "metadata": {
        "id": "UHgc7HhZm-cs"
      },
      "source": [
        "def sequences_to_tag_for_crf(sequences): # Function to turn predictions into tagging information using index_to_ner.\n",
        "    result = []\n",
        "    for sequence in sequences: # take out a sequence one by one from the whole sequence.\n",
        "        temp = []\n",
        "        for pred in sequence: # Get the predictions from the sequence one by one.\n",
        "            # pred_index = np.argmax(pred) # For example, [0, 0, 1, 0, 0] returns 2, the index of 1.\n",
        "            pred_index = pred\n",
        "            temp.append(index_to_ner[pred_index].replace(\"PAD\", \"O\")) # Replace 'PAD' with 'O'\n",
        "        result. append(temp)\n",
        "    return result"
      ],
      "execution_count": 126,
      "outputs": []
    },
    {
      "cell_type": "code",
      "metadata": {
        "id": "GRjWgGwVm_y7"
      },
      "source": [
        "pred_tags = sequences_to_tag_for_crf(y_predicted)\n",
        "test_tags = sequences_to_tag(y_test)"
      ],
      "execution_count": 127,
      "outputs": []
    },
    {
      "cell_type": "code",
      "metadata": {
        "colab": {
          "base_uri": "https://localhost:8080/"
        },
        "id": "J62vAVj-nBmP",
        "outputId": "26f9ba82-aedd-4b11-e41d-0ab24bda2d67"
      },
      "source": [
        "print(classification_report(test_tags, pred_tags))"
      ],
      "execution_count": 128,
      "outputs": [
        {
          "output_type": "stream",
          "name": "stderr",
          "text": [
            "/usr/local/lib/python3.10/dist-packages/seqeval/metrics/v1.py:57: UndefinedMetricWarning: Precision and F-score are ill-defined and being set to 0.0 in labels with no predicted samples. Use `zero_division` parameter to control this behavior.\n",
            "  _warn_prf(average, modifier, msg_start, len(result))\n"
          ]
        },
        {
          "output_type": "stream",
          "name": "stdout",
          "text": [
            "              precision    recall  f1-score   support\n",
            "\n",
            "         art       0.25      0.05      0.08        63\n",
            "         eve       0.00      0.00      0.00        52\n",
            "         geo       0.82      0.84      0.83      7620\n",
            "         gpe       0.94      0.94      0.94      3145\n",
            "         nat       0.33      0.03      0.05        37\n",
            "         org       0.68      0.56      0.61      4033\n",
            "         per       0.74      0.70      0.72      3545\n",
            "         tim       0.87      0.84      0.85      4067\n",
            "\n",
            "   micro avg       0.81      0.78      0.79     22562\n",
            "   macro avg       0.58      0.49      0.51     22562\n",
            "weighted avg       0.80      0.78      0.79     22562\n",
            "\n"
          ]
        }
      ]
    },
    {
      "cell_type": "markdown",
      "metadata": {
        "id": "pY8rEL_tOjCe"
      },
      "source": [
        "## 성능"
      ]
    },
    {
      "cell_type": "code",
      "metadata": {
        "colab": {
          "base_uri": "https://localhost:8080/"
        },
        "id": "7Udxj7vLnHGe",
        "outputId": "169bce4c-13d1-4f86-f38a-219009012584"
      },
      "source": [
        "print(\"F1-score: {:.1%}\".format(f1_score(test_tags, pred_tags)))"
      ],
      "execution_count": 129,
      "outputs": [
        {
          "output_type": "stream",
          "name": "stdout",
          "text": [
            "F1-score: 79.3%\n"
          ]
        }
      ]
    },
    {
      "cell_type": "markdown",
      "metadata": {
        "id": "BSiCMNSs7ynl"
      },
      "source": [
        "# BiLSTM-CNN을 이용한 개체명인식"
      ]
    },
    {
      "cell_type": "markdown",
      "metadata": {
        "id": "HWUVra7SOfLk"
      },
      "source": [
        "## 모델링"
      ]
    },
    {
      "cell_type": "code",
      "metadata": {
        "id": "OsijEbzI99sN"
      },
      "source": [
        "from tensorflow.keras.layers import Embedding, Input, TimeDistributed, Dropout, concatenate, Bidirectional, LSTM, Conv1D, Dense, MaxPooling1D, Flatten\n",
        "from tensorflow.keras import Model\n",
        "from tensorflow.keras.initializers import RandomUniform\n",
        "from tensorflow.keras.callbacks import EarlyStopping, ModelCheckpoint\n",
        "from tensorflow.keras.models import load_model\n",
        "from seqeval.metrics import f1_score, classification_report"
      ],
      "execution_count": 130,
      "outputs": []
    },
    {
      "cell_type": "code",
      "metadata": {
        "colab": {
          "base_uri": "https://localhost:8080/"
        },
        "id": "Cl_f3LMS-IzV",
        "outputId": "c055090f-9371-470e-ca43-3061c18ce754"
      },
      "source": [
        "embedding_dim = 128\n",
        "char_embedding_dim = 64\n",
        "dropout_ratio = 0.5\n",
        "hidden_units = 256\n",
        "num_filters = 30\n",
        "kernel_size = 3\n",
        "\n",
        "# 단어 임베딩\n",
        "words_input = Input(shape=(None,),dtype='int32',name='words_input')\n",
        "words = Embedding(input_dim=vocab_size, output_dim=embedding_dim)(words_input)\n",
        "\n",
        "# char 임베딩\n",
        "character_input = Input(shape=(None, max_len_char,),name='char_input')\n",
        "embed_char_out = TimeDistributed(Embedding(len(char_to_index), char_embedding_dim, embeddings_initializer=RandomUniform(minval=-0.5, maxval=0.5)), name='char_embedding')(character_input)\n",
        "dropout = Dropout(dropout_ratio)(embed_char_out)\n",
        "\n",
        "# char 임베딩에 대해서는 Conv1D 수행\n",
        "conv1d_out= TimeDistributed(Conv1D(kernel_size=kernel_size, filters=num_filters, padding='same', activation='tanh', strides=1))(dropout)\n",
        "maxpool_out=TimeDistributed(MaxPooling1D(max_len_char))(conv1d_out)\n",
        "char = TimeDistributed(Flatten())(maxpool_out)\n",
        "char = Dropout(dropout_ratio)(char)\n",
        "\n",
        "# char 임베딩을 Conv1D 수행한 뒤에 단어 임베딩과 연결\n",
        "output = concatenate([words, char])\n",
        "\n",
        "# 연결한 벡터를 가지고 문장의 길이만큼 LSTM을 수행\n",
        "output = Bidirectional(LSTM(hidden_units, return_sequences=True, dropout=dropout_ratio))(output)\n",
        "\n",
        "# 출력층\n",
        "output = TimeDistributed(Dense(tag_size, activation='softmax'))(output)\n",
        "\n",
        "model = Model(inputs=[words_input, character_input], outputs=[output])\n",
        "model.compile(loss='categorical_crossentropy', optimizer='nadam',  metrics=['acc'])\n",
        "model.summary()"
      ],
      "execution_count": 131,
      "outputs": [
        {
          "output_type": "stream",
          "name": "stdout",
          "text": [
            "Model: \"model_1\"\n",
            "__________________________________________________________________________________________________\n",
            " Layer (type)                   Output Shape         Param #     Connected to                     \n",
            "==================================================================================================\n",
            " char_input (InputLayer)        [(None, None, 15)]   0           []                               \n",
            "                                                                                                  \n",
            " char_embedding (TimeDistribute  (None, None, 15, 64  4736       ['char_input[0][0]']             \n",
            " d)                             )                                                                 \n",
            "                                                                                                  \n",
            " dropout_1 (Dropout)            (None, None, 15, 64  0           ['char_embedding[0][0]']         \n",
            "                                )                                                                 \n",
            "                                                                                                  \n",
            " time_distributed_3 (TimeDistri  (None, None, 15, 30  5790       ['dropout_1[0][0]']              \n",
            " buted)                         )                                                                 \n",
            "                                                                                                  \n",
            " time_distributed_4 (TimeDistri  (None, None, 1, 30)  0          ['time_distributed_3[0][0]']     \n",
            " buted)                                                                                           \n",
            "                                                                                                  \n",
            " words_input (InputLayer)       [(None, None)]       0           []                               \n",
            "                                                                                                  \n",
            " time_distributed_5 (TimeDistri  (None, None, 30)    0           ['time_distributed_4[0][0]']     \n",
            " buted)                                                                                           \n",
            "                                                                                                  \n",
            " embedding_2 (Embedding)        (None, None, 128)    4072832     ['words_input[0][0]']            \n",
            "                                                                                                  \n",
            " dropout_2 (Dropout)            (None, None, 30)     0           ['time_distributed_5[0][0]']     \n",
            "                                                                                                  \n",
            " concatenate (Concatenate)      (None, None, 158)    0           ['embedding_2[0][0]',            \n",
            "                                                                  'dropout_2[0][0]']              \n",
            "                                                                                                  \n",
            " bidirectional_2 (Bidirectional  (None, None, 512)   849920      ['concatenate[0][0]']            \n",
            " )                                                                                                \n",
            "                                                                                                  \n",
            " time_distributed_6 (TimeDistri  (None, None, 18)    9234        ['bidirectional_2[0][0]']        \n",
            " buted)                                                                                           \n",
            "                                                                                                  \n",
            "==================================================================================================\n",
            "Total params: 4,942,512\n",
            "Trainable params: 4,942,512\n",
            "Non-trainable params: 0\n",
            "__________________________________________________________________________________________________\n"
          ]
        }
      ]
    },
    {
      "cell_type": "code",
      "metadata": {
        "id": "iNxMCvYYYzYm"
      },
      "source": [
        "es = EarlyStopping(monitor='val_loss', mode='min', verbose=1, patience=4)\n",
        "mc = ModelCheckpoint('bilstm_cnn.h5', monitor='val_acc', mode='max', verbose=1, save_best_only=True)"
      ],
      "execution_count": 132,
      "outputs": []
    },
    {
      "cell_type": "code",
      "metadata": {
        "colab": {
          "base_uri": "https://localhost:8080/"
        },
        "id": "ywZ-xsUHBGn9",
        "outputId": "9116fd45-9f8a-49ba-ce09-db0bda7f0c7b"
      },
      "source": [
        "history = model.fit([X_train, X_char_train], y_train, batch_size=128, epochs=15, validation_split=0.1, verbose=1, callbacks=[es, mc])"
      ],
      "execution_count": 133,
      "outputs": [
        {
          "output_type": "stream",
          "name": "stdout",
          "text": [
            "Epoch 1/15\n",
            "270/270 [==============================] - ETA: 0s - loss: 0.2094 - acc: 0.9482\n",
            "Epoch 1: val_acc improved from -inf to 0.97700, saving model to bilstm_cnn.h5\n",
            "270/270 [==============================] - 58s 176ms/step - loss: 0.2094 - acc: 0.9482 - val_loss: 0.0853 - val_acc: 0.9770\n",
            "Epoch 2/15\n",
            "270/270 [==============================] - ETA: 0s - loss: 0.0615 - acc: 0.9826\n",
            "Epoch 2: val_acc improved from 0.97700 to 0.98511, saving model to bilstm_cnn.h5\n",
            "270/270 [==============================] - 21s 76ms/step - loss: 0.0615 - acc: 0.9826 - val_loss: 0.0509 - val_acc: 0.9851\n",
            "Epoch 3/15\n",
            "270/270 [==============================] - ETA: 0s - loss: 0.0426 - acc: 0.9876\n",
            "Epoch 3: val_acc improved from 0.98511 to 0.98663, saving model to bilstm_cnn.h5\n",
            "270/270 [==============================] - 17s 65ms/step - loss: 0.0426 - acc: 0.9876 - val_loss: 0.0445 - val_acc: 0.9866\n",
            "Epoch 4/15\n",
            "270/270 [==============================] - ETA: 0s - loss: 0.0355 - acc: 0.9894\n",
            "Epoch 4: val_acc improved from 0.98663 to 0.98698, saving model to bilstm_cnn.h5\n",
            "270/270 [==============================] - 15s 53ms/step - loss: 0.0355 - acc: 0.9894 - val_loss: 0.0426 - val_acc: 0.9870\n",
            "Epoch 5/15\n",
            "270/270 [==============================] - ETA: 0s - loss: 0.0314 - acc: 0.9905\n",
            "Epoch 5: val_acc improved from 0.98698 to 0.98738, saving model to bilstm_cnn.h5\n",
            "270/270 [==============================] - 13s 50ms/step - loss: 0.0314 - acc: 0.9905 - val_loss: 0.0423 - val_acc: 0.9874\n",
            "Epoch 6/15\n",
            "270/270 [==============================] - ETA: 0s - loss: 0.0283 - acc: 0.9912\n",
            "Epoch 6: val_acc did not improve from 0.98738\n",
            "270/270 [==============================] - 15s 55ms/step - loss: 0.0283 - acc: 0.9912 - val_loss: 0.0431 - val_acc: 0.9869\n",
            "Epoch 7/15\n",
            "270/270 [==============================] - ETA: 0s - loss: 0.0261 - acc: 0.9918\n",
            "Epoch 7: val_acc did not improve from 0.98738\n",
            "270/270 [==============================] - 13s 48ms/step - loss: 0.0261 - acc: 0.9918 - val_loss: 0.0425 - val_acc: 0.9874\n",
            "Epoch 8/15\n",
            "270/270 [==============================] - ETA: 0s - loss: 0.0240 - acc: 0.9924\n",
            "Epoch 8: val_acc did not improve from 0.98738\n",
            "270/270 [==============================] - 13s 48ms/step - loss: 0.0240 - acc: 0.9924 - val_loss: 0.0439 - val_acc: 0.9872\n",
            "Epoch 9/15\n",
            "270/270 [==============================] - ETA: 0s - loss: 0.0225 - acc: 0.9927\n",
            "Epoch 9: val_acc improved from 0.98738 to 0.98741, saving model to bilstm_cnn.h5\n",
            "270/270 [==============================] - 13s 47ms/step - loss: 0.0225 - acc: 0.9927 - val_loss: 0.0442 - val_acc: 0.9874\n",
            "Epoch 9: early stopping\n"
          ]
        }
      ]
    },
    {
      "cell_type": "code",
      "metadata": {
        "id": "r6BxnS62znhV"
      },
      "source": [
        "model = load_model('bilstm_cnn.h5')"
      ],
      "execution_count": 134,
      "outputs": []
    },
    {
      "cell_type": "code",
      "metadata": {
        "colab": {
          "base_uri": "https://localhost:8080/"
        },
        "id": "ZBNL0dX-C6Bd",
        "outputId": "64b157ee-1895-457b-88e1-231d4d87ef09"
      },
      "source": [
        "i = 13 # 확인하고 싶은 테스트용 샘플의 인덱스.\n",
        "\n",
        "# 입력한 테스트용 샘플에 대해서 예측 y를 리턴\n",
        "y_predicted = model.predict([np.array([X_test[i]]), np.array([X_char_test[i]])])\n",
        "y_predicted = np.argmax(y_predicted, axis=-1) # 확률 벡터를 정수 인코딩으로 변경함.\n",
        "true = np.argmax(y_test[i], -1) # 원-핫 인코딩을 다시 정수 인코딩으로 변경함.\n",
        "\n",
        "print(\"{:15}|{:5}|{}\".format(\"단어\", \"실제값\", \"예측값\"))\n",
        "print(35 * \"-\")\n",
        "\n",
        "for word, tag, pred in zip(X_test[i], true, y_predicted[0]):\n",
        "    if word != 0: # PAD값은 제외함.\n",
        "        print(\"{:17}: {:7} {}\".format(index_to_word[word], index_to_ner[tag], index_to_ner[pred]))"
      ],
      "execution_count": 135,
      "outputs": [
        {
          "output_type": "stream",
          "name": "stdout",
          "text": [
            "1/1 [==============================] - 1s 729ms/step\n",
            "단어             |실제값  |예측값\n",
            "-----------------------------------\n",
            "the              : O       O\n",
            "statement        : O       O\n",
            "came             : O       O\n",
            "as               : O       O\n",
            "u.n.             : B-org   B-org\n",
            "secretary-general: I-org   I-org\n",
            "kofi             : B-per   B-per\n",
            "annan            : I-per   I-per\n",
            "met              : O       O\n",
            "with             : O       O\n",
            "officials        : O       O\n",
            "in               : O       O\n",
            "amman            : B-geo   B-geo\n",
            "to               : O       O\n",
            "discuss          : O       O\n",
            "wednesday        : B-tim   B-tim\n",
            "'s               : O       O\n",
            "attacks          : O       O\n",
            ".                : O       O\n"
          ]
        }
      ]
    },
    {
      "cell_type": "code",
      "metadata": {
        "colab": {
          "base_uri": "https://localhost:8080/",
          "height": 472
        },
        "id": "alMyDhYJDhU5",
        "outputId": "4b08203f-cd3b-45ea-b92d-ecade256c6ac"
      },
      "source": [
        "epochs = range(1, len(history.history['val_loss']) + 1)\n",
        "plt.plot(epochs, history.history['loss'])\n",
        "plt.plot(epochs, history.history['val_loss'])\n",
        "plt.title('model loss')\n",
        "plt.ylabel('loss')\n",
        "plt.xlabel('epoch')\n",
        "plt.legend(['train', 'val'], loc='upper left')\n",
        "plt.show()"
      ],
      "execution_count": 136,
      "outputs": [
        {
          "output_type": "display_data",
          "data": {
            "text/plain": [
              "<Figure size 640x480 with 1 Axes>"
            ],
            "image/png": "[encoded data removed]"
          },
          "metadata": {}
        }
      ]
    },
    {
      "cell_type": "code",
      "metadata": {
        "id": "wFKpmE9cQIdW"
      },
      "source": [
        "def sequences_to_tag(sequences): # 예측값을 index_to_ner를 사용하여 태깅 정보로 변경하는 함수.\n",
        "    result = []\n",
        "    for sequence in sequences: # 전체 시퀀스로부터 시퀀스를 하나씩 꺼낸다.\n",
        "        temp = []\n",
        "        for pred in sequence: # 시퀀스로부터 예측값을 하나씩 꺼낸다.\n",
        "            pred_index = np.argmax(pred) # 예를 들어 [0, 0, 1, 0 ,0]라면 1의 인덱스인 2를 리턴한다.\n",
        "            temp.append(index_to_ner[pred_index].replace(\"PAD\", \"O\")) # 'PAD'는 'O'로 변경\n",
        "        result.append(temp)\n",
        "    return result"
      ],
      "execution_count": 137,
      "outputs": []
    },
    {
      "cell_type": "code",
      "metadata": {
        "id": "bzEfiWsQQJ0n",
        "outputId": "9aa198b1-e6ce-49a2-e805-898c76135fc8",
        "colab": {
          "base_uri": "https://localhost:8080/"
        }
      },
      "source": [
        "y_predicted = model.predict([X_test, X_char_test])\n",
        "pred_tags = sequences_to_tag(y_predicted)\n",
        "test_tags = sequences_to_tag(y_test)"
      ],
      "execution_count": 138,
      "outputs": [
        {
          "output_type": "stream",
          "name": "stdout",
          "text": [
            "300/300 [==============================] - 2s 5ms/step\n"
          ]
        }
      ]
    },
    {
      "cell_type": "code",
      "metadata": {
        "colab": {
          "base_uri": "https://localhost:8080/"
        },
        "id": "YxHz40WFP3T7",
        "outputId": "1341cdae-38d4-4603-d77d-3c4f7b5ed5af"
      },
      "source": [
        "print(classification_report(test_tags, pred_tags))"
      ],
      "execution_count": null,
      "outputs": [
        {
          "output_type": "stream",
          "name": "stdout",
          "text": [
            "              precision    recall  f1-score   support\n",
            "\n",
            "         art       0.00      0.00      0.00        63\n",
            "         eve       0.36      0.27      0.31        52\n",
            "         geo       0.82      0.86      0.84      7620\n",
            "         gpe       0.96      0.94      0.95      3145\n",
            "         nat       0.62      0.14      0.22        37\n",
            "         org       0.61      0.56      0.59      4033\n",
            "         per       0.73      0.72      0.73      3545\n",
            "         tim       0.87      0.84      0.86      4067\n",
            "\n",
            "   micro avg       0.80      0.79      0.79     22562\n",
            "   macro avg       0.62      0.54      0.56     22562\n",
            "weighted avg       0.79      0.79      0.79     22562\n",
            "\n"
          ]
        }
      ]
    },
    {
      "cell_type": "markdown",
      "metadata": {
        "id": "jIXoMhZsOgmI"
      },
      "source": [
        "## 성능"
      ]
    },
    {
      "cell_type": "code",
      "metadata": {
        "colab": {
          "base_uri": "https://localhost:8080/"
        },
        "id": "qC1_wjJSQcdr",
        "outputId": "0d5704fa-f56c-461e-f19c-f3b6eada2f40"
      },
      "source": [
        "print(\"F1-score: {:.1%}\".format(f1_score(test_tags, pred_tags)))"
      ],
      "execution_count": 139,
      "outputs": [
        {
          "output_type": "stream",
          "name": "stdout",
          "text": [
            "F1-score: 79.1%\n"
          ]
        }
      ]
    },
    {
      "cell_type": "markdown",
      "metadata": {
        "id": "o3UN2XvynYrD"
      },
      "source": [
        "#BiLSTM-CNN-CRF를 이용한 개체명인식"
      ]
    },
    {
      "cell_type": "markdown",
      "metadata": {
        "id": "pIIC5YkUOle8"
      },
      "source": [
        "## 모델링"
      ]
    },
    {
      "cell_type": "code",
      "metadata": {
        "id": "0n534tvi9h4S"
      },
      "source": [
        "import tensorflow as tf\n",
        "from keras_crf import CRFModel"
      ],
      "execution_count": 140,
      "outputs": []
    },
    {
      "cell_type": "code",
      "metadata": {
        "colab": {
          "base_uri": "https://localhost:8080/"
        },
        "id": "XhNyGVb2nf4J",
        "outputId": "6db83767-82b7-4b70-e5d0-a33bbe5ebed0"
      },
      "source": [
        "embedding_dim = 128\n",
        "char_embedding_dim = 64\n",
        "dropout_ratio = 0.5\n",
        "hidden_units = 256\n",
        "num_filters = 30\n",
        "kernel_size = 3\n",
        "\n",
        "# 단어 임베딩\n",
        "words_input = Input(shape=(None,),dtype='int32',name='words_input')\n",
        "words = Embedding(input_dim=vocab_size, output_dim=embedding_dim)(words_input)\n",
        "\n",
        "# char 임베딩\n",
        "character_input = Input(shape=(None, max_len_char,),name='char_input')\n",
        "embed_char_out = TimeDistributed(Embedding(len(char_to_index), char_embedding_dim, embeddings_initializer=RandomUniform(minval=-0.5, maxval=0.5)), name='char_embedding')(character_input)\n",
        "dropout = Dropout(dropout_ratio)(embed_char_out)\n",
        "\n",
        "# char 임베딩에 대해서는 Conv1D 수행\n",
        "conv1d_out= TimeDistributed(Conv1D(kernel_size=kernel_size, filters=num_filters, padding='same',activation='tanh', strides=1))(dropout)\n",
        "maxpool_out=TimeDistributed(MaxPooling1D(max_len_char))(conv1d_out)\n",
        "char = TimeDistributed(Flatten())(maxpool_out)\n",
        "char = Dropout(dropout_ratio)(char)\n",
        "\n",
        "# char 임베딩을 Conv1D 수행한 뒤에 단어 임베딩과 연결\n",
        "output = concatenate([words, char])\n",
        "\n",
        "# 연결한 벡터를 가지고 문장의 길이만큼 LSTM을 수행\n",
        "output = Bidirectional(LSTM(hidden_units, return_sequences=True, dropout=dropout_ratio))(output)\n",
        "\n",
        "# 출력층\n",
        "output = TimeDistributed(Dense(tag_size, activation='relu'))(output)\n",
        "\n",
        "base = Model(inputs=[words_input, character_input], outputs=[output])\n",
        "model = CRFModel(base, tag_size)\n",
        "model.compile(optimizer=tf.keras.optimizers.Adam(0.001), metrics='accuracy')\n",
        "model.summary()"
      ],
      "execution_count": 141,
      "outputs": [
        {
          "output_type": "stream",
          "name": "stdout",
          "text": [
            "Model: \"crf_model_1\"\n",
            "__________________________________________________________________________________________________\n",
            " Layer (type)                   Output Shape         Param #     Connected to                     \n",
            "==================================================================================================\n",
            " char_input (InputLayer)        [(None, None, 15)]   0           []                               \n",
            "                                                                                                  \n",
            " char_embedding (TimeDistribute  (None, None, 15, 64  4736       ['char_input[0][0]']             \n",
            " d)                             )                                                                 \n",
            "                                                                                                  \n",
            " dropout_3 (Dropout)            (None, None, 15, 64  0           ['char_embedding[0][0]']         \n",
            "                                )                                                                 \n",
            "                                                                                                  \n",
            " time_distributed_7 (TimeDistri  (None, None, 15, 30  5790       ['dropout_3[0][0]']              \n",
            " buted)                         )                                                                 \n",
            "                                                                                                  \n",
            " time_distributed_8 (TimeDistri  (None, None, 1, 30)  0          ['time_distributed_7[0][0]']     \n",
            " buted)                                                                                           \n",
            "                                                                                                  \n",
            " words_input (InputLayer)       [(None, None)]       0           []                               \n",
            "                                                                                                  \n",
            " time_distributed_9 (TimeDistri  (None, None, 30)    0           ['time_distributed_8[0][0]']     \n",
            " buted)                                                                                           \n",
            "                                                                                                  \n",
            " embedding_4 (Embedding)        (None, None, 128)    4072832     ['words_input[0][0]']            \n",
            "                                                                                                  \n",
            " dropout_4 (Dropout)            (None, None, 30)     0           ['time_distributed_9[0][0]']     \n",
            "                                                                                                  \n",
            " concatenate_1 (Concatenate)    (None, None, 158)    0           ['embedding_4[0][0]',            \n",
            "                                                                  'dropout_4[0][0]']              \n",
            "                                                                                                  \n",
            " bidirectional_3 (Bidirectional  (None, None, 512)   849920      ['concatenate_1[0][0]']          \n",
            " )                                                                                                \n",
            "                                                                                                  \n",
            " time_distributed_10 (TimeDistr  (None, None, 18)    9234        ['bidirectional_3[0][0]']        \n",
            " ibuted)                                                                                          \n",
            "                                                                                                  \n",
            " crf_1 (CRF)                    [(None, None),       702         ['time_distributed_10[0][0]']    \n",
            "                                 (None, None, 18),                                                \n",
            "                                 (None,),                                                         \n",
            "                                 (18, 18)]                                                        \n",
            "                                                                                                  \n",
            " decode_sequence (Lambda)       (None, None)         0           ['crf_1[0][0]']                  \n",
            "                                                                                                  \n",
            " potentials (Lambda)            (None, None, 18)     0           ['crf_1[0][1]']                  \n",
            "                                                                                                  \n",
            " sequence_length (Lambda)       (None,)              0           ['crf_1[0][2]']                  \n",
            "                                                                                                  \n",
            " kernel (Lambda)                (18, 18)             0           ['crf_1[0][3]']                  \n",
            "                                                                                                  \n",
            "==================================================================================================\n",
            "Total params: 4,943,214\n",
            "Trainable params: 4,943,214\n",
            "Non-trainable params: 0\n",
            "__________________________________________________________________________________________________\n"
          ]
        }
      ]
    },
    {
      "cell_type": "code",
      "metadata": {
        "id": "sCEFX2WR-Far"
      },
      "source": [
        "es = EarlyStopping(monitor='val_loss', mode='min', verbose=1, patience=4)\n",
        "mc = ModelCheckpoint('bilstm_cnn_crf/cp.ckpt', monitor='val_decode_sequence_accuracy', mode='max', verbose=1, save_best_only=True, save_weights_only=True)"
      ],
      "execution_count": 142,
      "outputs": []
    },
    {
      "cell_type": "code",
      "metadata": {
        "colab": {
          "base_uri": "https://localhost:8080/"
        },
        "id": "bMIECQqU-MOR",
        "outputId": "de46d492-2aa3-4900-adce-cb2635acc0b7"
      },
      "source": [
        "history = model.fit([X_train, X_char_train], y_train_int, batch_size=128, epochs=15, validation_split=0.1, callbacks=[mc, es])"
      ],
      "execution_count": 143,
      "outputs": [
        {
          "output_type": "stream",
          "name": "stdout",
          "text": [
            "Epoch 1/15\n",
            "270/270 [==============================] - ETA: 0s - decode_sequence_accuracy: 0.9463 - loss: 17.0475\n",
            "Epoch 1: val_decode_sequence_accuracy improved from -inf to 0.96994, saving model to bilstm_cnn_crf/cp.ckpt\n",
            "270/270 [==============================] - 82s 277ms/step - decode_sequence_accuracy: 0.9463 - loss: 17.0121 - val_decode_sequence_accuracy: 0.9699 - val_loss: 7.4618\n",
            "Epoch 2/15\n",
            "270/270 [==============================] - ETA: 0s - decode_sequence_accuracy: 0.9782 - loss: 5.1288\n",
            "Epoch 2: val_decode_sequence_accuracy improved from 0.96994 to 0.98334, saving model to bilstm_cnn_crf/cp.ckpt\n",
            "270/270 [==============================] - 60s 223ms/step - decode_sequence_accuracy: 0.9782 - loss: 5.1233 - val_decode_sequence_accuracy: 0.9833 - val_loss: 3.9400\n",
            "Epoch 3/15\n",
            "270/270 [==============================] - ETA: 0s - decode_sequence_accuracy: 0.9859 - loss: 3.0822\n",
            "Epoch 3: val_decode_sequence_accuracy improved from 0.98334 to 0.98550, saving model to bilstm_cnn_crf/cp.ckpt\n",
            "270/270 [==============================] - 57s 210ms/step - decode_sequence_accuracy: 0.9859 - loss: 3.0829 - val_decode_sequence_accuracy: 0.9855 - val_loss: 3.0623\n",
            "Epoch 4/15\n",
            "270/270 [==============================] - ETA: 0s - decode_sequence_accuracy: 0.9880 - loss: 2.4041\n",
            "Epoch 4: val_decode_sequence_accuracy improved from 0.98550 to 0.98652, saving model to bilstm_cnn_crf/cp.ckpt\n",
            "270/270 [==============================] - 55s 202ms/step - decode_sequence_accuracy: 0.9880 - loss: 2.4011 - val_decode_sequence_accuracy: 0.9865 - val_loss: 2.6718\n",
            "Epoch 5/15\n",
            "270/270 [==============================] - ETA: 0s - decode_sequence_accuracy: 0.9891 - loss: 2.0386\n",
            "Epoch 5: val_decode_sequence_accuracy did not improve from 0.98652\n",
            "270/270 [==============================] - 53s 195ms/step - decode_sequence_accuracy: 0.9891 - loss: 2.0395 - val_decode_sequence_accuracy: 0.9864 - val_loss: 2.6028\n",
            "Epoch 6/15\n",
            "270/270 [==============================] - ETA: 0s - decode_sequence_accuracy: 0.9899 - loss: 1.8041\n",
            "Epoch 6: val_decode_sequence_accuracy improved from 0.98652 to 0.98655, saving model to bilstm_cnn_crf/cp.ckpt\n",
            "270/270 [==============================] - 53s 197ms/step - decode_sequence_accuracy: 0.9899 - loss: 1.8056 - val_decode_sequence_accuracy: 0.9866 - val_loss: 2.5731\n",
            "Epoch 7/15\n",
            "270/270 [==============================] - ETA: 0s - decode_sequence_accuracy: 0.9904 - loss: 1.6397\n",
            "Epoch 7: val_decode_sequence_accuracy improved from 0.98655 to 0.98668, saving model to bilstm_cnn_crf/cp.ckpt\n",
            "270/270 [==============================] - 51s 190ms/step - decode_sequence_accuracy: 0.9904 - loss: 1.6403 - val_decode_sequence_accuracy: 0.9867 - val_loss: 2.5749\n",
            "Epoch 8/15\n",
            "270/270 [==============================] - ETA: 0s - decode_sequence_accuracy: 0.9909 - loss: 1.4931\n",
            "Epoch 8: val_decode_sequence_accuracy improved from 0.98668 to 0.98695, saving model to bilstm_cnn_crf/cp.ckpt\n",
            "270/270 [==============================] - 53s 196ms/step - decode_sequence_accuracy: 0.9909 - loss: 1.4922 - val_decode_sequence_accuracy: 0.9870 - val_loss: 2.4591\n",
            "Epoch 9/15\n",
            "270/270 [==============================] - ETA: 0s - decode_sequence_accuracy: 0.9913 - loss: 1.3633\n",
            "Epoch 9: val_decode_sequence_accuracy did not improve from 0.98695\n",
            "270/270 [==============================] - 53s 198ms/step - decode_sequence_accuracy: 0.9913 - loss: 1.3625 - val_decode_sequence_accuracy: 0.9867 - val_loss: 2.5616\n",
            "Epoch 10/15\n",
            "270/270 [==============================] - ETA: 0s - decode_sequence_accuracy: 0.9916 - loss: 1.2646\n",
            "Epoch 10: val_decode_sequence_accuracy did not improve from 0.98695\n",
            "270/270 [==============================] - 53s 197ms/step - decode_sequence_accuracy: 0.9916 - loss: 1.2647 - val_decode_sequence_accuracy: 0.9867 - val_loss: 2.5348\n",
            "Epoch 11/15\n",
            "270/270 [==============================] - ETA: 0s - decode_sequence_accuracy: 0.9919 - loss: 1.1778\n",
            "Epoch 11: val_decode_sequence_accuracy did not improve from 0.98695\n",
            "270/270 [==============================] - 52s 192ms/step - decode_sequence_accuracy: 0.9919 - loss: 1.1779 - val_decode_sequence_accuracy: 0.9866 - val_loss: 2.6441\n",
            "Epoch 12/15\n",
            "270/270 [==============================] - ETA: 0s - decode_sequence_accuracy: 0.9921 - loss: 1.1098\n",
            "Epoch 12: val_decode_sequence_accuracy did not improve from 0.98695\n",
            "270/270 [==============================] - 53s 196ms/step - decode_sequence_accuracy: 0.9921 - loss: 1.1101 - val_decode_sequence_accuracy: 0.9864 - val_loss: 2.6819\n",
            "Epoch 12: early stopping\n"
          ]
        }
      ]
    },
    {
      "cell_type": "code",
      "metadata": {
        "colab": {
          "base_uri": "https://localhost:8080/"
        },
        "id": "2UGaqpkrHozN",
        "outputId": "f1da95a4-b5e8-4610-a080-b6c8fd607ffb"
      },
      "source": [
        "model.load_weights('bilstm_cnn_crf/cp.ckpt')"
      ],
      "execution_count": 144,
      "outputs": [
        {
          "output_type": "execute_result",
          "data": {
            "text/plain": [
              "<tensorflow.python.checkpoint.checkpoint.CheckpointLoadStatus at 0x7f59b4d99ae0>"
            ]
          },
          "metadata": {},
          "execution_count": 144
        }
      ]
    },
    {
      "cell_type": "code",
      "metadata": {
        "colab": {
          "base_uri": "https://localhost:8080/"
        },
        "id": "rXYnKtBgHq6g",
        "outputId": "dc81e33d-1f52-4626-b8eb-bb64eaef29dd"
      },
      "source": [
        "i = 13 # 확인하고 싶은 테스트용 샘플의 인덱스.\n",
        "\n",
        "# 입력한 테스트용 샘플에 대해서 예측 y를 리턴\n",
        "y_predicted = model.predict([np.array([X_test[i]]), np.array([X_char_test[i]])])[0] \n",
        "true = np.argmax(y_test[i], -1) # 원-핫 벡터를 정수 인코딩으로 변경.\n",
        "\n",
        "print(\"{:15}|{:5}|{}\".format(\"단어\", \"실제값\", \"예측값\"))\n",
        "print(35 * \"-\")\n",
        "\n",
        "for word, tag, pred in zip(X_test[i], true, y_predicted[0]):\n",
        "    if word != 0: # PAD값은 제외함.\n",
        "        print(\"{:17}: {:7} {}\".format(index_to_word[word], index_to_ner[tag], index_to_ner[pred]))"
      ],
      "execution_count": 145,
      "outputs": [
        {
          "output_type": "stream",
          "name": "stdout",
          "text": [
            "1/1 [==============================] - 1s 1s/step\n",
            "단어             |실제값  |예측값\n",
            "-----------------------------------\n",
            "the              : O       O\n",
            "statement        : O       O\n",
            "came             : O       O\n",
            "as               : O       O\n",
            "u.n.             : B-org   B-org\n",
            "secretary-general: I-org   I-org\n",
            "kofi             : B-per   B-per\n",
            "annan            : I-per   I-per\n",
            "met              : O       O\n",
            "with             : O       O\n",
            "officials        : O       O\n",
            "in               : O       O\n",
            "amman            : B-geo   B-geo\n",
            "to               : O       O\n",
            "discuss          : O       O\n",
            "wednesday        : B-tim   B-tim\n",
            "'s               : O       O\n",
            "attacks          : O       O\n",
            ".                : O       O\n"
          ]
        }
      ]
    },
    {
      "cell_type": "code",
      "metadata": {
        "colab": {
          "base_uri": "https://localhost:8080/",
          "height": 472
        },
        "id": "W3WPtK5HIZsz",
        "outputId": "18a3aed5-c11e-4525-e68f-795401822efd"
      },
      "source": [
        "epochs = range(1, len(history.history['val_loss']) + 1)\n",
        "plt.plot(epochs, history.history['loss'])\n",
        "plt.plot(epochs, history.history['val_loss'])\n",
        "plt.title('model loss')\n",
        "plt.ylabel('loss')\n",
        "plt.xlabel('epoch')\n",
        "plt.legend(['train', 'val'], loc='upper left')\n",
        "plt.show()"
      ],
      "execution_count": 146,
      "outputs": [
        {
          "output_type": "display_data",
          "data": {
            "text/plain": [
              "<Figure size 640x480 with 1 Axes>"
            ],
            "image/png": "[encoded data removed]"
          },
          "metadata": {}
        }
      ]
    },
    {
      "cell_type": "code",
      "metadata": {
        "id": "YNAv4VRvIcuh",
        "outputId": "376853dd-da3f-42e1-ff29-3bd13df56f24",
        "colab": {
          "base_uri": "https://localhost:8080/"
        }
      },
      "source": [
        "y_predicted = model.predict([X_test, X_char_test])[0]\n",
        "pred_tags = sequences_to_tag_for_crf(y_predicted)\n",
        "test_tags = sequences_to_tag(y_test)"
      ],
      "execution_count": 147,
      "outputs": [
        {
          "output_type": "stream",
          "name": "stdout",
          "text": [
            "300/300 [==============================] - 16s 54ms/step\n"
          ]
        }
      ]
    },
    {
      "cell_type": "code",
      "metadata": {
        "colab": {
          "base_uri": "https://localhost:8080/"
        },
        "id": "x0IAko4RtUQJ",
        "outputId": "9d1cbae0-fefa-4d9b-f7bf-3f76d5c35c62"
      },
      "source": [
        "print(classification_report(test_tags, pred_tags))"
      ],
      "execution_count": 148,
      "outputs": [
        {
          "output_type": "stream",
          "name": "stdout",
          "text": [
            "              precision    recall  f1-score   support\n",
            "\n",
            "         art       0.00      0.00      0.00        63\n",
            "         eve       0.68      0.25      0.37        52\n",
            "         geo       0.85      0.85      0.85      7620\n",
            "         gpe       0.95      0.95      0.95      3145\n",
            "         nat       0.45      0.27      0.34        37\n",
            "         org       0.66      0.59      0.62      4033\n",
            "         per       0.77      0.76      0.77      3545\n",
            "         tim       0.90      0.83      0.86      4067\n",
            "\n",
            "   micro avg       0.83      0.79      0.81     22562\n",
            "   macro avg       0.66      0.56      0.59     22562\n",
            "weighted avg       0.82      0.79      0.81     22562\n",
            "\n"
          ]
        }
      ]
    },
    {
      "cell_type": "markdown",
      "metadata": {
        "id": "3g-LplBROnDt"
      },
      "source": [
        "## 성능"
      ]
    },
    {
      "cell_type": "code",
      "metadata": {
        "colab": {
          "base_uri": "https://localhost:8080/"
        },
        "id": "fToBbGDztaGI",
        "outputId": "3753a284-52b6-4c7d-f125-8b67a184fabb"
      },
      "source": [
        "print(\"F1-score: {:.1%}\".format(f1_score(test_tags, pred_tags)))"
      ],
      "execution_count": 149,
      "outputs": [
        {
          "output_type": "stream",
          "name": "stdout",
          "text": [
            "F1-score: 81.1%\n"
          ]
        }
      ]
    },
    {
      "cell_type": "markdown",
      "metadata": {
        "id": "UN97GyqEw8oG"
      },
      "source": [
        "# BiLSTM-BiLSTM-CRF을 이용한 개체명 인식"
      ]
    },
    {
      "cell_type": "markdown",
      "metadata": {
        "id": "utbrWJnSOp5s"
      },
      "source": [
        "## 모델링"
      ]
    },
    {
      "cell_type": "code",
      "metadata": {
        "colab": {
          "base_uri": "https://localhost:8080/"
        },
        "id": "Mif6bSyT5OXS",
        "outputId": "b7f9cad3-15d6-4b1f-bcc5-917d82cee42e"
      },
      "source": [
        "embedding_dim = 128\n",
        "char_embedding_dim = 64\n",
        "dropout_ratio = 0.3\n",
        "hidden_units = 64\n",
        "\n",
        "word_ids = Input(batch_shape=(None, None), dtype='int32', name='word_input')\n",
        "word_embeddings = Embedding(input_dim=vocab_size,\n",
        "                                        output_dim=embedding_dim,\n",
        "                                        name='word_embedding')(word_ids)\n",
        "\n",
        "char_ids = Input(batch_shape=(None, None, None), dtype='int32', name='char_input')\n",
        "char_embeddings = Embedding(input_dim=(len(char_to_index)),\n",
        "                                        output_dim=char_embedding_dim,\n",
        "                                        embeddings_initializer=RandomUniform(minval=-0.5, maxval=0.5),\n",
        "                                        name='char_embedding')(char_ids)\n",
        "\n",
        "char_embeddings = TimeDistributed(Bidirectional(LSTM(hidden_units)))(char_embeddings)\n",
        "word_embeddings = concatenate([word_embeddings, char_embeddings])\n",
        "\n",
        "word_embeddings = Dropout(dropout_ratio)(word_embeddings)\n",
        "output = Bidirectional(LSTM(units=hidden_units, return_sequences=True))(word_embeddings)\n",
        "output = TimeDistributed(Dense(tag_size, activation='relu'))(output)\n",
        "\n",
        "base = Model(inputs=[word_ids, char_ids], outputs=[output])\n",
        "model = CRFModel(base, tag_size)\n",
        "model.compile(optimizer=tf.keras.optimizers.Adam(0.001), metrics='accuracy')\n",
        "\n",
        "model.summary()"
      ],
      "execution_count": 150,
      "outputs": [
        {
          "output_type": "stream",
          "name": "stdout",
          "text": [
            "Model: \"crf_model_2\"\n",
            "__________________________________________________________________________________________________\n",
            " Layer (type)                   Output Shape         Param #     Connected to                     \n",
            "==================================================================================================\n",
            " char_input (InputLayer)        [(None, None, None)  0           []                               \n",
            "                                ]                                                                 \n",
            "                                                                                                  \n",
            " word_input (InputLayer)        [(None, None)]       0           []                               \n",
            "                                                                                                  \n",
            " char_embedding (Embedding)     (None, None, None,   4736        ['char_input[0][0]']             \n",
            "                                64)                                                               \n",
            "                                                                                                  \n",
            " word_embedding (Embedding)     (None, None, 128)    4072832     ['word_input[0][0]']             \n",
            "                                                                                                  \n",
            " time_distributed_11 (TimeDistr  (None, None, 128)   66048       ['char_embedding[0][0]']         \n",
            " ibuted)                                                                                          \n",
            "                                                                                                  \n",
            " concatenate_2 (Concatenate)    (None, None, 256)    0           ['word_embedding[0][0]',         \n",
            "                                                                  'time_distributed_11[0][0]']    \n",
            "                                                                                                  \n",
            " dropout_5 (Dropout)            (None, None, 256)    0           ['concatenate_2[0][0]']          \n",
            "                                                                                                  \n",
            " bidirectional_5 (Bidirectional  (None, None, 128)   164352      ['dropout_5[0][0]']              \n",
            " )                                                                                                \n",
            "                                                                                                  \n",
            " time_distributed_12 (TimeDistr  (None, None, 18)    2322        ['bidirectional_5[0][0]']        \n",
            " ibuted)                                                                                          \n",
            "                                                                                                  \n",
            " crf_2 (CRF)                    [(None, None),       702         ['time_distributed_12[0][0]']    \n",
            "                                 (None, None, 18),                                                \n",
            "                                 (None,),                                                         \n",
            "                                 (18, 18)]                                                        \n",
            "                                                                                                  \n",
            " decode_sequence (Lambda)       (None, None)         0           ['crf_2[0][0]']                  \n",
            "                                                                                                  \n",
            " potentials (Lambda)            (None, None, 18)     0           ['crf_2[0][1]']                  \n",
            "                                                                                                  \n",
            " sequence_length (Lambda)       (None,)              0           ['crf_2[0][2]']                  \n",
            "                                                                                                  \n",
            " kernel (Lambda)                (18, 18)             0           ['crf_2[0][3]']                  \n",
            "                                                                                                  \n",
            "==================================================================================================\n",
            "Total params: 4,310,992\n",
            "Trainable params: 4,310,992\n",
            "Non-trainable params: 0\n",
            "__________________________________________________________________________________________________\n"
          ]
        }
      ]
    },
    {
      "cell_type": "code",
      "metadata": {
        "id": "D1RNtqNNK6Th"
      },
      "source": [
        "es = EarlyStopping(monitor='val_loss', mode='min', verbose=1, patience=4)\n",
        "mc = ModelCheckpoint('bilstm_bilstm_crf/cp.ckpt', monitor='val_decode_sequence_accuracy', mode='max', verbose=1, save_best_only=True, save_weights_only=True)"
      ],
      "execution_count": 151,
      "outputs": []
    },
    {
      "cell_type": "code",
      "metadata": {
        "colab": {
          "base_uri": "https://localhost:8080/"
        },
        "id": "Wl9dIPsIzW-m",
        "outputId": "8b3747ba-80b7-4cd2-dd34-1a05efe06720"
      },
      "source": [
        "history = model.fit([X_train, X_char_train], y_train_int, batch_size=128, epochs=15, validation_split=0.1, callbacks=[mc, es])"
      ],
      "execution_count": 152,
      "outputs": [
        {
          "output_type": "stream",
          "name": "stdout",
          "text": [
            "Epoch 1/15\n",
            "270/270 [==============================] - ETA: 0s - decode_sequence_accuracy: 0.9310 - loss: 21.6554\n",
            "Epoch 1: val_decode_sequence_accuracy improved from -inf to 0.97254, saving model to bilstm_bilstm_crf/cp.ckpt\n",
            "270/270 [==============================] - 90s 296ms/step - decode_sequence_accuracy: 0.9310 - loss: 21.5978 - val_decode_sequence_accuracy: 0.9725 - val_loss: 7.1533\n",
            "Epoch 2/15\n",
            "270/270 [==============================] - ETA: 0s - decode_sequence_accuracy: 0.9806 - loss: 4.7508\n",
            "Epoch 2: val_decode_sequence_accuracy improved from 0.97254 to 0.98448, saving model to bilstm_bilstm_crf/cp.ckpt\n",
            "270/270 [==============================] - 55s 203ms/step - decode_sequence_accuracy: 0.9806 - loss: 4.7475 - val_decode_sequence_accuracy: 0.9845 - val_loss: 3.5685\n",
            "Epoch 3/15\n",
            "270/270 [==============================] - ETA: 0s - decode_sequence_accuracy: 0.9868 - loss: 2.8776\n",
            "Epoch 3: val_decode_sequence_accuracy improved from 0.98448 to 0.98602, saving model to bilstm_bilstm_crf/cp.ckpt\n",
            "270/270 [==============================] - 53s 197ms/step - decode_sequence_accuracy: 0.9868 - loss: 2.8779 - val_decode_sequence_accuracy: 0.9860 - val_loss: 2.8141\n",
            "Epoch 4/15\n",
            "270/270 [==============================] - ETA: 0s - decode_sequence_accuracy: 0.9890 - loss: 2.2234\n",
            "Epoch 4: val_decode_sequence_accuracy improved from 0.98602 to 0.98683, saving model to bilstm_bilstm_crf/cp.ckpt\n",
            "270/270 [==============================] - 53s 198ms/step - decode_sequence_accuracy: 0.9890 - loss: 2.2226 - val_decode_sequence_accuracy: 0.9868 - val_loss: 2.6034\n",
            "Epoch 5/15\n",
            "270/270 [==============================] - ETA: 0s - decode_sequence_accuracy: 0.9901 - loss: 1.8918\n",
            "Epoch 5: val_decode_sequence_accuracy improved from 0.98683 to 0.98684, saving model to bilstm_bilstm_crf/cp.ckpt\n",
            "270/270 [==============================] - 54s 199ms/step - decode_sequence_accuracy: 0.9901 - loss: 1.8924 - val_decode_sequence_accuracy: 0.9868 - val_loss: 2.5532\n",
            "Epoch 6/15\n",
            "270/270 [==============================] - ETA: 0s - decode_sequence_accuracy: 0.9908 - loss: 1.6557\n",
            "Epoch 6: val_decode_sequence_accuracy did not improve from 0.98684\n",
            "270/270 [==============================] - 52s 191ms/step - decode_sequence_accuracy: 0.9908 - loss: 1.6565 - val_decode_sequence_accuracy: 0.9865 - val_loss: 2.6057\n",
            "Epoch 7/15\n",
            "270/270 [==============================] - ETA: 0s - decode_sequence_accuracy: 0.9914 - loss: 1.4852\n",
            "Epoch 7: val_decode_sequence_accuracy improved from 0.98684 to 0.98698, saving model to bilstm_bilstm_crf/cp.ckpt\n",
            "270/270 [==============================] - 52s 192ms/step - decode_sequence_accuracy: 0.9914 - loss: 1.4879 - val_decode_sequence_accuracy: 0.9870 - val_loss: 2.6379\n",
            "Epoch 8/15\n",
            "270/270 [==============================] - ETA: 0s - decode_sequence_accuracy: 0.9919 - loss: 1.3423\n",
            "Epoch 8: val_decode_sequence_accuracy did not improve from 0.98698\n",
            "270/270 [==============================] - 53s 198ms/step - decode_sequence_accuracy: 0.9919 - loss: 1.3414 - val_decode_sequence_accuracy: 0.9865 - val_loss: 2.7126\n",
            "Epoch 9/15\n",
            "270/270 [==============================] - ETA: 0s - decode_sequence_accuracy: 0.9924 - loss: 1.2139\n",
            "Epoch 9: val_decode_sequence_accuracy did not improve from 0.98698\n",
            "270/270 [==============================] - 51s 189ms/step - decode_sequence_accuracy: 0.9924 - loss: 1.2139 - val_decode_sequence_accuracy: 0.9866 - val_loss: 2.7241\n",
            "Epoch 9: early stopping\n"
          ]
        }
      ]
    },
    {
      "cell_type": "code",
      "metadata": {
        "colab": {
          "base_uri": "https://localhost:8080/"
        },
        "id": "DZcu-pPrNqpz",
        "outputId": "44ca374c-d394-4046-be6a-7152ba27c1e9"
      },
      "source": [
        "model.load_weights('bilstm_bilstm_crf/cp.ckpt')"
      ],
      "execution_count": 153,
      "outputs": [
        {
          "output_type": "execute_result",
          "data": {
            "text/plain": [
              "<tensorflow.python.checkpoint.checkpoint.CheckpointLoadStatus at 0x7f59c2c39fc0>"
            ]
          },
          "metadata": {},
          "execution_count": 153
        }
      ]
    },
    {
      "cell_type": "code",
      "metadata": {
        "colab": {
          "base_uri": "https://localhost:8080/"
        },
        "id": "T_ECUaJ2Nuoj",
        "outputId": "9765149c-3e1b-4e8e-f766-794ac6030333"
      },
      "source": [
        "i = 13 # 확인하고 싶은 테스트용 샘플의 인덱스.\n",
        "\n",
        "# 입력한 테스트용 샘플에 대해서 예측 y를 리턴\n",
        "y_predicted = model.predict([np.array([X_test[i]]), np.array([X_char_test[i]])])[0]\n",
        "true = np.argmax(y_test[i], -1) # 원-핫 벡터를 정수 인코딩으로 변경.\n",
        "\n",
        "print(\"{:15}|{:5}|{}\".format(\"단어\", \"실제값\", \"예측값\"))\n",
        "print(35 * \"-\")\n",
        "\n",
        "for word, tag, pred in zip(X_test[i], true, y_predicted[0]):\n",
        "    if word != 0: # PAD값은 제외함.\n",
        "        print(\"{:17}: {:7} {}\".format(index_to_word[word], index_to_ner[tag], index_to_ner[pred]))"
      ],
      "execution_count": 154,
      "outputs": [
        {
          "output_type": "stream",
          "name": "stdout",
          "text": [
            "1/1 [==============================] - 2s 2s/step\n",
            "단어             |실제값  |예측값\n",
            "-----------------------------------\n",
            "the              : O       O\n",
            "statement        : O       O\n",
            "came             : O       O\n",
            "as               : O       O\n",
            "u.n.             : B-org   B-org\n",
            "secretary-general: I-org   I-org\n",
            "kofi             : B-per   B-per\n",
            "annan            : I-per   I-per\n",
            "met              : O       O\n",
            "with             : O       O\n",
            "officials        : O       O\n",
            "in               : O       O\n",
            "amman            : B-geo   B-geo\n",
            "to               : O       O\n",
            "discuss          : O       O\n",
            "wednesday        : B-tim   B-tim\n",
            "'s               : O       O\n",
            "attacks          : O       O\n",
            ".                : O       O\n"
          ]
        }
      ]
    },
    {
      "cell_type": "code",
      "metadata": {
        "colab": {
          "base_uri": "https://localhost:8080/",
          "height": 472
        },
        "id": "3JeErjaCNyp6",
        "outputId": "61723f66-4deb-4e33-ae85-fb9eee41ff9e"
      },
      "source": [
        "epochs = range(1, len(history.history['val_loss']) + 1)\n",
        "plt.plot(epochs, history.history['loss'])\n",
        "plt.plot(epochs, history.history['val_loss'])\n",
        "plt.title('model loss')\n",
        "plt.ylabel('loss')\n",
        "plt.xlabel('epoch')\n",
        "plt.legend(['train', 'val'], loc='upper left')\n",
        "plt.show()"
      ],
      "execution_count": 155,
      "outputs": [
        {
          "output_type": "display_data",
          "data": {
            "text/plain": [
              "<Figure size 640x480 with 1 Axes>"
            ],
            "image/png": "[encoded data removed]"
          },
          "metadata": {}
        }
      ]
    },
    {
      "cell_type": "code",
      "metadata": {
        "id": "hX3VzmGeN2Ay",
        "outputId": "2a307e5f-91cb-48af-b839-9f8d5dcdf8fb",
        "colab": {
          "base_uri": "https://localhost:8080/"
        }
      },
      "source": [
        "y_predicted = model.predict([X_test, X_char_test])[0]\n",
        "pred_tags = sequences_to_tag_for_crf(y_predicted)\n",
        "test_tags = sequences_to_tag(y_test)"
      ],
      "execution_count": 156,
      "outputs": [
        {
          "output_type": "stream",
          "name": "stdout",
          "text": [
            "300/300 [==============================] - 16s 55ms/step\n"
          ]
        }
      ]
    },
    {
      "cell_type": "code",
      "metadata": {
        "colab": {
          "base_uri": "https://localhost:8080/"
        },
        "id": "nk1jkfQUN5G6",
        "outputId": "e9123ab4-879e-4793-a285-a5e70c26cef7"
      },
      "source": [
        "print(classification_report(test_tags, pred_tags))"
      ],
      "execution_count": 157,
      "outputs": [
        {
          "output_type": "stream",
          "name": "stdout",
          "text": [
            "              precision    recall  f1-score   support\n",
            "\n",
            "         art       0.00      0.00      0.00        63\n",
            "         eve       0.52      0.25      0.34        52\n",
            "         geo       0.82      0.88      0.85      7620\n",
            "         gpe       0.96      0.94      0.95      3145\n",
            "         nat       0.40      0.11      0.17        37\n",
            "         org       0.68      0.57      0.62      4033\n",
            "         per       0.78      0.75      0.76      3545\n",
            "         tim       0.86      0.85      0.86      4067\n",
            "\n",
            "   micro avg       0.82      0.80      0.81     22562\n",
            "   macro avg       0.63      0.54      0.57     22562\n",
            "weighted avg       0.81      0.80      0.81     22562\n",
            "\n"
          ]
        }
      ]
    },
    {
      "cell_type": "markdown",
      "metadata": {
        "id": "gadtb_rmOrcf"
      },
      "source": [
        "## 성능"
      ]
    },
    {
      "cell_type": "code",
      "metadata": {
        "colab": {
          "base_uri": "https://localhost:8080/"
        },
        "id": "aP1jPe10AIqb",
        "outputId": "875130bb-e63e-4e63-89d0-10d5f6a8d029"
      },
      "source": [
        "print(\"F1-score: {:.1%}\".format(f1_score(test_tags, pred_tags)))"
      ],
      "execution_count": 158,
      "outputs": [
        {
          "output_type": "stream",
          "name": "stdout",
          "text": [
            "F1-score: 81.1%\n"
          ]
        }
      ]
    }
  ]
}