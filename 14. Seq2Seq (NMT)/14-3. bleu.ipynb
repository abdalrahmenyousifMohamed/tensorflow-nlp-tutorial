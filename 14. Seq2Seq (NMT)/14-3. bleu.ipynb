{
  "nbformat": 4,
  "nbformat_minor": 0,
  "metadata": {
    "colab": {
      "name": "BLEU.ipynb",
      "provenance": []
    },
    "kernelspec": {
      "name": "python3",
      "display_name": "Python 3"
    }
  },
  "cells": [
    {
      "cell_type": "markdown",
      "metadata": {
        "id": "tMsvn7zofJ9l"
      },
      "source": [
        "이 자료는 2021년 12월 14일에 마지막으로 테스트되었습니다."
      ]
    },
    {
      "cell_type": "markdown",
      "metadata": {
        "id": "jcj3rsAPfNpK"
      },
      "source": [
        "이 자료는 위키독스 '딥 러닝을 이용한 자연어 처리 입문'에서 BLEU 구현하기 튜토리얼입니다.  \n",
        "링크 : https://wikidocs.net/31695"
      ]
    },
    {
      "cell_type": "code",
      "metadata": {
        "id": "BEmcPqJXeqaG"
      },
      "source": [
        "import numpy as np\n",
        "from collections import Counter\n",
        "from nltk import ngrams"
      ],
      "execution_count": 1,
      "outputs": []
    },
    {
      "cell_type": "code",
      "metadata": {
        "id": "sOyxrqAKerti"
      },
      "source": [
        "# count n-grams in tokens\n",
        "def simple_count(tokens, n):\n",
        "  return Counter(ngrams(tokens, n))"
      ],
      "execution_count": 3,
      "outputs": []
    },
    {
      "cell_type": "code",
      "metadata": {
        "colab": {
          "base_uri": "https://localhost:8080/"
        },
        "id": "0Tfao6sses3J",
        "outputId": "9c422727-f580-4c67-e85c-8f30d54fe7f4"
      },
      "source": [
        "candidate = \"It is a guide to action which ensures that the military always obeys the commands of the party.\"\n",
        "tokens = candidate.split() # Tokenization\n",
        "print('tokens \\ :',tokens)\n",
        "\n",
        "result = simple_count(tokens, 1) # n = 1 is a unigram\n",
        "\n",
        "print('unigram count :',result)"
      ],
      "execution_count": 4,
      "outputs": [
        {
          "output_type": "stream",
          "name": "stdout",
          "text": [
            "tokens \\ : ['It', 'is', 'a', 'guide', 'to', 'action', 'which', 'ensures', 'that', 'the', 'military', 'always', 'obeys', 'the', 'commands', 'of', 'the', 'party.']\n",
            "unigram count : Counter({('the',): 3, ('It',): 1, ('is',): 1, ('a',): 1, ('guide',): 1, ('to',): 1, ('action',): 1, ('which',): 1, ('ensures',): 1, ('that',): 1, ('military',): 1, ('always',): 1, ('obeys',): 1, ('commands',): 1, ('of',): 1, ('party.',): 1})\n"
          ]
        }
      ]
    },
    {
      "cell_type": "code",
      "metadata": {
        "colab": {
          "base_uri": "https://localhost:8080/"
        },
        "id": "gpUneYLLetiR",
        "outputId": "02b2496b-60d0-439f-fc28-80a8c024219b"
      },
      "source": [
        "candidate = 'the the the the the the the'\n",
        "tokens = candidate.split() # Tokenization\n",
        "result = simple_count(tokens, 1) # n = 1 is a unigram\n",
        "print('unigram count :',result)"
      ],
      "execution_count": 5,
      "outputs": [
        {
          "output_type": "stream",
          "name": "stdout",
          "text": [
            "unigram count : Counter({('the',): 7})\n"
          ]
        }
      ]
    },
    {
      "cell_type": "code",
      "metadata": {
        "id": "8-_85DbjeuiJ"
      },
      "source": [
        "def count_clip(candidate, reference_list, n):\n",
        " # n-gram count in Ca sentence\n",
        "  ca_cnt = simple_count(candidate, n)\n",
        "  max_ref_cnt_dict = dict()\n",
        "\n",
        "  for ref in reference_list: \n",
        "# n-gram count in Ref statement\n",
        "    ref_cnt = simple_count(ref, n)\n",
        "\n",
        "    \n",
        "# Calculate the maximum number of occurrences of n-grams by comparing each Ref sentence.\n",
        "    for n_gram in ref_cnt:\n",
        "      if n_gram in max_ref_cnt_dict:\n",
        "        max_ref_cnt_dict[n_gram] = max(ref_cnt[n_gram], max_ref_cnt_dict[n_gram])\n",
        "      else:\n",
        "        max_ref_cnt_dict[n_gram] = ref_cnt[n_gram]\n",
        "\n",
        "  return {\n",
        "        # count_clip = min(count, max_ref_count)\n",
        "        n_gram: min(ca_cnt.get(n_gram, 0), max_ref_cnt_dict.get(n_gram, 0)) for n_gram in ca_cnt\n",
        "     }"
      ],
      "execution_count": 31,
      "outputs": []
    },
    {
      "cell_type": "code",
      "metadata": {
        "colab": {
          "base_uri": "https://localhost:8080/"
        },
        "id": "VxvQs1uAev55",
        "outputId": "e6a5b640-880c-4914-9e2b-13f2b27a52bd"
      },
      "source": [
        "candidate = 'the the the the the the the'\n",
        "references = [\n",
        "    'the cat is on the mat',\n",
        "    'there is a cat on the mat'\n",
        "]\n",
        "result = count_clip(candidate.split(),list(map(lambda ref: ref.split(), references)),1)\n",
        "print('Calibrated unigram count :',result)"
      ],
      "execution_count": 32,
      "outputs": [
        {
          "output_type": "stream",
          "name": "stdout",
          "text": [
            "n-gram count in ca_cnt statement : Counter({('the',): 7})\n",
            "n-gram count in Ref statement : Counter({('the',): 2, ('cat',): 1, ('is',): 1, ('on',): 1, ('mat',): 1})\n",
            "('the',)\n",
            "('cat',)\n",
            "('is',)\n",
            "('on',)\n",
            "('mat',)\n",
            "n-gram count in Ref statement : Counter({('there',): 1, ('is',): 1, ('a',): 1, ('cat',): 1, ('on',): 1, ('the',): 1, ('mat',): 1})\n",
            "('there',)\n",
            "('is',)\n",
            "res :  {('the',): 2, ('cat',): 1, ('is',): 1, ('on',): 1, ('mat',): 1, ('there',): 1}\n",
            "('a',)\n",
            "('cat',)\n",
            "res :  {('the',): 2, ('cat',): 1, ('is',): 1, ('on',): 1, ('mat',): 1, ('there',): 1, ('a',): 1}\n",
            "('on',)\n",
            "res :  {('the',): 2, ('cat',): 1, ('is',): 1, ('on',): 1, ('mat',): 1, ('there',): 1, ('a',): 1}\n",
            "('the',)\n",
            "res :  {('the',): 2, ('cat',): 1, ('is',): 1, ('on',): 1, ('mat',): 1, ('there',): 1, ('a',): 1}\n",
            "('mat',)\n",
            "res :  {('the',): 2, ('cat',): 1, ('is',): 1, ('on',): 1, ('mat',): 1, ('there',): 1, ('a',): 1}\n",
            "n_gram  :  ('mat',)\n",
            "ca_cnt.get(n_gram, 0)  :  0\n",
            "max_ref_cnt_dict.get(n_gram, 0)  :  1\n",
            "Calibrated unigram count : {('the',): 2}\n"
          ]
        }
      ]
    },
    {
      "cell_type": "code",
      "source": [
        "[ ref.split() for ref in references]"
      ],
      "metadata": {
        "id": "gFtuskDOYzmk",
        "outputId": "86011fa1-415e-46ff-d1e6-fd341deb260d",
        "colab": {
          "base_uri": "https://localhost:8080/"
        }
      },
      "execution_count": 8,
      "outputs": [
        {
          "output_type": "execute_result",
          "data": {
            "text/plain": [
              "[['the', 'cat', 'is', 'on', 'the', 'mat'],\n",
              " ['there', 'is', 'a', 'cat', 'on', 'the', 'mat']]"
            ]
          },
          "metadata": {},
          "execution_count": 8
        }
      ]
    },
    {
      "cell_type": "code",
      "metadata": {
        "id": "orabqca5ewsp"
      },
      "source": [
        "def modified_precision(candidate, reference_list, n):\n",
        "  clip_cnt = count_clip(candidate, reference_list, n) \n",
        "  total_clip_cnt = sum(clip_cnt.values()) \n",
        "\n",
        "  cnt = simple_count(candidate, n)\n",
        "  total_cnt = sum(cnt.values())# denominator\n",
        "\n",
        "  # prevent the denominator from going to zero\n",
        "  if total_cnt == 0: \n",
        "    total_cnt = 1\n",
        "\n",
        "    # Numerator: sum of count_clip, denominator: sum of simple counts ==> corrected precision\n",
        "  return (total_clip_cnt / total_cnt)"
      ],
      "execution_count": 9,
      "outputs": []
    },
    {
      "cell_type": "code",
      "metadata": {
        "colab": {
          "base_uri": "https://localhost:8080/"
        },
        "id": "4OK2Sgk2ex15",
        "outputId": "d0be26ac-25c5-4634-b00c-d54616dd497d"
      },
      "source": [
        "result = modified_precision(candidate.split(), list(map(lambda ref: ref.split(), references)), n=1)\n",
        "print('Calibrated unigram precision :',result)"
      ],
      "execution_count": 10,
      "outputs": [
        {
          "output_type": "stream",
          "name": "stdout",
          "text": [
            "Calibrated unigram precision : 0.2857142857142857\n"
          ]
        }
      ]
    },
    {
      "cell_type": "code",
      "metadata": {
        "id": "-ql4b_9BeyjR"
      },
      "source": [
        "# Function that returns the length of Ref closest to the length of Ca\n",
        "def closest_ref_length(candidate, reference_list):\n",
        "  ca_len = len(candidate) # ca length\n",
        "  ref_lens = (len(ref) for ref in reference_list) # length of refs\n",
        "# Find the ref that minimizes the length difference and return the length of the ref\n",
        "  closest_ref_len = min(ref_lens, key=lambda ref_len: (abs(ref_len - ca_len), ref_len))\n",
        "  return closest_ref_len"
      ],
      "execution_count": 15,
      "outputs": []
    },
    {
      "cell_type": "code",
      "metadata": {
        "id": "4-crfbOcez8p"
      },
      "source": [
        "def brevity_penalty(candidate, reference_list):\n",
        "  ca_len = len(candidate)\n",
        "  ref_len = closest_ref_length(candidate, reference_list)\n",
        "\n",
        "  if ca_len > ref_len:\n",
        "    return 1\n",
        "\n",
        "  # # If candidate is empty, BP = 0 → BLEU = 0.0\n",
        "  elif ca_len == 0 :\n",
        "    return 0\n",
        "  else:\n",
        "    return np.exp(1 - ref_len/ca_len)"
      ],
      "execution_count": 12,
      "outputs": []
    },
    {
      "cell_type": "code",
      "metadata": {
        "id": "8MMy-2vCe015"
      },
      "source": [
        "def bleu_score(candidate, reference_list, weights=[0.25, 0.25, 0.25, 0.25]):\n",
        "  bp = brevity_penalty(candidate, reference_list) # # brevity penalty, BP\n",
        "\n",
        "  p_n = [modified_precision(candidate, reference_list, n=n) for n, _ in enumerate(weights,start=1)] \n",
        "  # p1, p2, p3, ..., pn\n",
        "  score = np.sum([w_i * np.log(p_i) if p_i != 0 else 0 for w_i, p_i in zip(weights, p_n)])\n",
        "  return bp * np.exp(score)"
      ],
      "execution_count": 16,
      "outputs": []
    },
    {
      "cell_type": "code",
      "metadata": {
        "colab": {
          "base_uri": "https://localhost:8080/"
        },
        "id": "41ipMxGpe1tp",
        "outputId": "8944431d-1a08-4331-9b8d-99edb32e279d"
      },
      "source": [
        "import nltk.translate.bleu_score as bleu\n",
        "\n",
        "candidate = 'It is a guide to action which ensures that the military always obeys the commands of the party'\n",
        "references = [\n",
        "    'It is a guide to action that ensures that the military will forever heed Party commands',\n",
        "    'It is the guiding principle which guarantees the military forces always being under the command of the Party',\n",
        "    'It is the practical guide for the army always to heed the directions of the party'\n",
        "]\n",
        "\n",
        "print('BLEU in practice code :',bleu_score(candidate.split(),list(map(lambda ref: ref.split(), references))))\n",
        "print('BLEU in package NLTK :',bleu.sentence_bleu(list(map(lambda ref: ref.split(), references)),candidate.split()))"
      ],
      "execution_count": 18,
      "outputs": [
        {
          "output_type": "stream",
          "name": "stdout",
          "text": [
            "BLEU in practice code : 0.5045666840058485\n",
            "BLEU in package NLTK : 0.5045666840058485\n"
          ]
        }
      ]
    },
    {
      "cell_type": "code",
      "source": [],
      "metadata": {
        "id": "8lG992FoGvKO"
      },
      "execution_count": 14,
      "outputs": []
    }
  ]
}